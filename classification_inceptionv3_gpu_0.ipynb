{
 "cells": [
  {
   "cell_type": "code",
   "execution_count": 1,
   "metadata": {},
   "outputs": [
    {
     "name": "stdout",
     "output_type": "stream",
     "text": [
      "[PhysicalDevice(name='/physical_device:GPU:0', device_type='GPU')]\n"
     ]
    }
   ],
   "source": [
    "import os\n",
    "os.environ['CUDA_VISIBLE_DEVICES'] = '0'\n",
    "\n",
    "import tensorflow as tf\n",
    "from tensorflow.keras import backend as keras_backend\n",
    "import numpy as np\n",
    "\n",
    "gpu_on = True\n",
    "\n",
    "if gpu_on :\n",
    "    gpu_devices = tf.config.experimental.list_physical_devices(\"GPU\")\n",
    "    for device in gpu_devices:\n",
    "        tf.config.experimental.set_memory_growth(device, True)\n",
    "else:\n",
    "    os.environ['CUDA_VISIBLE_DEVICES'] = '-1'\n",
    "    gpu_devices = tf.config.experimental.list_physical_devices(\"CPU\")\n",
    "\n",
    "print(gpu_devices)"
   ]
  },
  {
   "cell_type": "code",
   "execution_count": 2,
   "metadata": {
    "scrolled": true
   },
   "outputs": [
    {
     "name": "stdout",
     "output_type": "stream",
     "text": [
      "Total data num 8608 with 2 classes\n",
      "Total data num 1609 with 2 classes\n",
      "Total data num 1469 with 2 classes\n"
     ]
    }
   ],
   "source": [
    "from src.data_loader.classification import ClassifyDataloader\n",
    "from tensorflow.keras.applications.inception_v3 import preprocess_input\n",
    "from glob import glob\n",
    "\n",
    "task = \"classification\"\n",
    "data_set_name = \"detect_lvi\"\n",
    "batch_size = 8\n",
    "on_memory = False\n",
    "argumentation_proba = 0.8\n",
    "target_size = (512,512)\n",
    "interpolation = \"bilinear\"\n",
    "class_mode = \"binary\"\n",
    "# class_mode = \"categorical\"\n",
    "dtype=\"float32\"\n",
    "\n",
    "train_image_path_list = glob(f\"./datasets/{task}/{data_set_name}/train/*/*\")\n",
    "valid_image_path_list = glob(f\"./datasets/{task}/{data_set_name}/valid/*/*\")\n",
    "test_image_path_list = glob(f\"./datasets/{task}/{data_set_name}/test/*/*\")\n",
    "label_list = os.listdir(f\"./datasets/{task}/{data_set_name}/train\")\n",
    "\n",
    "label_to_index_dict = {label:index for index, label in enumerate(label_list)}\n",
    "index_to_label_dict = {index:label for index, label in enumerate(label_list)}\n",
    "\n",
    "train_data_loader = ClassifyDataloader(image_path_list=train_image_path_list,\n",
    "                                       label_to_index_dict=label_to_index_dict,\n",
    "                                       batch_size=batch_size,\n",
    "                                       on_memory=on_memory,\n",
    "                                       argumentation_proba=argumentation_proba,\n",
    "                                       preprocess_input=preprocess_input,\n",
    "                                       target_size=target_size,\n",
    "                                       interpolation=interpolation,\n",
    "                                       shuffle=True,\n",
    "                                       class_mode=class_mode,\n",
    "                                       dtype=dtype\n",
    ")\n",
    "valid_data_loader = ClassifyDataloader(image_path_list=valid_image_path_list,\n",
    "                                       label_to_index_dict=label_to_index_dict,\n",
    "                                       batch_size=batch_size,\n",
    "                                       on_memory=on_memory,\n",
    "                                       argumentation_proba=0,\n",
    "                                       preprocess_input=preprocess_input,\n",
    "                                       target_size=target_size,\n",
    "                                       interpolation=interpolation,                                       \n",
    "                                       shuffle=False,\n",
    "                                       class_mode=class_mode,\n",
    "                                       dtype=dtype\n",
    ")\n",
    "test_data_loader = ClassifyDataloader(image_path_list=test_image_path_list,\n",
    "                                       label_to_index_dict=label_to_index_dict,\n",
    "                                       batch_size=1,\n",
    "                                       on_memory=False,\n",
    "                                       argumentation_proba=0,\n",
    "                                       preprocess_input=preprocess_input,\n",
    "                                       target_size=target_size,\n",
    "                                       interpolation=interpolation,                                       \n",
    "                                       shuffle=False,\n",
    "                                       class_mode=class_mode,\n",
    "                                       dtype=dtype\n",
    ")"
   ]
  },
  {
   "cell_type": "code",
   "execution_count": 3,
   "metadata": {},
   "outputs": [],
   "source": [
    "from tensorflow.keras.applications import InceptionV3\n",
    "from tensorflow.keras.losses import CategoricalCrossentropy, BinaryCrossentropy\n",
    "from tensorflow.keras.layers import GlobalAveragePooling2D, Dense, Dropout\n",
    "from tensorflow.keras.models import Model\n",
    "\n",
    "import numpy as np\n",
    "np.random.seed(1337)  # for reproducibility\n",
    "\n",
    "DROPOUT_RATIO = 0.5\n",
    "\n",
    "grad_cam = False\n",
    "transfer_learning = False\n",
    "epoch_release_frozen = 10\n",
    "transfer_train_mode = \"include_deep_layer\"\n",
    "layer_name_frozen_to = \"mixed4\"\n",
    "\n",
    "#  binary_sigmoid, categorical_sigmoid, categorical_softmax\n",
    "activation = \"binary_sigmoid\"\n",
    "\n",
    "# create the base pre-trained model~\n",
    "base_model = InceptionV3(\n",
    "    include_top=False,\n",
    "    weights=\"imagenet\",\n",
    "    input_tensor=None,\n",
    "    input_shape=(None,None,3),\n",
    "    classes=None,\n",
    "    pooling=None,\n",
    "    classifier_activation=None\n",
    ")\n",
    "\n",
    "if transfer_learning:\n",
    "    if train_mode == \"dense_only\":\n",
    "        base_model.trainable = False\n",
    "    elif train_mode == \"include_deep_layer\":\n",
    "        for layer in base_model.layers: \n",
    "            layer.trainable = False\n",
    "            if layer.name == layer_name_frozen_to:\n",
    "                break\n",
    "\n",
    "# add a global spatial average pooling layer\n",
    "x = base_model.output\n",
    "# (Batch_Size,?)\n",
    "x = GlobalAveragePooling2D()(x)\n",
    "x = Dropout(DROPOUT_RATIO)(x)\n",
    "# let's add a fully-connected layer\n",
    "# (Batch_Size,1)\n",
    "x = Dense(1024, activation='relu')(x)\n",
    "# (Batch_Size,1024)\n",
    "x = Dropout(DROPOUT_RATIO)(x)\n",
    "\n",
    "if grad_cam:\n",
    "    x *= 1e-1\n",
    "    keras_backend.set_floatx('float64')\n",
    "    dense_dtype = \"float64\"\n",
    "else:\n",
    "    dense_dtype = \"float32\"\n",
    "    \n",
    "if activation == \"binary_sigmoid\":\n",
    "    predictions = Dense(1, activation='sigmoid', dtype=dense_dtype)(x)\n",
    "    loss_function = BinaryCrossentropy(label_smoothing=0.01)\n",
    "elif activation == \"categorical_sigmoid\":\n",
    "    predictions = Dense(2, activation='sigmoid', dtype=dense_dtype)(x)\n",
    "    loss_function = CategoricalCrossentropy(label_smoothing=0.01)\n",
    "elif activation == \"categorical_softmax\":\n",
    "    predictions = Dense(2, activation='softmax', dtype=dense_dtype)(x)\n",
    "    loss_function = CategoricalCrossentropy(label_smoothing=0.01)\n",
    "\n",
    "# this is the model we will train\n",
    "model = Model(base_model.input, predictions)"
   ]
  },
  {
   "cell_type": "code",
   "execution_count": 4,
   "metadata": {},
   "outputs": [],
   "source": [
    "from tensorflow.keras.callbacks import ReduceLROnPlateau\n",
    "\n",
    "class ReduceLRBacktrack(ReduceLROnPlateau):\n",
    "    def __init__(self, today_weights_path, *args, **kwargs):\n",
    "        super(ReduceLRBacktrack, self).__init__(*args, **kwargs)\n",
    "        self.best_path = glob(f\"{today_weights_path}/*.hdf5\")[0]\n",
    "\n",
    "    def on_epoch_end(self, epoch, logs=None):\n",
    "        current = logs.get(self.monitor)\n",
    "        if current is None:\n",
    "            logging.warning('Reduce LR on plateau conditioned on metric `%s` '\n",
    "                            'which is not available. Available metrics are: %s',\n",
    "                             self.monitor, ','.join(list(logs.keys())))\n",
    "        if not self.monitor_op(current, self.best): # not new best\n",
    "            if not self.in_cooldown(): # and we're not in cooldown\n",
    "                if self.wait+1 >= self.patience: # going to reduce lr\n",
    "                    # load best model so far\n",
    "                    print(\"Backtracking to best model before reducting LR\")\n",
    "                    self.model.load_weights(self.best_path)\n",
    "\n",
    "        super().on_epoch_end(epoch, logs) # actually reduce LR"
   ]
  },
  {
   "cell_type": "code",
   "execution_count": 5,
   "metadata": {},
   "outputs": [],
   "source": [
    "from datetime import date\n",
    "\n",
    "from tensorflow.keras.callbacks import ModelCheckpoint\n",
    "from tensorflow.keras.callbacks import ReduceLROnPlateau\n",
    "from tensorflow.keras.callbacks import CSVLogger\n",
    "from tensorflow.keras.callbacks import LambdaCallback\n",
    "from tensorflow.keras.optimizers import Nadam\n",
    "\n",
    "today = date.today()\n",
    "\n",
    "# YY/MM/dd\n",
    "today_str = today.strftime(\"%Y-%m-%d\")\n",
    "today_weight_path = f\"./weights/{task}/{data_set_name}/{today_str}/target_size_{target_size}/\" \n",
    "today_logs_path = f\"./logs/{task}/{data_set_name}/{today_str}/target_size_{target_size}/\"\n",
    "os.makedirs(today_weight_path, exist_ok=True)\n",
    "os.makedirs(today_logs_path, exist_ok=True)\n",
    "optimizer = Nadam(1e-3, clipnorm=1)\n",
    "\n",
    "save_c = ModelCheckpoint(\n",
    "    today_weight_path+\"/weights_{val_loss:.4f}_{loss:.4f}_{epoch:02d}.hdf5\",\n",
    "    monitor='val_loss',\n",
    "    verbose=0,\n",
    "    save_best_only=False,\n",
    "    save_weights_only=True,\n",
    "    mode='min')\n",
    "\n",
    "\n",
    "reduceLROnPlat = ReduceLROnPlateau(\n",
    "    monitor=\"val_loss\",\n",
    "    factor=0.1,\n",
    "    patience=20,\n",
    "    verbose=1,\n",
    "    mode=\"auto\",\n",
    "    min_delta=0.0001,\n",
    "    cooldown=5,\n",
    "    min_lr=1e-7)\n",
    "# reduceLROnPlat = ReduceLROnPlateauBestWeight(\n",
    "#     today_weight_path=today_weight_path,\n",
    "#     monitor=\"val_loss\",\n",
    "#     factor=0.1,\n",
    "#     patience=20,\n",
    "#     verbose=1,\n",
    "#     mode=\"auto\",\n",
    "#     min_delta=0.0001,\n",
    "#     cooldown=5,\n",
    "#     min_lr=1e-7)\n",
    "\n",
    "csv_logger = CSVLogger(f'{today_logs_path}/log.csv', append=False, separator=',')\n",
    "\n",
    "\n",
    "def make_model_trainable(epoch, model, target_epoch):\n",
    "    if epoch > target_epoch:\n",
    "        for layer in model.layers:\n",
    "            layer.trainable = True\n",
    "            \n",
    "make_trainable_callback = LambdaCallback(\n",
    "    on_epoch_begin=lambda epoch,logs: make_model_trainable(epoch, model, target_epoch=epoch_release_frozen)\n",
    ")\n",
    "\n",
    "model.compile(optimizer=optimizer, loss=loss_function, metrics=['accuracy'])"
   ]
  },
  {
   "cell_type": "code",
   "execution_count": null,
   "metadata": {
    "scrolled": true
   },
   "outputs": [
    {
     "name": "stdout",
     "output_type": "stream",
     "text": [
      "Epoch 1/200\n",
      "1076/1076 [==============================] - 775s 703ms/step - loss: 0.7103 - accuracy: 0.5622 - val_loss: 0.6859 - val_accuracy: 0.5721\n",
      "Epoch 2/200\n",
      "1076/1076 [==============================] - 815s 758ms/step - loss: 0.6836 - accuracy: 0.5774 - val_loss: 0.6483 - val_accuracy: 0.5976\n",
      "Epoch 3/200\n",
      "1076/1076 [==============================] - 866s 804ms/step - loss: 0.6562 - accuracy: 0.6097 - val_loss: 0.9271 - val_accuracy: 0.5211\n",
      "Epoch 4/200\n",
      "1076/1076 [==============================] - 966s 896ms/step - loss: 0.6274 - accuracy: 0.6423 - val_loss: 1.8181 - val_accuracy: 0.6884\n",
      "Epoch 5/200\n",
      "1076/1076 [==============================] - 919s 854ms/step - loss: 0.6075 - accuracy: 0.6753 - val_loss: 0.5542 - val_accuracy: 0.7233\n",
      "Epoch 6/200\n",
      "1076/1076 [==============================] - 767s 712ms/step - loss: 0.5832 - accuracy: 0.6987 - val_loss: 0.5531 - val_accuracy: 0.7369\n",
      "Epoch 7/200\n",
      "1076/1076 [==============================] - 912s 846ms/step - loss: 0.5756 - accuracy: 0.7025 - val_loss: 0.9256 - val_accuracy: 0.5790\n",
      "Epoch 8/200\n",
      "1076/1076 [==============================] - 798s 740ms/step - loss: 0.5707 - accuracy: 0.7063 - val_loss: 0.6481 - val_accuracy: 0.6766\n",
      "Epoch 9/200\n",
      "1076/1076 [==============================] - 850s 790ms/step - loss: 0.5515 - accuracy: 0.7222 - val_loss: 1.2132 - val_accuracy: 0.5591\n",
      "Epoch 10/200\n",
      "1076/1076 [==============================] - 820s 762ms/step - loss: 0.5366 - accuracy: 0.7256 - val_loss: 0.4645 - val_accuracy: 0.7730\n",
      "Epoch 11/200\n",
      "1076/1076 [==============================] - 817s 759ms/step - loss: 0.5146 - accuracy: 0.7479 - val_loss: 0.9356 - val_accuracy: 0.5933\n",
      "Epoch 12/200\n",
      "1076/1076 [==============================] - 823s 765ms/step - loss: 0.4999 - accuracy: 0.7615 - val_loss: 0.7948 - val_accuracy: 0.5958\n",
      "Epoch 13/200\n",
      "1076/1076 [==============================] - 828s 770ms/step - loss: 0.4839 - accuracy: 0.7765 - val_loss: 0.4702 - val_accuracy: 0.7631\n",
      "Epoch 14/200\n",
      "1076/1076 [==============================] - 989s 919ms/step - loss: 0.4617 - accuracy: 0.7862 - val_loss: 0.4838 - val_accuracy: 0.7991\n",
      "Epoch 15/200\n",
      "1076/1076 [==============================] - 822s 764ms/step - loss: 0.4584 - accuracy: 0.7944 - val_loss: 0.3640 - val_accuracy: 0.8483\n",
      "Epoch 16/200\n",
      "1076/1076 [==============================] - 993s 922ms/step - loss: 0.4381 - accuracy: 0.8023 - val_loss: 0.3156 - val_accuracy: 0.8862\n",
      "Epoch 17/200\n",
      "1076/1076 [==============================] - 910s 845ms/step - loss: 0.4340 - accuracy: 0.8116 - val_loss: 0.7390 - val_accuracy: 0.7183\n",
      "Epoch 18/200\n",
      "1076/1076 [==============================] - 919s 853ms/step - loss: 0.4149 - accuracy: 0.8220 - val_loss: 0.3693 - val_accuracy: 0.8483\n",
      "Epoch 19/200\n",
      "1076/1076 [==============================] - 869s 808ms/step - loss: 0.3899 - accuracy: 0.8376 - val_loss: 0.3723 - val_accuracy: 0.8439\n",
      "Epoch 20/200\n",
      "1076/1076 [==============================] - 1012s 940ms/step - loss: 0.3685 - accuracy: 0.8504 - val_loss: 0.4099 - val_accuracy: 0.8215\n",
      "Epoch 21/200\n",
      "1076/1076 [==============================] - 1093s 1s/step - loss: 0.3509 - accuracy: 0.8643 - val_loss: 0.5323 - val_accuracy: 0.7668\n",
      "Epoch 22/200\n",
      "1076/1076 [==============================] - 829s 770ms/step - loss: 0.3446 - accuracy: 0.8677 - val_loss: 0.3535 - val_accuracy: 0.8688\n",
      "Epoch 23/200\n",
      "1076/1076 [==============================] - 765s 710ms/step - loss: 0.3342 - accuracy: 0.8677 - val_loss: 0.2896 - val_accuracy: 0.8930\n",
      "Epoch 24/200\n",
      "1076/1076 [==============================] - 904s 840ms/step - loss: 0.3067 - accuracy: 0.8858 - val_loss: 0.3166 - val_accuracy: 0.8744\n",
      "Epoch 25/200\n",
      "1076/1076 [==============================] - 948s 881ms/step - loss: 0.2906 - accuracy: 0.8862 - val_loss: 0.4487 - val_accuracy: 0.8178\n",
      "Epoch 26/200\n",
      "1076/1076 [==============================] - 914s 850ms/step - loss: 0.2762 - accuracy: 0.8982 - val_loss: 0.6020 - val_accuracy: 0.7668\n",
      "Epoch 27/200\n",
      "1076/1076 [==============================] - 891s 828ms/step - loss: 0.2775 - accuracy: 0.8963 - val_loss: 1.7426 - val_accuracy: 0.5603\n",
      "Epoch 28/200\n",
      "1076/1076 [==============================] - 829s 771ms/step - loss: 0.2557 - accuracy: 0.9043 - val_loss: 0.5355 - val_accuracy: 0.8184\n",
      "Epoch 29/200\n",
      "1076/1076 [==============================] - 799s 742ms/step - loss: 0.2524 - accuracy: 0.9064 - val_loss: 0.3324 - val_accuracy: 0.8943\n",
      "Epoch 30/200\n",
      " 761/1076 [====================>.........] - ETA: 3:09 - loss: 0.2393 - accuracy: 0.9123"
     ]
    }
   ],
   "source": [
    "start_epoch = 0\n",
    "epochs = 200\n",
    "\n",
    "model.fit(\n",
    "    train_data_loader,\n",
    "    validation_data=valid_data_loader,\n",
    "    epochs=epochs,\n",
    "    callbacks=[reduceLROnPlat, save_c, csv_logger, make_trainable_callback],\n",
    "    initial_epoch=start_epoch\n",
    ")"
   ]
  },
  {
   "cell_type": "code",
   "execution_count": 9,
   "metadata": {},
   "outputs": [
    {
     "name": "stdout",
     "output_type": "stream",
     "text": [
      "./weights/classification/detect_lvi/2021-06-28/target_size_None/weights_0.2390_0.1356_84.hdf5\n"
     ]
    }
   ],
   "source": [
    "weight_path_list = glob(f\"./weights/classification/detect_lvi/2021-06-28/target_size_None/*.hdf5\")\n",
    "weight_path_list.sort()\n",
    "best_path = weight_path_list[0]\n",
    "print(best_path)"
   ]
  },
  {
   "cell_type": "code",
   "execution_count": 10,
   "metadata": {},
   "outputs": [
    {
     "name": "stdout",
     "output_type": "stream",
     "text": [
      "1469/1469 [==============================] - 395s 267ms/step - loss: 0.0652 - accuracy: 0.9871\n"
     ]
    },
    {
     "data": {
      "text/plain": [
       "[0.06518306583166122, 0.9870660305023193]"
      ]
     },
     "execution_count": 10,
     "metadata": {},
     "output_type": "execute_result"
    }
   ],
   "source": [
    "target_data_loader = test_data_loader\n",
    "\n",
    "target_data_loader.batch_size = 1\n",
    "model.load_weights(best_path)\n",
    "model_predicted = model.predict(target_data_loader)\n",
    "ground_truth = np.array(list(target_data_loader.data_getter.class_dict.values()))\n",
    "\n",
    "model.evaluate(target_data_loader)"
   ]
  },
  {
   "cell_type": "code",
   "execution_count": 15,
   "metadata": {},
   "outputs": [],
   "source": [
    "negative_group_1 = np.where(model_predicted < 0.5)[0]\n",
    "negative_group_2 = np.where(model_predicted != 0)[0]\n",
    "negative_confirm = np.where(model_predicted == 0)[0]\n",
    "negative_not_confirm = np.intersect1d(negative_group_1, negative_group_2)\n",
    "\n",
    "positive_group_1 = np.where(model_predicted > 0.5)[0]\n",
    "positive_group_2 = np.where(model_predicted != 1)[0]\n",
    "postive_confirm = np.where(model_predicted == 1)[0]\n",
    "postive_not_confirm = np.intersect1d(positive_group_1, positive_group_2)\n",
    "\n",
    "ground_truth_negative = np.where(ground_truth == 0)[0]\n",
    "ground_truth_positive = np.where(ground_truth == 1)[0]\n",
    "\n",
    "true_negative = np.intersect1d(negative_group_1, ground_truth_negative)\n",
    "true_positive = np.intersect1d(positive_group_1, ground_truth_positive)\n",
    "false_negative = np.intersect1d(negative_group_1, ground_truth_positive)\n",
    "false_positive = np.intersect1d(positive_group_1, ground_truth_negative)\n"
   ]
  },
  {
   "cell_type": "code",
   "execution_count": 16,
   "metadata": {},
   "outputs": [
    {
     "name": "stdout",
     "output_type": "stream",
     "text": [
      "0\n",
      "770\n",
      "0\n",
      "699\n"
     ]
    }
   ],
   "source": [
    "print(len(negative_confirm))\n",
    "print(len(negative_not_confirm))\n",
    "print(len(postive_confirm))\n",
    "print(len(postive_not_confirm))"
   ]
  },
  {
   "cell_type": "code",
   "execution_count": 17,
   "metadata": {},
   "outputs": [
    {
     "name": "stdout",
     "output_type": "stream",
     "text": [
      "0\n",
      "770\n",
      "0\n",
      "699\n"
     ]
    }
   ],
   "source": [
    "print(len(negative_confirm))\n",
    "print(len(negative_not_confirm))\n",
    "print(len(postive_confirm))\n",
    "print(len(postive_not_confirm))"
   ]
  },
  {
   "cell_type": "code",
   "execution_count": 18,
   "metadata": {},
   "outputs": [
    {
     "name": "stdout",
     "output_type": "stream",
     "text": [
      "[ 813  912 1107 1450 1451 1454 1456 1457 1463 1468]\n",
      "[ 34  51  56 107 200 471 493 498 528]\n"
     ]
    }
   ],
   "source": [
    "print(false_negative)\n",
    "print(false_positive)"
   ]
  },
  {
   "cell_type": "code",
   "execution_count": 19,
   "metadata": {},
   "outputs": [
    {
     "data": {
      "text/plain": [
       "'./datasets/classification/detect_lvi/test/LVI_positive/211_LVI_positive_9.png'"
      ]
     },
     "execution_count": 19,
     "metadata": {},
     "output_type": "execute_result"
    }
   ],
   "source": [
    "test_image_path_list[-1]"
   ]
  },
  {
   "cell_type": "code",
   "execution_count": null,
   "metadata": {},
   "outputs": [],
   "source": []
  }
 ],
 "metadata": {
  "kernelspec": {
   "display_name": "Python 3",
   "language": "python",
   "name": "python3"
  },
  "language_info": {
   "codemirror_mode": {
    "name": "ipython",
    "version": 3
   },
   "file_extension": ".py",
   "mimetype": "text/x-python",
   "name": "python",
   "nbconvert_exporter": "python",
   "pygments_lexer": "ipython3",
   "version": "3.8.8"
  }
 },
 "nbformat": 4,
 "nbformat_minor": 4
}
