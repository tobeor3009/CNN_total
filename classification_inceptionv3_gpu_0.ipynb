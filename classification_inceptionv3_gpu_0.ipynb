{
 "cells": [
  {
   "cell_type": "code",
   "execution_count": 1,
   "metadata": {},
   "outputs": [
    {
     "name": "stdout",
     "output_type": "stream",
     "text": [
      "[PhysicalDevice(name='/physical_device:CPU:0', device_type='CPU')]\n"
     ]
    }
   ],
   "source": [
    "import os\n",
    "os.environ['CUDA_VISIBLE_DEVICES'] = '0'\n",
    "\n",
    "import tensorflow as tf\n",
    "from tensorflow.keras import backend as keras_backend\n",
    "import numpy as np\n",
    "\n",
    "gpu_on = False\n",
    "\n",
    "if gpu_on :\n",
    "    gpu_devices = tf.config.experimental.list_physical_devices(\"GPU\")\n",
    "    for device in gpu_devices:\n",
    "        tf.config.experimental.set_memory_growth(device, True)\n",
    "else:\n",
    "    os.environ['CUDA_VISIBLE_DEVICES'] = '-1'\n",
    "    gpu_devices = tf.config.experimental.list_physical_devices(\"CPU\")\n",
    "\n",
    "print(gpu_devices)"
   ]
  },
  {
   "cell_type": "code",
   "execution_count": 2,
   "metadata": {
    "scrolled": true
   },
   "outputs": [
    {
     "name": "stdout",
     "output_type": "stream",
     "text": [
      "Total data num 8608 with 2 classes\n",
      "Total data num 1609 with 2 classes\n",
      "Total data num 1469 with 2 classes\n"
     ]
    }
   ],
   "source": [
    "from src.data_loader.classification import ClassifyDataloader\n",
    "from tensorflow.keras.applications.inception_v3 import preprocess_input\n",
    "from glob import glob\n",
    "\n",
    "task = \"classification\"\n",
    "data_set_name = \"detect_lvi\"\n",
    "batch_size = 16\n",
    "on_memory = False\n",
    "argumentation_proba = 0.8\n",
    "# target_size = (512,512)\n",
    "target_size = None\n",
    "interpolation = \"bilinear\"\n",
    "class_mode = \"binary\"\n",
    "# class_mode = \"categorical\"\n",
    "dtype=\"float32\"\n",
    "\n",
    "train_image_path_list = glob(f\"./datasets/{task}/{data_set_name}/train/*/*\")\n",
    "valid_image_path_list = glob(f\"./datasets/{task}/{data_set_name}/valid/*/*\")\n",
    "test_image_path_list = glob(f\"./datasets/{task}/{data_set_name}/test/*/*\")\n",
    "label_list = os.listdir(f\"./datasets/{task}/{data_set_name}/train\")\n",
    "\n",
    "label_to_index_dict = {label:index for index, label in enumerate(label_list)}\n",
    "index_to_label_dict = {index:label for index, label in enumerate(label_list)}\n",
    "\n",
    "train_data_loader = ClassifyDataloader(image_path_list=train_image_path_list,\n",
    "                                       label_to_index_dict=label_to_index_dict,\n",
    "                                       batch_size=batch_size,\n",
    "                                       on_memory=on_memory,\n",
    "                                       argumentation_proba=argumentation_proba,\n",
    "                                       preprocess_input=preprocess_input,\n",
    "                                       target_size=target_size,\n",
    "                                       interpolation=interpolation,\n",
    "                                       shuffle=True,\n",
    "                                       class_mode=class_mode,\n",
    "                                       dtype=dtype\n",
    ")\n",
    "valid_data_loader = ClassifyDataloader(image_path_list=valid_image_path_list,\n",
    "                                       label_to_index_dict=label_to_index_dict,\n",
    "                                       batch_size=batch_size,\n",
    "                                       on_memory=on_memory,\n",
    "                                       argumentation_proba=0,\n",
    "                                       preprocess_input=preprocess_input,\n",
    "                                       target_size=target_size,\n",
    "                                       interpolation=interpolation,                                       \n",
    "                                       shuffle=False,\n",
    "                                       class_mode=class_mode,\n",
    "                                       dtype=dtype\n",
    ")\n",
    "test_data_loader = ClassifyDataloader(image_path_list=test_image_path_list,\n",
    "                                       label_to_index_dict=label_to_index_dict,\n",
    "                                       batch_size=batch_size,\n",
    "                                       on_memory=False,\n",
    "                                       argumentation_proba=0,\n",
    "                                       preprocess_input=preprocess_input,\n",
    "                                       target_size=target_size,\n",
    "                                       interpolation=interpolation,                                       \n",
    "                                       shuffle=False,\n",
    "                                       class_mode=class_mode,\n",
    "                                       dtype=dtype\n",
    ")"
   ]
  },
  {
   "cell_type": "code",
   "execution_count": null,
   "metadata": {},
   "outputs": [],
   "source": [
    "from tensorflow.keras.applications import InceptionV3\n",
    "from tensorflow.keras.losses import CategoricalCrossentropy, BinaryCrossentropy\n",
    "from tensorflow.keras.layers import GlobalAveragePooling2D, Dense, Dropout\n",
    "from tensorflow.keras.models import Model\n",
    "\n",
    "import numpy as np\n",
    "np.random.seed(1337)  # for reproducibility\n",
    "\n",
    "DROPOUT_RATIO = 0.5\n",
    "\n",
    "grad_cam = False\n",
    "transfer_learning = False\n",
    "epoch_release_frozen = 10\n",
    "transfer_train_mode = \"include_deep_layer\"\n",
    "layer_name_frozen_to = \"mixed4\"\n",
    "\n",
    "#  binary_sigmoid, categorical_sigmoid, categorical_softmax\n",
    "activation = \"binary_sigmoid\"\n",
    "\n",
    "# create the base pre-trained model~\n",
    "base_model = InceptionV3(\n",
    "    include_top=False,\n",
    "    weights=\"imagenet\",\n",
    "    input_tensor=None,\n",
    "    input_shape=(None,None,3),\n",
    "    classes=None,\n",
    "    pooling=None,\n",
    "    classifier_activation=None\n",
    ")\n",
    "\n",
    "if transfer_learning:\n",
    "    if train_mode == \"dense_only\":\n",
    "        base_model.trainable = False\n",
    "    elif train_mode == \"include_deep_layer\":\n",
    "        for layer in base_model.layers: \n",
    "            layer.trainable = False\n",
    "            if layer.name == layer_name_frozen_to:\n",
    "                break\n",
    "\n",
    "# add a global spatial average pooling layer\n",
    "x = base_model.output\n",
    "# (Batch_Size,?)\n",
    "x = GlobalAveragePooling2D()(x)\n",
    "x = Dropout(DROPOUT_RATIO)(x)\n",
    "# let's add a fully-connected layer\n",
    "# (Batch_Size,1)\n",
    "x = Dense(1024, activation='relu')(x)\n",
    "# (Batch_Size,1024)\n",
    "x = Dropout(DROPOUT_RATIO)(x)\n",
    "\n",
    "if grad_cam:\n",
    "    x *= 1e-1\n",
    "    keras_backend.set_floatx('float64')\n",
    "    dense_dtype = \"float64\"\n",
    "else:\n",
    "    dense_dtype = \"float32\"\n",
    "    \n",
    "if activation == \"binary_sigmoid\":\n",
    "    predictions = Dense(1, activation='sigmoid', dtype=dense_dtype)(x)\n",
    "    loss_function = BinaryCrossentropy(label_smoothing=0.01)\n",
    "elif activation == \"categorical_sigmoid\":\n",
    "    predictions = Dense(2, activation='sigmoid', dtype=dense_dtype)(x)\n",
    "    loss_function = CategoricalCrossentropy(label_smoothing=0.01)\n",
    "elif activation == \"categorical_softmax\":\n",
    "    predictions = Dense(2, activation='softmax', dtype=dense_dtype)(x)\n",
    "    loss_function = CategoricalCrossentropy(label_smoothing=0.01)\n",
    "\n",
    "# this is the model we will train\n",
    "model = Model(base_model.input, predictions)"
   ]
  },
  {
   "cell_type": "code",
   "execution_count": null,
   "metadata": {},
   "outputs": [],
   "source": [
    "from datetime import date\n",
    "\n",
    "from tensorflow.keras.callbacks import ModelCheckpoint\n",
    "from tensorflow.keras.callbacks import ReduceLROnPlateau\n",
    "from tensorflow.keras.callbacks import CSVLogger\n",
    "from tensorflow.keras.callbacks import LambdaCallback\n",
    "from tensorflow.keras.optimizers import Nadam\n",
    "\n",
    "today = date.today()\n",
    "\n",
    "# YY/MM/dd\n",
    "today_str = today.strftime(\"%Y-%m-%d\")\n",
    "today_weight_path = f\"./weights/{task}/{data_set_name}/{today_str}/target_size_{target_size}/\" \n",
    "today_logs_path = f\"./logs/{task}/{data_set_name}/{today_str}/target_size_{target_size}/\"\n",
    "os.makedirs(today_weight_path, exist_ok=True)\n",
    "os.makedirs(today_logs_path, exist_ok=True)\n",
    "optimizer = Nadam(1e-3, clipnorm=1)\n",
    "\n",
    "save_c = ModelCheckpoint(\n",
    "    today_weight_path+\"/weights_{val_loss:.4f}_{loss:.4f}_{epoch:02d}.hdf5\",\n",
    "    monitor='val_loss',\n",
    "    verbose=0,\n",
    "    save_best_only=False,\n",
    "    save_weights_only=True,\n",
    "    mode='min')\n",
    "\n",
    "\n",
    "reduceLROnPlat = ReduceLROnPlateau(\n",
    "    monitor=\"val_loss\",\n",
    "    factor=0.1,\n",
    "    patience=20,\n",
    "    verbose=1,\n",
    "    mode=\"auto\",\n",
    "    min_delta=0.0001,\n",
    "    cooldown=5,\n",
    "    min_lr=1e-7)\n",
    "csv_logger = CSVLogger(f'{today_logs_path}/log.csv', append=False, separator=',')\n",
    "\n",
    "\n",
    "def make_model_trainable(epoch, model, target_epoch):\n",
    "    if epoch > target_epoch:\n",
    "        for layer in model.layers:\n",
    "            layer.trainable = True\n",
    "            \n",
    "make_trainable_callback = LambdaCallback(\n",
    "    on_epoch_begin=lambda epoch,logs: make_model_trainable(epoch, model, target_epoch=epoch_release_frozen)\n",
    ")\n",
    "\n",
    "model.compile(optimizer=optimizer, loss=loss_function, metrics=['accuracy'])"
   ]
  },
  {
   "cell_type": "code",
   "execution_count": null,
   "metadata": {
    "scrolled": true
   },
   "outputs": [],
   "source": [
    "start_epoch = 0\n",
    "epochs = 200\n",
    "\n",
    "model.fit(\n",
    "    train_data_loader,\n",
    "    validation_data=valid_data_loader,\n",
    "    epochs=epochs,\n",
    "    callbacks=[reduceLROnPlat, save_c, csv_logger, make_trainable_callback],\n",
    "    initial_epoch=start_epoch\n",
    ")"
   ]
  },
  {
   "cell_type": "code",
   "execution_count": null,
   "metadata": {},
   "outputs": [],
   "source": [
    "target_data_loader = test_data_loader\n",
    "\n",
    "target_data_loader.batch_size = 1\n",
    "model.load_weights('./weights/classification/detect_lvi/2021/06/25/'+\"weights_26_0.0724.hdf5\")\n",
    "model_predicted = model.predict(target_data_loader)\n",
    "ground_truth = np.array([label for img_array, label in target_data_loader])\n",
    "\n",
    "model.evaluate(target_data_loader)"
   ]
  },
  {
   "cell_type": "code",
   "execution_count": null,
   "metadata": {},
   "outputs": [],
   "source": [
    "negative_group_1 = np.where(model_predicted < 0.5)[0]\n",
    "negative_group_2 = np.where(model_predicted != 0)[0]\n",
    "negative_confirm = np.where(model_predicted == 0)[0]\n",
    "negative_not_confirm = np.intersect1d(negative_group_1, negative_group_2)\n",
    "\n",
    "positive_group_1 = np.where(model_predicted > 0.5)[0]\n",
    "positive_group_2 = np.where(model_predicted != 1)[0]\n",
    "postive_confirm = np.where(model_predicted == 1)[0]\n",
    "postive_not_confirm = np.intersect1d(positive_group_1, positive_group_2)\n",
    "\n",
    "ground_truth_negative = np.where(ground_truth == 0)[0]\n",
    "ground_truth_positive = np.where(ground_truth == 1)[0]\n",
    "\n",
    "true_negative = np.intersect1d(negative_group_1, ground_truth_negative)\n",
    "true_positive = np.intersect1d(positive_group_1, ground_truth_positive)\n",
    "false_negative = np.intersect1d(negative_group_1, ground_truth_positive)\n",
    "false_positive = np.intersect1d(positive_group_1, ground_truth_negative)\n"
   ]
  },
  {
   "cell_type": "code",
   "execution_count": null,
   "metadata": {},
   "outputs": [],
   "source": [
    "print(len(negative_confirm))\n",
    "print(len(negative_not_confirm))\n",
    "print(len(postive_confirm))\n",
    "print(len(postive_not_confirm))"
   ]
  },
  {
   "cell_type": "code",
   "execution_count": null,
   "metadata": {},
   "outputs": [],
   "source": [
    "print(len(negative_confirm))\n",
    "print(len(negative_not_confirm))\n",
    "print(len(postive_confirm))\n",
    "print(len(postive_not_confirm))"
   ]
  },
  {
   "cell_type": "code",
   "execution_count": null,
   "metadata": {},
   "outputs": [],
   "source": [
    "test_image_path_list[-10:]"
   ]
  },
  {
   "cell_type": "code",
   "execution_count": null,
   "metadata": {},
   "outputs": [],
   "source": [
    "print(false_negative)\n",
    "print(false_positive)"
   ]
  },
  {
   "cell_type": "code",
   "execution_count": 3,
   "metadata": {},
   "outputs": [
    {
     "name": "stdout",
     "output_type": "stream",
     "text": [
      "Total data num 1469 with 2 classes\n"
     ]
    }
   ],
   "source": [
    "test_data_loader = ClassifyDataloader(image_path_list=test_image_path_list,\n",
    "                                       label_to_index_dict=label_to_index_dict,\n",
    "                                       batch_size=batch_size,\n",
    "                                       on_memory=False,\n",
    "                                       argumentation_proba=0,\n",
    "                                       preprocess_input=preprocess_input,\n",
    "                                       target_size=target_size,\n",
    "                                       interpolation=interpolation,                                       \n",
    "                                       shuffle=False,\n",
    "                                       class_mode=class_mode,\n",
    "                                       dtype=dtype\n",
    ")"
   ]
  },
  {
   "cell_type": "code",
   "execution_count": 7,
   "metadata": {},
   "outputs": [],
   "source": [
    "import albumentations as A"
   ]
  },
  {
   "cell_type": "code",
   "execution_count": 30,
   "metadata": {},
   "outputs": [],
   "source": [
    "image = np.ones((16,16))\n",
    "mask = np.zeros((16,16))"
   ]
  },
  {
   "cell_type": "code",
   "execution_count": 20,
   "metadata": {
    "scrolled": true
   },
   "outputs": [
    {
     "data": {
      "text/plain": [
       "dict_values([0])"
      ]
     },
     "execution_count": 20,
     "metadata": {},
     "output_type": "execute_result"
    }
   ],
   "source": [
    "{\"a\":0}.values()"
   ]
  },
  {
   "cell_type": "code",
   "execution_count": null,
   "metadata": {},
   "outputs": [],
   "source": []
  }
 ],
 "metadata": {
  "kernelspec": {
   "display_name": "Python 3",
   "language": "python",
   "name": "python3"
  },
  "language_info": {
   "codemirror_mode": {
    "name": "ipython",
    "version": 3
   },
   "file_extension": ".py",
   "mimetype": "text/x-python",
   "name": "python",
   "nbconvert_exporter": "python",
   "pygments_lexer": "ipython3",
   "version": "3.6.9"
  }
 },
 "nbformat": 4,
 "nbformat_minor": 4
}
