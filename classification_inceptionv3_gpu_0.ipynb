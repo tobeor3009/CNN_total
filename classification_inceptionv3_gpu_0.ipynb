{
 "cells": [
  {
   "cell_type": "code",
   "execution_count": 1,
   "metadata": {},
   "outputs": [
    {
     "name": "stdout",
     "output_type": "stream",
     "text": [
      "[PhysicalDevice(name='/physical_device:GPU:0', device_type='GPU')]\n"
     ]
    }
   ],
   "source": [
    "import os\n",
    "gpu_number = \"0\"\n",
    "os.environ['CUDA_VISIBLE_DEVICES'] = gpu_number\n",
    "\n",
    "import tensorflow as tf\n",
    "from tensorflow.keras import backend as keras_backend\n",
    "import numpy as np\n",
    "\n",
    "gpu_on = True\n",
    "\n",
    "if gpu_on :\n",
    "    gpu_devices = tf.config.experimental.list_physical_devices(\"GPU\")\n",
    "    for device in gpu_devices:\n",
    "        tf.config.experimental.set_memory_growth(device, True)\n",
    "else:\n",
    "    os.environ['CUDA_VISIBLE_DEVICES'] = '-1'\n",
    "    gpu_devices = tf.config.experimental.list_physical_devices(\"CPU\")\n",
    "\n",
    "print(gpu_devices)"
   ]
  },
  {
   "cell_type": "code",
   "execution_count": 2,
   "metadata": {},
   "outputs": [
    {
     "ename": "NameError",
     "evalue": "name 'os' is not defined",
     "output_type": "error",
     "traceback": [
      "\u001b[1;31m---------------------------------------------------------------------------\u001b[0m",
      "\u001b[1;31mNameError\u001b[0m                                 Traceback (most recent call last)",
      "\u001b[1;32m<ipython-input-2-1943638753f1>\u001b[0m in \u001b[0;36m<module>\u001b[1;34m\u001b[0m\n\u001b[0;32m     17\u001b[0m \u001b[0mvalid_image_path_list\u001b[0m \u001b[1;33m=\u001b[0m \u001b[0mglob\u001b[0m\u001b[1;33m(\u001b[0m\u001b[1;34mf\"./datasets/{task}/{data_set_name}/valid/*/*\"\u001b[0m\u001b[1;33m)\u001b[0m\u001b[1;33m\u001b[0m\u001b[1;33m\u001b[0m\u001b[0m\n\u001b[0;32m     18\u001b[0m \u001b[0mtest_image_path_list\u001b[0m \u001b[1;33m=\u001b[0m \u001b[0mglob\u001b[0m\u001b[1;33m(\u001b[0m\u001b[1;34mf\"./datasets/{task}/{data_set_name}/test/*/*\"\u001b[0m\u001b[1;33m)\u001b[0m\u001b[1;33m\u001b[0m\u001b[1;33m\u001b[0m\u001b[0m\n\u001b[1;32m---> 19\u001b[1;33m \u001b[0mlabel_list\u001b[0m \u001b[1;33m=\u001b[0m \u001b[0mos\u001b[0m\u001b[1;33m.\u001b[0m\u001b[0mlistdir\u001b[0m\u001b[1;33m(\u001b[0m\u001b[1;34mf\"./datasets/{task}/{data_set_name}/train\"\u001b[0m\u001b[1;33m)\u001b[0m\u001b[1;33m\u001b[0m\u001b[1;33m\u001b[0m\u001b[0m\n\u001b[0m\u001b[0;32m     20\u001b[0m \u001b[1;33m\u001b[0m\u001b[0m\n\u001b[0;32m     21\u001b[0m \u001b[0mlabel_to_index_dict\u001b[0m \u001b[1;33m=\u001b[0m \u001b[1;33m{\u001b[0m\u001b[0mlabel\u001b[0m\u001b[1;33m:\u001b[0m\u001b[0mindex\u001b[0m \u001b[1;32mfor\u001b[0m \u001b[0mindex\u001b[0m\u001b[1;33m,\u001b[0m \u001b[0mlabel\u001b[0m \u001b[1;32min\u001b[0m \u001b[0menumerate\u001b[0m\u001b[1;33m(\u001b[0m\u001b[0mlabel_list\u001b[0m\u001b[1;33m)\u001b[0m\u001b[1;33m}\u001b[0m\u001b[1;33m\u001b[0m\u001b[1;33m\u001b[0m\u001b[0m\n",
      "\u001b[1;31mNameError\u001b[0m: name 'os' is not defined"
     ]
    }
   ],
   "source": [
    "from src.data_loader.classification import ClassifyDataloader\n",
    "from tensorflow.keras.applications.inception_v3 import preprocess_input\n",
    "from glob import glob\n",
    "\n",
    "task = \"classification\"\n",
    "data_set_name = \"detect_lvi\"\n",
    "batch_size = 8\n",
    "on_memory = False\n",
    "argumentation_proba = 0.8\n",
    "target_size = (512,512)\n",
    "interpolation = \"bilinear\"\n",
    "class_mode = \"binary\"\n",
    "# class_mode = \"categorical\"\n",
    "dtype=\"float32\"\n",
    "\n",
    "train_image_path_list = glob(f\"./datasets/{task}/{data_set_name}/train/*/*\")\n",
    "valid_image_path_list = glob(f\"./datasets/{task}/{data_set_name}/valid/*/*\")\n",
    "test_image_path_list = glob(f\"./datasets/{task}/{data_set_name}/test/*/*\")\n",
    "label_list = os.listdir(f\"./datasets/{task}/{data_set_name}/train\")\n",
    "\n",
    "label_to_index_dict = {label:index for index, label in enumerate(label_list)}\n",
    "index_to_label_dict = {index:label for index, label in enumerate(label_list)}\n",
    "\n",
    "train_data_loader = ClassifyDataloader(image_path_list=train_image_path_list,\n",
    "                                       label_to_index_dict=label_to_index_dict,\n",
    "                                       batch_size=batch_size,\n",
    "                                       on_memory=on_memory,\n",
    "                                       argumentation_proba=argumentation_proba,\n",
    "                                       preprocess_input=preprocess_input,\n",
    "                                       target_size=target_size,\n",
    "                                       interpolation=interpolation,\n",
    "                                       shuffle=True,\n",
    "                                       class_mode=class_mode,\n",
    "                                       dtype=dtype\n",
    ")\n",
    "valid_data_loader = ClassifyDataloader(image_path_list=valid_image_path_list,\n",
    "                                       label_to_index_dict=label_to_index_dict,\n",
    "                                       batch_size=batch_size,\n",
    "                                       on_memory=on_memory,\n",
    "                                       argumentation_proba=0,\n",
    "                                       preprocess_input=preprocess_input,\n",
    "                                       target_size=target_size,\n",
    "                                       interpolation=interpolation,                                       \n",
    "                                       shuffle=False,\n",
    "                                       class_mode=class_mode,\n",
    "                                       dtype=dtype\n",
    ")\n",
    "test_data_loader = ClassifyDataloader(image_path_list=test_image_path_list,\n",
    "                                       label_to_index_dict=label_to_index_dict,\n",
    "                                       batch_size=1,\n",
    "                                       on_memory=False,\n",
    "                                       argumentation_proba=0,\n",
    "                                       preprocess_input=preprocess_input,\n",
    "                                       target_size=target_size,\n",
    "                                       interpolation=interpolation,                                       \n",
    "                                       shuffle=False,\n",
    "                                       class_mode=class_mode,\n",
    "                                       dtype=dtype\n",
    ")"
   ]
  },
  {
   "cell_type": "code",
   "execution_count": 3,
   "metadata": {},
   "outputs": [],
   "source": [
    "from tensorflow.keras.applications import InceptionV3\n",
    "from tensorflow.keras.losses import CategoricalCrossentropy, BinaryCrossentropy\n",
    "from tensorflow.keras.layers import GlobalAveragePooling2D, Dense, Dropout\n",
    "from tensorflow.keras.models import Model\n",
    "\n",
    "import numpy as np\n",
    "np.random.seed(1337)  # for reproducibility\n",
    "\n",
    "DROPOUT_RATIO = 0.5\n",
    "\n",
    "grad_cam = False\n",
    "transfer_learning = False\n",
    "transfer_train_mode = \"include_deep_layer\"\n",
    "layer_name_frozen_to = \"mixed4\"\n",
    "\n",
    "#  binary_sigmoid, categorical_sigmoid, categorical_softmax\n",
    "activation = \"binary_sigmoid\"\n",
    "\n",
    "# create the base pre-trained model~\n",
    "base_model = InceptionV3(\n",
    "    include_top=False,\n",
    "    weights=\"imagenet\",\n",
    "    input_tensor=None,\n",
    "    input_shape=(None,None,3),\n",
    "    classes=None,\n",
    "    pooling=None,\n",
    "    classifier_activation=None\n",
    ")\n",
    "\n",
    "if transfer_learning:\n",
    "    if train_mode == \"dense_only\":\n",
    "        base_model.trainable = False\n",
    "    elif train_mode == \"include_deep_layer\":\n",
    "        for layer in base_model.layers: \n",
    "            layer.trainable = False\n",
    "            if layer.name == layer_name_frozen_to:\n",
    "                break\n",
    "\n",
    "# add a global spatial average pooling layer\n",
    "x = base_model.output\n",
    "# (Batch_Size,?)\n",
    "x = GlobalAveragePooling2D()(x)\n",
    "x = Dropout(DROPOUT_RATIO)(x)\n",
    "# let's add a fully-connected layer\n",
    "# (Batch_Size,1)\n",
    "x = Dense(1024, activation='relu')(x)\n",
    "# (Batch_Size,1024)\n",
    "x = Dropout(DROPOUT_RATIO)(x)\n",
    "\n",
    "if grad_cam:\n",
    "    x *= 1e-1\n",
    "    keras_backend.set_floatx('float64')\n",
    "    dense_dtype = \"float64\"\n",
    "else:\n",
    "    dense_dtype = \"float32\"\n",
    "    \n",
    "if activation == \"binary_sigmoid\":\n",
    "    predictions = Dense(1, activation='sigmoid', dtype=dense_dtype)(x)\n",
    "    loss_function = BinaryCrossentropy(label_smoothing=0.01)\n",
    "elif activation == \"categorical_sigmoid\":\n",
    "    predictions = Dense(len(label_list), activation='sigmoid', dtype=dense_dtype)(x)\n",
    "    loss_function = CategoricalCrossentropy(label_smoothing=0.01)\n",
    "elif activation == \"categorical_softmax\":\n",
    "    predictions = Dense(len(label_list), activation='softmax', dtype=dense_dtype)(x)\n",
    "    loss_function = CategoricalCrossentropy(label_smoothing=0.01)\n",
    "\n",
    "# this is the model we will train\n",
    "model = Model(base_model.input, predictions)"
   ]
  },
  {
   "cell_type": "code",
   "execution_count": null,
   "metadata": {},
   "outputs": [],
   "source": [
    "from tensorflow.keras.callbacks import Callback, ModelCheckpoint\n",
    "from tensorflow.keras.callbacks import ReduceLROnPlateau, LearningRateScheduler\n",
    "from tensorflow.keras.preprocessing import image\n",
    "from matplotlib import pyplot as plt\n",
    "\n",
    "class ClassificationMonitor(Callback):\n",
    "    \"\"\"A callback to generate and save images after each epoch\"\"\"\n",
    "\n",
    "    def __init__(self, data_loader, save_image_path, num_img=4):\n",
    "        self.data_loader = data_loader\n",
    "        self.num_img = num_img\n",
    "        self.save_image_path = save_image_path\n",
    "        \n",
    "        os.makedirs(save_image_path, exist_ok=True)\n",
    "        \n",
    "    def on_epoch_end(self, epoch, logs=None):\n",
    "        \n",
    "        len_data_loader = len(self.data_loader)\n",
    "        random_index = range(len_data_loader)\n",
    "        random_index = np.random.permutation(random_index)[:self.num_img]\n",
    "        \n",
    "        _, ax = plt.subplots(self.num_img // 2, 2, figsize=(12, 12))\n",
    "        for current_index, image_index in enumerate(random_index):\n",
    "            image_array, label = self.data_loader.data_getter[image_index].values()\n",
    "            iamge_array_name = self.data_loader.data_getter.target_image_path_dict[image_index]\n",
    "            prediction = self.model.generator_G(image_array).numpy()[0]\n",
    "            reverse_prediction = self.model.generator_F(target_image_array).numpy()[0]\n",
    "            \n",
    "            prediction = (prediction * 127.5 + 127.5).astype(np.uint8)\n",
    "            reverse_prediction = (reverse_prediction * 127.5 + 127.5).astype(np.uint8)\n",
    "            \n",
    "            image_array = (image_array[0] * 127.5 + 127.5).astype(np.uint8)\n",
    "            target_image_array = (target_image_array[0] * 127.5 + 127.5).astype(np.uint8)\n",
    "            \n",
    "            ax[current_index, 0].imshow(image_array)\n",
    "            ax[current_index, 1].imshow(prediction)\n",
    "            ax[current_index, 0].set_title(\"Input image_x\")\n",
    "            ax[current_index, 1].set_title(\"Translated image_y\")\n",
    "\n",
    "            ax[current_index, 2].imshow(target_image_array)\n",
    "            ax[current_index, 3].imshow(reverse_prediction)\n",
    "            ax[current_index, 2].set_title(\"Input image_y\")\n",
    "            ax[current_index, 3].set_title(\"Translated image_x\")\n",
    "\n",
    "            prediction = image.array_to_img(prediction)\n",
    "            reverse_prediction = image.array_to_img(reverse_prediction)\n",
    "        plt.savefig(f\"{self.save_image_path}/generated_image_{epoch+1}\")\n",
    "        plt.show()\n",
    "        plt.close()"
   ]
  },
  {
   "cell_type": "code",
   "execution_count": 5,
   "metadata": {},
   "outputs": [],
   "source": [
    "from datetime import date\n",
    "\n",
    "from tensorflow.keras.callbacks import ModelCheckpoint\n",
    "from tensorflow.keras.callbacks import ReduceLROnPlateau\n",
    "from tensorflow.keras.callbacks import CSVLogger\n",
    "from tensorflow.keras.callbacks import LambdaCallback\n",
    "from tensorflow.keras.optimizers import Nadam\n",
    "\n",
    "today = date.today()\n",
    "\n",
    "# YY/MM/dd\n",
    "today_str = today.strftime(\"%Y-%m-%d\")\n",
    "today_weight_path = f\"./result_daily/{task}/{data_set_name}/{today_str}/{gpu_number}/target_size_{target_size}/weights/\" \n",
    "today_logs_path = f\"./result_daily/{task}/{data_set_name}/{today_str}/{gpu_number}/target_size_{target_size}/\"\n",
    "os.makedirs(today_weight_path, exist_ok=True)\n",
    "os.makedirs(today_logs_path, exist_ok=True)\n",
    "optimizer = Nadam(1e-4, clipnorm=1)\n",
    "\n",
    "save_c = ModelCheckpoint(\n",
    "    today_weight_path+\"/weights_{val_loss:.4f}_{loss:.4f}_{epoch:02d}.hdf5\",\n",
    "    monitor='val_loss',\n",
    "    verbose=0,\n",
    "    save_best_only=False,\n",
    "    save_weights_only=True,\n",
    "    mode='min')\n",
    "\n",
    "\n",
    "reduceLROnPlat = ReduceLROnPlateau(\n",
    "    monitor=\"val_loss\",\n",
    "    factor=0.1,\n",
    "    patience=20,\n",
    "    verbose=1,\n",
    "    mode=\"auto\",\n",
    "    min_delta=0.0001,\n",
    "    cooldown=5,\n",
    "    min_lr=1e-7)\n",
    "\n",
    "csv_logger = CSVLogger(f'{today_logs_path}/log.csv', append=False, separator=',')\n",
    "\n",
    "model.compile(optimizer=optimizer, loss=loss_function, metrics=['accuracy'])"
   ]
  },
  {
   "cell_type": "code",
   "execution_count": null,
   "metadata": {
    "scrolled": true
   },
   "outputs": [
    {
     "name": "stdout",
     "output_type": "stream",
     "text": [
      "Epoch 1/200\n",
      "1076/1076 [==============================] - 775s 703ms/step - loss: 0.7103 - accuracy: 0.5622 - val_loss: 0.6859 - val_accuracy: 0.5721\n",
      "Epoch 2/200\n",
      "1076/1076 [==============================] - 815s 758ms/step - loss: 0.6836 - accuracy: 0.5774 - val_loss: 0.6483 - val_accuracy: 0.5976\n",
      "Epoch 3/200\n",
      "1076/1076 [==============================] - 866s 804ms/step - loss: 0.6562 - accuracy: 0.6097 - val_loss: 0.9271 - val_accuracy: 0.5211\n",
      "Epoch 4/200\n",
      "1076/1076 [==============================] - 966s 896ms/step - loss: 0.6274 - accuracy: 0.6423 - val_loss: 1.8181 - val_accuracy: 0.6884\n",
      "Epoch 5/200\n",
      "1076/1076 [==============================] - 919s 854ms/step - loss: 0.6075 - accuracy: 0.6753 - val_loss: 0.5542 - val_accuracy: 0.7233\n",
      "Epoch 6/200\n",
      "1076/1076 [==============================] - 767s 712ms/step - loss: 0.5832 - accuracy: 0.6987 - val_loss: 0.5531 - val_accuracy: 0.7369\n",
      "Epoch 7/200\n",
      "1076/1076 [==============================] - 912s 846ms/step - loss: 0.5756 - accuracy: 0.7025 - val_loss: 0.9256 - val_accuracy: 0.5790\n",
      "Epoch 8/200\n",
      "1076/1076 [==============================] - 798s 740ms/step - loss: 0.5707 - accuracy: 0.7063 - val_loss: 0.6481 - val_accuracy: 0.6766\n",
      "Epoch 9/200\n",
      "1076/1076 [==============================] - 850s 790ms/step - loss: 0.5515 - accuracy: 0.7222 - val_loss: 1.2132 - val_accuracy: 0.5591\n",
      "Epoch 10/200\n",
      "1076/1076 [==============================] - 820s 762ms/step - loss: 0.5366 - accuracy: 0.7256 - val_loss: 0.4645 - val_accuracy: 0.7730\n",
      "Epoch 11/200\n",
      "1076/1076 [==============================] - 817s 759ms/step - loss: 0.5146 - accuracy: 0.7479 - val_loss: 0.9356 - val_accuracy: 0.5933\n",
      "Epoch 12/200\n",
      "1076/1076 [==============================] - 823s 765ms/step - loss: 0.4999 - accuracy: 0.7615 - val_loss: 0.7948 - val_accuracy: 0.5958\n",
      "Epoch 13/200\n",
      "1076/1076 [==============================] - 828s 770ms/step - loss: 0.4839 - accuracy: 0.7765 - val_loss: 0.4702 - val_accuracy: 0.7631\n",
      "Epoch 14/200\n",
      "1076/1076 [==============================] - 989s 919ms/step - loss: 0.4617 - accuracy: 0.7862 - val_loss: 0.4838 - val_accuracy: 0.7991\n",
      "Epoch 15/200\n",
      "1076/1076 [==============================] - 822s 764ms/step - loss: 0.4584 - accuracy: 0.7944 - val_loss: 0.3640 - val_accuracy: 0.8483\n",
      "Epoch 16/200\n",
      "1076/1076 [==============================] - 993s 922ms/step - loss: 0.4381 - accuracy: 0.8023 - val_loss: 0.3156 - val_accuracy: 0.8862\n",
      "Epoch 17/200\n",
      "1076/1076 [==============================] - 910s 845ms/step - loss: 0.4340 - accuracy: 0.8116 - val_loss: 0.7390 - val_accuracy: 0.7183\n",
      "Epoch 18/200\n",
      "1076/1076 [==============================] - 919s 853ms/step - loss: 0.4149 - accuracy: 0.8220 - val_loss: 0.3693 - val_accuracy: 0.8483\n",
      "Epoch 19/200\n",
      "1076/1076 [==============================] - 869s 808ms/step - loss: 0.3899 - accuracy: 0.8376 - val_loss: 0.3723 - val_accuracy: 0.8439\n",
      "Epoch 20/200\n",
      "1076/1076 [==============================] - 1012s 940ms/step - loss: 0.3685 - accuracy: 0.8504 - val_loss: 0.4099 - val_accuracy: 0.8215\n",
      "Epoch 21/200\n",
      "1076/1076 [==============================] - 1093s 1s/step - loss: 0.3509 - accuracy: 0.8643 - val_loss: 0.5323 - val_accuracy: 0.7668\n",
      "Epoch 22/200\n",
      "1076/1076 [==============================] - 829s 770ms/step - loss: 0.3446 - accuracy: 0.8677 - val_loss: 0.3535 - val_accuracy: 0.8688\n",
      "Epoch 23/200\n",
      "1076/1076 [==============================] - 765s 710ms/step - loss: 0.3342 - accuracy: 0.8677 - val_loss: 0.2896 - val_accuracy: 0.8930\n",
      "Epoch 24/200\n",
      "1076/1076 [==============================] - 904s 840ms/step - loss: 0.3067 - accuracy: 0.8858 - val_loss: 0.3166 - val_accuracy: 0.8744\n",
      "Epoch 25/200\n",
      "1076/1076 [==============================] - 948s 881ms/step - loss: 0.2906 - accuracy: 0.8862 - val_loss: 0.4487 - val_accuracy: 0.8178\n",
      "Epoch 26/200\n",
      "1076/1076 [==============================] - 914s 850ms/step - loss: 0.2762 - accuracy: 0.8982 - val_loss: 0.6020 - val_accuracy: 0.7668\n",
      "Epoch 27/200\n",
      "1076/1076 [==============================] - 891s 828ms/step - loss: 0.2775 - accuracy: 0.8963 - val_loss: 1.7426 - val_accuracy: 0.5603\n",
      "Epoch 28/200\n",
      "1076/1076 [==============================] - 829s 771ms/step - loss: 0.2557 - accuracy: 0.9043 - val_loss: 0.5355 - val_accuracy: 0.8184\n",
      "Epoch 29/200\n",
      "1076/1076 [==============================] - 799s 742ms/step - loss: 0.2524 - accuracy: 0.9064 - val_loss: 0.3324 - val_accuracy: 0.8943\n",
      "Epoch 30/200\n",
      "1076/1076 [==============================] - 749s 695ms/step - loss: 0.2407 - accuracy: 0.9114 - val_loss: 0.3525 - val_accuracy: 0.8675\n",
      "Epoch 31/200\n",
      "1076/1076 [==============================] - 929s 863ms/step - loss: 0.2254 - accuracy: 0.9183 - val_loss: 0.1948 - val_accuracy: 0.9372\n",
      "Epoch 32/200\n",
      "1076/1076 [==============================] - 1048s 974ms/step - loss: 0.2170 - accuracy: 0.9267 - val_loss: 0.2069 - val_accuracy: 0.9266\n",
      "Epoch 33/200\n",
      "1076/1076 [==============================] - 1073s 997ms/step - loss: 0.2145 - accuracy: 0.9250 - val_loss: 0.3466 - val_accuracy: 0.8619\n",
      "Epoch 34/200\n",
      "1076/1076 [==============================] - 1002s 931ms/step - loss: 0.2054 - accuracy: 0.9295 - val_loss: 0.4058 - val_accuracy: 0.8576\n",
      "Epoch 35/200\n",
      "1076/1076 [==============================] - 861s 800ms/step - loss: 0.1950 - accuracy: 0.9317 - val_loss: 0.2415 - val_accuracy: 0.9167\n",
      "Epoch 36/200\n",
      "1076/1076 [==============================] - 851s 791ms/step - loss: 0.1843 - accuracy: 0.9356 - val_loss: 0.2965 - val_accuracy: 0.8993\n",
      "Epoch 37/200\n",
      "1076/1076 [==============================] - 856s 796ms/step - loss: 0.1785 - accuracy: 0.9406 - val_loss: 0.4244 - val_accuracy: 0.8744\n",
      "Epoch 38/200\n",
      "1076/1076 [==============================] - 874s 812ms/step - loss: 0.1816 - accuracy: 0.9376 - val_loss: 0.4342 - val_accuracy: 0.8682\n",
      "Epoch 39/200\n",
      "1076/1076 [==============================] - 837s 778ms/step - loss: 0.1774 - accuracy: 0.9377 - val_loss: 0.4417 - val_accuracy: 0.8439\n",
      "Epoch 40/200\n",
      "1076/1076 [==============================] - 953s 886ms/step - loss: 0.1590 - accuracy: 0.9505 - val_loss: 0.4044 - val_accuracy: 0.8557\n",
      "Epoch 41/200\n",
      "1076/1076 [==============================] - 902s 838ms/step - loss: 0.1610 - accuracy: 0.9507 - val_loss: 0.2159 - val_accuracy: 0.9260\n",
      "Epoch 42/200\n",
      "1076/1076 [==============================] - 900s 836ms/step - loss: 0.1707 - accuracy: 0.9468 - val_loss: 0.2774 - val_accuracy: 0.9073\n",
      "Epoch 43/200\n",
      "1076/1076 [==============================] - 913s 848ms/step - loss: 0.1592 - accuracy: 0.9499 - val_loss: 0.1820 - val_accuracy: 0.9403\n",
      "Epoch 44/200\n",
      "1076/1076 [==============================] - 885s 821ms/step - loss: 0.1522 - accuracy: 0.9527 - val_loss: 0.3774 - val_accuracy: 0.8657\n",
      "Epoch 45/200\n",
      "1076/1076 [==============================] - 892s 829ms/step - loss: 0.1593 - accuracy: 0.9510 - val_loss: 0.1585 - val_accuracy: 0.9521\n",
      "Epoch 46/200\n",
      "1076/1076 [==============================] - 845s 785ms/step - loss: 0.1463 - accuracy: 0.9555 - val_loss: 0.2862 - val_accuracy: 0.9173\n",
      "Epoch 47/200\n",
      "1076/1076 [==============================] - 865s 803ms/step - loss: 0.1448 - accuracy: 0.9560 - val_loss: 0.3177 - val_accuracy: 0.9024\n",
      "Epoch 48/200\n",
      "1076/1076 [==============================] - 848s 787ms/step - loss: 0.1464 - accuracy: 0.9564 - val_loss: 0.5071 - val_accuracy: 0.8675\n",
      "Epoch 49/200\n",
      "1076/1076 [==============================] - 819s 760ms/step - loss: 0.1364 - accuracy: 0.9577 - val_loss: 0.4204 - val_accuracy: 0.8769\n",
      "Epoch 50/200\n",
      "1076/1076 [==============================] - 908s 843ms/step - loss: 0.1467 - accuracy: 0.9562 - val_loss: 0.2329 - val_accuracy: 0.9266\n",
      "Epoch 51/200\n",
      "1076/1076 [==============================] - 911s 847ms/step - loss: 0.1280 - accuracy: 0.9635 - val_loss: 0.4129 - val_accuracy: 0.8756\n",
      "Epoch 52/200\n",
      "1076/1076 [==============================] - 848s 788ms/step - loss: 0.1267 - accuracy: 0.9639 - val_loss: 0.3613 - val_accuracy: 0.8719\n",
      "Epoch 53/200\n",
      "1076/1076 [==============================] - 880s 818ms/step - loss: 0.1368 - accuracy: 0.9604 - val_loss: 0.3015 - val_accuracy: 0.8961\n",
      "Epoch 54/200\n",
      "1076/1076 [==============================] - 801s 744ms/step - loss: 0.1294 - accuracy: 0.9635 - val_loss: 0.1704 - val_accuracy: 0.9540\n",
      "Epoch 55/200\n",
      "1076/1076 [==============================] - 983s 914ms/step - loss: 0.1218 - accuracy: 0.9645 - val_loss: 0.3023 - val_accuracy: 0.9067\n",
      "Epoch 56/200\n",
      "1076/1076 [==============================] - 728s 677ms/step - loss: 0.1129 - accuracy: 0.9679 - val_loss: 0.3066 - val_accuracy: 0.8993\n",
      "Epoch 57/200\n",
      "1076/1076 [==============================] - 922s 857ms/step - loss: 0.1136 - accuracy: 0.9689 - val_loss: 0.2361 - val_accuracy: 0.9266\n",
      "Epoch 58/200\n",
      "1076/1076 [==============================] - 944s 877ms/step - loss: 0.1282 - accuracy: 0.9646 - val_loss: 0.3072 - val_accuracy: 0.9080\n",
      "Epoch 59/200\n",
      "1076/1076 [==============================] - 817s 760ms/step - loss: 0.1084 - accuracy: 0.9728 - val_loss: 0.2452 - val_accuracy: 0.9235\n",
      "Epoch 60/200\n",
      "1076/1076 [==============================] - 842s 782ms/step - loss: 0.1165 - accuracy: 0.9684 - val_loss: 0.3027 - val_accuracy: 0.9148\n",
      "Epoch 61/200\n",
      "1076/1076 [==============================] - 938s 872ms/step - loss: 0.1086 - accuracy: 0.9701 - val_loss: 0.3061 - val_accuracy: 0.9067\n",
      "Epoch 62/200\n",
      "1076/1076 [==============================] - 832s 773ms/step - loss: 0.1062 - accuracy: 0.9727 - val_loss: 0.2487 - val_accuracy: 0.9272\n",
      "Epoch 63/200\n",
      "1076/1076 [==============================] - 817s 759ms/step - loss: 0.1078 - accuracy: 0.9710 - val_loss: 0.3521 - val_accuracy: 0.8874\n",
      "Epoch 64/200\n",
      "1076/1076 [==============================] - 891s 828ms/step - loss: 0.1047 - accuracy: 0.9729 - val_loss: 0.4799 - val_accuracy: 0.8433\n",
      "Epoch 65/200\n",
      "1076/1076 [==============================] - 896s 832ms/step - loss: 0.1010 - accuracy: 0.9740 - val_loss: 0.4079 - val_accuracy: 0.8762\n",
      "\n",
      "Epoch 00065: ReduceLROnPlateau reducing learning rate to 0.00010000000474974513.\n",
      "Epoch 66/200\n",
      "1076/1076 [==============================] - 847s 787ms/step - loss: 0.0783 - accuracy: 0.9823 - val_loss: 0.2926 - val_accuracy: 0.9129\n",
      "Epoch 67/200\n",
      "1076/1076 [==============================] - 938s 871ms/step - loss: 0.0753 - accuracy: 0.9848 - val_loss: 0.2965 - val_accuracy: 0.9123\n",
      "Epoch 68/200\n",
      "1076/1076 [==============================] - 923s 857ms/step - loss: 0.0687 - accuracy: 0.9868 - val_loss: 0.3077 - val_accuracy: 0.9104\n",
      "Epoch 69/200\n",
      "1076/1076 [==============================] - 934s 868ms/step - loss: 0.0655 - accuracy: 0.9894 - val_loss: 0.3127 - val_accuracy: 0.9092\n",
      "Epoch 70/200\n",
      "1076/1076 [==============================] - 925s 859ms/step - loss: 0.0623 - accuracy: 0.9892 - val_loss: 0.2601 - val_accuracy: 0.9291\n",
      "Epoch 71/200\n",
      "1076/1076 [==============================] - 881s 818ms/step - loss: 0.0632 - accuracy: 0.9900 - val_loss: 0.2663 - val_accuracy: 0.9266\n",
      "Epoch 72/200\n",
      "1076/1076 [==============================] - 890s 826ms/step - loss: 0.0625 - accuracy: 0.9890 - val_loss: 0.3266 - val_accuracy: 0.9055\n",
      "Epoch 73/200\n",
      "1076/1076 [==============================] - 870s 808ms/step - loss: 0.0658 - accuracy: 0.9895 - val_loss: 0.2977 - val_accuracy: 0.9061\n",
      "Epoch 74/200\n",
      "1076/1076 [==============================] - 892s 829ms/step - loss: 0.0625 - accuracy: 0.9890 - val_loss: 0.3416 - val_accuracy: 0.9017\n",
      "Epoch 75/200\n",
      "1076/1076 [==============================] - 878s 815ms/step - loss: 0.0615 - accuracy: 0.9912 - val_loss: 0.2739 - val_accuracy: 0.9223\n",
      "Epoch 76/200\n",
      "1076/1076 [==============================] - 870s 808ms/step - loss: 0.0652 - accuracy: 0.9883 - val_loss: 0.3428 - val_accuracy: 0.9036\n",
      "Epoch 77/200\n",
      "1076/1076 [==============================] - 819s 761ms/step - loss: 0.0625 - accuracy: 0.9891 - val_loss: 0.2979 - val_accuracy: 0.9148\n",
      "Epoch 78/200\n",
      "1076/1076 [==============================] - 942s 875ms/step - loss: 0.0581 - accuracy: 0.9918 - val_loss: 0.2585 - val_accuracy: 0.9272\n",
      "Epoch 79/200\n",
      "1076/1076 [==============================] - 807s 750ms/step - loss: 0.0595 - accuracy: 0.9911 - val_loss: 0.2530 - val_accuracy: 0.9297\n",
      "Epoch 80/200\n",
      "1076/1076 [==============================] - 838s 777ms/step - loss: 0.0574 - accuracy: 0.9920 - val_loss: 0.2922 - val_accuracy: 0.9210\n",
      "Epoch 81/200\n",
      "1076/1076 [==============================] - 924s 858ms/step - loss: 0.0596 - accuracy: 0.9906 - val_loss: 0.2267 - val_accuracy: 0.9378\n",
      "Epoch 82/200\n",
      "1076/1076 [==============================] - 846s 786ms/step - loss: 0.0575 - accuracy: 0.9913 - val_loss: 0.3118 - val_accuracy: 0.9223\n",
      "Epoch 83/200\n",
      "1076/1076 [==============================] - 876s 814ms/step - loss: 0.0616 - accuracy: 0.9898 - val_loss: 0.2479 - val_accuracy: 0.9322\n",
      "Epoch 84/200\n",
      "1076/1076 [==============================] - 913s 848ms/step - loss: 0.0599 - accuracy: 0.9911 - val_loss: 0.2806 - val_accuracy: 0.9229\n",
      "Epoch 85/200\n",
      "1076/1076 [==============================] - 874s 812ms/step - loss: 0.0526 - accuracy: 0.9938 - val_loss: 0.3092 - val_accuracy: 0.9142\n",
      "Epoch 86/200\n",
      "1076/1076 [==============================] - 1045s 972ms/step - loss: 0.0576 - accuracy: 0.9908 - val_loss: 0.2965 - val_accuracy: 0.9248\n",
      "Epoch 87/200\n",
      "1076/1076 [==============================] - 919s 853ms/step - loss: 0.0584 - accuracy: 0.9905 - val_loss: 0.2691 - val_accuracy: 0.9241\n",
      "Epoch 88/200\n",
      "1076/1076 [==============================] - 977s 907ms/step - loss: 0.0587 - accuracy: 0.9908 - val_loss: 0.3074 - val_accuracy: 0.9123\n",
      "Epoch 89/200\n",
      "1076/1076 [==============================] - 828s 769ms/step - loss: 0.0581 - accuracy: 0.9907 - val_loss: 0.2434 - val_accuracy: 0.9359\n",
      "\n",
      "Epoch 00089: ReduceLROnPlateau reducing learning rate to 1.0000000474974514e-05.\n",
      "Epoch 90/200\n",
      "1076/1076 [==============================] - 820s 762ms/step - loss: 0.0560 - accuracy: 0.9913 - val_loss: 0.2796 - val_accuracy: 0.9248\n",
      "Epoch 91/200\n",
      "1076/1076 [==============================] - 902s 837ms/step - loss: 0.0528 - accuracy: 0.9927 - val_loss: 0.2688 - val_accuracy: 0.9285\n",
      "Epoch 92/200\n",
      "1076/1076 [==============================] - 850s 789ms/step - loss: 0.0552 - accuracy: 0.9916 - val_loss: 0.2900 - val_accuracy: 0.9216\n",
      "Epoch 93/200\n",
      "1076/1076 [==============================] - 929s 862ms/step - loss: 0.0540 - accuracy: 0.9933 - val_loss: 0.2758 - val_accuracy: 0.9266\n",
      "Epoch 94/200\n",
      "1076/1076 [==============================] - 906s 842ms/step - loss: 0.0534 - accuracy: 0.9923 - val_loss: 0.2814 - val_accuracy: 0.9254\n",
      "Epoch 95/200\n",
      "1076/1076 [==============================] - 848s 788ms/step - loss: 0.0496 - accuracy: 0.9947 - val_loss: 0.2858 - val_accuracy: 0.9241\n",
      "Epoch 96/200\n",
      "1076/1076 [==============================] - 905s 841ms/step - loss: 0.0500 - accuracy: 0.9940 - val_loss: 0.2848 - val_accuracy: 0.9229\n",
      "Epoch 97/200\n",
      "1076/1076 [==============================] - 884s 821ms/step - loss: 0.0564 - accuracy: 0.9926 - val_loss: 0.2908 - val_accuracy: 0.9235\n",
      "Epoch 98/200\n",
      "1076/1076 [==============================] - 908s 844ms/step - loss: 0.0545 - accuracy: 0.9931 - val_loss: 0.2844 - val_accuracy: 0.9241\n",
      "Epoch 99/200\n",
      "1076/1076 [==============================] - 808s 751ms/step - loss: 0.0561 - accuracy: 0.9912 - val_loss: 0.3040 - val_accuracy: 0.9160\n",
      "Epoch 100/200\n",
      "1076/1076 [==============================] - 932s 866ms/step - loss: 0.0552 - accuracy: 0.9922 - val_loss: 0.2858 - val_accuracy: 0.9210\n",
      "Epoch 101/200\n",
      "1076/1076 [==============================] - 793s 736ms/step - loss: 0.0555 - accuracy: 0.9916 - val_loss: 0.2916 - val_accuracy: 0.9223\n",
      "Epoch 102/200\n",
      "1076/1076 [==============================] - 851s 791ms/step - loss: 0.0527 - accuracy: 0.9933 - val_loss: 0.2773 - val_accuracy: 0.9260\n",
      "Epoch 103/200\n",
      "1076/1076 [==============================] - 850s 789ms/step - loss: 0.0528 - accuracy: 0.9928 - val_loss: 0.2808 - val_accuracy: 0.9241\n",
      "Epoch 104/200\n",
      "1076/1076 [==============================] - 733s 682ms/step - loss: 0.0508 - accuracy: 0.9943 - val_loss: 0.2901 - val_accuracy: 0.9235\n",
      "Epoch 105/200\n",
      "1076/1076 [==============================] - 793s 737ms/step - loss: 0.0539 - accuracy: 0.9927 - val_loss: 0.2867 - val_accuracy: 0.9248\n",
      "Epoch 106/200\n",
      "1076/1076 [==============================] - 858s 797ms/step - loss: 0.0514 - accuracy: 0.9931 - val_loss: 0.2797 - val_accuracy: 0.9266\n",
      "Epoch 107/200\n",
      "1076/1076 [==============================] - 761s 707ms/step - loss: 0.0520 - accuracy: 0.9929 - val_loss: 0.2953 - val_accuracy: 0.9192\n",
      "Epoch 108/200\n"
     ]
    },
    {
     "name": "stdout",
     "output_type": "stream",
     "text": [
      "1076/1076 [==============================] - 935s 869ms/step - loss: 0.0561 - accuracy: 0.9921 - val_loss: 0.2855 - val_accuracy: 0.9229\n",
      "Epoch 109/200\n",
      "1076/1076 [==============================] - 870s 808ms/step - loss: 0.0542 - accuracy: 0.9938 - val_loss: 0.2838 - val_accuracy: 0.9248\n",
      "Epoch 110/200\n",
      " 831/1076 [======================>.......] - ETA: 2:48 - loss: 0.0541 - accuracy: 0.9922"
     ]
    }
   ],
   "source": [
    "start_epoch = 0\n",
    "epochs = 200\n",
    "\n",
    "model.fit(\n",
    "    train_data_loader,\n",
    "    validation_data=valid_data_loader,\n",
    "    epochs=epochs,\n",
    "    callbacks=[reduceLROnPlat, save_c, csv_logger],\n",
    "    initial_epoch=start_epoch\n",
    ")"
   ]
  },
  {
   "cell_type": "code",
   "execution_count": 7,
   "metadata": {},
   "outputs": [
    {
     "name": "stdout",
     "output_type": "stream",
     "text": [
      "./weights/classification/detect_lvi/2021-07-01/target_size_(512, 512)\\weights_0.1769_0.2184_14.hdf5\n"
     ]
    }
   ],
   "source": [
    "weight_path_list = glob(f\"./weights/classification/detect_lvi/2021-07-01/target_size_(512, 512)/*.hdf5\")\n",
    "weight_path_list.sort()\n",
    "best_path = weight_path_list[0]\n",
    "print(best_path)"
   ]
  },
  {
   "cell_type": "code",
   "execution_count": 12,
   "metadata": {},
   "outputs": [],
   "source": [
    "best_path = \"./weights/classification/detect_lvi/2021-07-01/target_size_(512, 512)\\weights_0.2345_0.1941_47.hdf5\""
   ]
  },
  {
   "cell_type": "code",
   "execution_count": 30,
   "metadata": {},
   "outputs": [],
   "source": [
    "best_path = \"./weights/classification/detect_lvi/2021-07-01/target_size_(512, 512)\\weights_0.1878_0.1986_101.hdf5\""
   ]
  },
  {
   "cell_type": "code",
   "execution_count": 31,
   "metadata": {
    "collapsed": true
   },
   "outputs": [
    {
     "name": "stdout",
     "output_type": "stream",
     "text": [
      "1469/1469 [==============================] - 118s 81ms/step - loss: 0.0793 - accuracy: 0.9816\n"
     ]
    },
    {
     "data": {
      "text/plain": [
       "[0.07933680713176727, 0.9816201329231262]"
      ]
     },
     "execution_count": 31,
     "metadata": {},
     "output_type": "execute_result"
    }
   ],
   "source": [
    "target_data_loader = test_data_loader\n",
    "\n",
    "model.load_weights(best_path)\n",
    "model_predicted = model.predict(target_data_loader)\n",
    "ground_truth = np.array(list(target_data_loader.data_getter.class_dict.values()))\n",
    "\n",
    "model.evaluate(target_data_loader)"
   ]
  },
  {
   "cell_type": "code",
   "execution_count": 32,
   "metadata": {},
   "outputs": [],
   "source": [
    "thresh_hold = 0.8\n",
    "\n",
    "negative_group_1 = np.where(model_predicted < thresh_hold)[0]\n",
    "negative_group_2 = np.where(model_predicted != 0)[0]\n",
    "negative_confirm = np.where(model_predicted == 0)[0]\n",
    "negative_not_confirm = np.intersect1d(negative_group_1, negative_group_2)\n",
    "\n",
    "positive_group_1 = np.where(model_predicted > thresh_hold)[0]\n",
    "positive_group_2 = np.where(model_predicted != 1)[0]\n",
    "postive_confirm = np.where(model_predicted == 1)[0]\n",
    "postive_not_confirm = np.intersect1d(positive_group_1, positive_group_2)\n",
    "\n",
    "ground_truth_negative = np.where(ground_truth == 0)[0]\n",
    "ground_truth_positive = np.where(ground_truth == 1)[0]\n",
    "\n",
    "true_negative = np.intersect1d(negative_group_1, ground_truth_negative)\n",
    "true_positive = np.intersect1d(positive_group_1, ground_truth_positive)\n",
    "false_negative = np.intersect1d(negative_group_1, ground_truth_positive)\n",
    "false_positive = np.intersect1d(positive_group_1, ground_truth_negative)\n"
   ]
  },
  {
   "cell_type": "code",
   "execution_count": 33,
   "metadata": {},
   "outputs": [
    {
     "name": "stdout",
     "output_type": "stream",
     "text": [
      "0\n",
      "767\n",
      "0\n",
      "702\n"
     ]
    }
   ],
   "source": [
    "print(len(negative_confirm))\n",
    "print(len(negative_not_confirm))\n",
    "print(len(postive_confirm))\n",
    "print(len(postive_not_confirm))"
   ]
  },
  {
   "cell_type": "code",
   "execution_count": 34,
   "metadata": {},
   "outputs": [
    {
     "name": "stdout",
     "output_type": "stream",
     "text": [
      "0\n",
      "767\n",
      "0\n",
      "702\n"
     ]
    }
   ],
   "source": [
    "print(len(negative_confirm))\n",
    "print(len(negative_not_confirm))\n",
    "print(len(postive_confirm))\n",
    "print(len(postive_not_confirm))"
   ]
  },
  {
   "cell_type": "code",
   "execution_count": 35,
   "metadata": {},
   "outputs": [
    {
     "name": "stdout",
     "output_type": "stream",
     "text": [
      "[1049 1068 1074 1076 1084 1085 1086 1142 1147]\n",
      "[ 37  63  64 393 446 451 518 564 596 597 619]\n"
     ]
    }
   ],
   "source": [
    "print(false_negative)\n",
    "print(false_positive)"
   ]
  },
  {
   "cell_type": "code",
   "execution_count": null,
   "metadata": {},
   "outputs": [],
   "source": [
    "import matplotlib.pyplot as plt  \n",
    "from sklearn.datasets import make_classification\n",
    "from sklearn.metrics import plot_confusion_matrix\n",
    "from sklearn.model_selection import train_test_split\n",
    "from sklearn.svm import SVC\n",
    "\n",
    "test_labels = ['ebv_neg','ebv_pos']\n",
    "preds = np.argmax(model_predicted,axis=-1)\n",
    "\n",
    "plot_confusion_matrix(clf, X_test, y_test)  \n",
    "plt.show()  "
   ]
  },
  {
   "cell_type": "code",
   "execution_count": null,
   "metadata": {},
   "outputs": [],
   "source": [
    "#Confusion Matrix\n",
    "from sklearn.metrics import accuracy_score\n",
    "import seaborn as sn\n",
    "import datetime\n",
    "import numpy as np\n",
    "from sklearn.metrics import confusion_matrix\n",
    "import matplotlib.pyplot as plt\n",
    "\n",
    "test_labels = ['ebv_neg','ebv_pos']\n",
    "preds = np.argmax(model_predicted,axis=-1)\n",
    "print(\"Accurance : {}\".format(accuracy_score(preds)))\n",
    "\n",
    "CM = confusion_matrix(test_labels, preds)\n",
    "ax = plt.axes()\n",
    "heatmap(CM,annot=True, annot_kws={\"size:\":10},xticklabels=Classes,yticklabels=Classes, ax = ax, cmap=\"Blues\",fmt='g')\n",
    "ax.set_title('Confision Matrix')\n",
    "plt.show()"
   ]
  },
  {
   "cell_type": "code",
   "execution_count": 6,
   "metadata": {},
   "outputs": [
    {
     "name": "stdout",
     "output_type": "stream",
     "text": [
      "['epoch', 'accuracy', 'loss', 'lr', 'val_accuracy', 'val_loss']\n"
     ]
    },
    {
     "ename": "TypeError",
     "evalue": "float() argument must be a string or a number, not 'NoneType'",
     "output_type": "error",
     "traceback": [
      "\u001b[1;31m---------------------------------------------------------------------------\u001b[0m",
      "\u001b[1;31mTypeError\u001b[0m                                 Traceback (most recent call last)",
      "\u001b[1;32m<ipython-input-6-1829bf035dfc>\u001b[0m in \u001b[0;36m<module>\u001b[1;34m\u001b[0m\n\u001b[0;32m      7\u001b[0m     \u001b[1;32mfor\u001b[0m \u001b[0mrow\u001b[0m \u001b[1;32min\u001b[0m \u001b[0mreader\u001b[0m\u001b[1;33m:\u001b[0m\u001b[1;33m\u001b[0m\u001b[1;33m\u001b[0m\u001b[0m\n\u001b[0;32m      8\u001b[0m         \u001b[1;32mfor\u001b[0m \u001b[0mfiledname\u001b[0m \u001b[1;32min\u001b[0m \u001b[0mreader\u001b[0m\u001b[1;33m.\u001b[0m\u001b[0mfieldnames\u001b[0m\u001b[1;33m:\u001b[0m\u001b[1;33m\u001b[0m\u001b[1;33m\u001b[0m\u001b[0m\n\u001b[1;32m----> 9\u001b[1;33m             \u001b[0mdict_from_csv\u001b[0m\u001b[1;33m[\u001b[0m\u001b[0mfiledname\u001b[0m\u001b[1;33m]\u001b[0m\u001b[1;33m.\u001b[0m\u001b[0mappend\u001b[0m\u001b[1;33m(\u001b[0m\u001b[0mfloat\u001b[0m\u001b[1;33m(\u001b[0m\u001b[0mrow\u001b[0m\u001b[1;33m[\u001b[0m\u001b[0mfiledname\u001b[0m\u001b[1;33m]\u001b[0m\u001b[1;33m)\u001b[0m\u001b[1;33m)\u001b[0m\u001b[1;33m\u001b[0m\u001b[1;33m\u001b[0m\u001b[0m\n\u001b[0m",
      "\u001b[1;31mTypeError\u001b[0m: float() argument must be a string or a number, not 'NoneType'"
     ]
    }
   ],
   "source": [
    "import csv\n",
    "\n",
    "with open('./logs/classification/detect_lvi/2021-07-01/target_size_(512, 512)/log.csv') as csv_file:\n",
    "    reader = csv.DictReader(csv_file)\n",
    "    dict_from_csv = {field_name:[] for field_name in reader.fieldnames}\n",
    "    print(reader.fieldnames)\n",
    "    for row in reader:\n",
    "        for filedname in reader.fieldnames:\n",
    "            dict_from_csv[filedname].append(float(row[filedname])) "
   ]
  },
  {
   "cell_type": "code",
   "execution_count": 7,
   "metadata": {},
   "outputs": [
    {
     "data": {
      "image/png": "[encoded data removed]",
      "text/plain": [
       "<Figure size 432x288 with 1 Axes>"
      ]
     },
     "metadata": {
      "needs_background": "light"
     },
     "output_type": "display_data"
    }
   ],
   "source": [
    "from matplotlib import pyplot as plt\n",
    "\n",
    "plt.plot(dict_from_csv[\"loss\"])\n",
    "plt.plot(dict_from_csv[\"val_loss\"])\n",
    "plt.legend([\"loss\", \"val_loss\"])\n",
    "plt.show()"
   ]
  },
  {
   "cell_type": "code",
   "execution_count": 8,
   "metadata": {},
   "outputs": [
    {
     "data": {
      "image/png": "[encoded data removed]",
      "text/plain": [
       "<Figure size 432x288 with 1 Axes>"
      ]
     },
     "metadata": {
      "needs_background": "light"
     },
     "output_type": "display_data"
    }
   ],
   "source": [
    "from matplotlib import pyplot as plt\n",
    "\n",
    "plt.plot(dict_from_csv[\"accuracy\"][:-1])\n",
    "plt.plot(dict_from_csv[\"val_accuracy\"])\n",
    "plt.legend([\"accuracy\", \"val_accuracy\"])\n",
    "plt.show()"
   ]
  },
  {
   "cell_type": "code",
   "execution_count": 12,
   "metadata": {
    "scrolled": true
   },
   "outputs": [],
   "source": [
    "temp = np.array(dict_from_csv[\"val_accuracy\"]) + np.array(dict_from_csv[\"accuracy\"][:-1])"
   ]
  },
  {
   "cell_type": "code",
   "execution_count": 14,
   "metadata": {},
   "outputs": [
    {
     "data": {
      "text/plain": [
       "47"
      ]
     },
     "execution_count": 14,
     "metadata": {},
     "output_type": "execute_result"
    }
   ],
   "source": [
    "np.argmax(temp)"
   ]
  },
  {
   "cell_type": "code",
   "execution_count": 15,
   "metadata": {},
   "outputs": [
    {
     "data": {
      "text/plain": [
       "0.2005445510149002"
      ]
     },
     "execution_count": 15,
     "metadata": {},
     "output_type": "execute_result"
    }
   ],
   "source": [
    "dict_from_csv[\"loss\"][47]"
   ]
  },
  {
   "cell_type": "code",
   "execution_count": 21,
   "metadata": {},
   "outputs": [
    {
     "data": {
      "text/plain": [
       "0.19035811722278595"
      ]
     },
     "execution_count": 21,
     "metadata": {},
     "output_type": "execute_result"
    }
   ],
   "source": [
    "dict_from_csv[\"val_loss\"][47]"
   ]
  },
  {
   "cell_type": "code",
   "execution_count": 19,
   "metadata": {},
   "outputs": [
    {
     "data": {
      "text/plain": [
       "0.9387500286102295"
      ]
     },
     "execution_count": 19,
     "metadata": {},
     "output_type": "execute_result"
    }
   ],
   "source": [
    "dict_from_csv[\"val_accuracy\"][47]"
   ]
  },
  {
   "cell_type": "code",
   "execution_count": 17,
   "metadata": {},
   "outputs": [
    {
     "data": {
      "text/plain": [
       "0.9086896181106567"
      ]
     },
     "execution_count": 17,
     "metadata": {},
     "output_type": "execute_result"
    }
   ],
   "source": [
    "dict_from_csv[\"accuracy\"][47]"
   ]
  },
  {
   "cell_type": "code",
   "execution_count": null,
   "metadata": {},
   "outputs": [],
   "source": []
  }
 ],
 "metadata": {
  "kernelspec": {
   "display_name": "Python 3",
   "language": "python",
   "name": "python3"
  },
  "language_info": {
   "codemirror_mode": {
    "name": "ipython",
    "version": 3
   },
   "file_extension": ".py",
   "mimetype": "text/x-python",
   "name": "python",
   "nbconvert_exporter": "python",
   "pygments_lexer": "ipython3",
   "version": "3.8.8"
  }
 },
 "nbformat": 4,
 "nbformat_minor": 4
}
