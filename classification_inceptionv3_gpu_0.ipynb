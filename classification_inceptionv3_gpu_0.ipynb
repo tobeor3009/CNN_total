{
 "cells": [
  {
   "cell_type": "code",
   "execution_count": 1,
   "metadata": {},
   "outputs": [
    {
     "name": "stdout",
     "output_type": "stream",
     "text": [
      "[PhysicalDevice(name='/physical_device:GPU:0', device_type='GPU')]\n"
     ]
    }
   ],
   "source": [
    "import os\n",
    "gpu_number = \"2\"\n",
    "os.environ['CUDA_VISIBLE_DEVICES'] = gpu_number\n",
    "\n",
    "import tensorflow as tf\n",
    "from tensorflow.keras import backend as keras_backend\n",
    "import numpy as np\n",
    "\n",
    "gpu_on = True\n",
    "\n",
    "if gpu_on :\n",
    "    gpu_devices = tf.config.experimental.list_physical_devices(\"GPU\")\n",
    "    for device in gpu_devices:\n",
    "        tf.config.experimental.set_memory_growth(device, True)\n",
    "else:\n",
    "    os.environ['CUDA_VISIBLE_DEVICES'] = '-1'\n",
    "    gpu_devices = tf.config.experimental.list_physical_devices(\"CPU\")\n",
    "\n",
    "print(gpu_devices)"
   ]
  },
  {
   "cell_type": "code",
   "execution_count": 2,
   "metadata": {},
   "outputs": [
    {
     "name": "stderr",
     "output_type": "stream",
     "text": [
      " [8608/8608] |##############################################| (Time:  0:05:10) \n",
      " [04/1609] |                                                | (ETA:   0:00:40) "
     ]
    },
    {
     "name": "stdout",
     "output_type": "stream",
     "text": [
      "Total data num 8608 with 2 classes\n"
     ]
    },
    {
     "name": "stderr",
     "output_type": "stream",
     "text": [
      " [1609/1609] |##############################################| (Time:  0:00:59) \n"
     ]
    },
    {
     "name": "stdout",
     "output_type": "stream",
     "text": [
      "Total data num 1609 with 2 classes\n",
      "Total data num 1469 with 2 classes\n"
     ]
    }
   ],
   "source": [
    "from src.data_loader.classification import ClassifyDataloader\n",
    "from tensorflow.keras.applications.inception_v3 import preprocess_input\n",
    "from glob import glob\n",
    "\n",
    "task = \"classification\"\n",
    "data_set_name = \"detect_lvi\"\n",
    "batch_size = 32\n",
    "on_memory = True\n",
    "argumentation_proba = 0.8\n",
    "target_size = (512,512)\n",
    "interpolation = \"bilinear\"\n",
    "class_mode = \"binary\"\n",
    "# class_mode = \"categorical\"\n",
    "dtype=\"float32\"\n",
    "\n",
    "train_image_path_list = glob(f\"./datasets/{task}/{data_set_name}/train/*/*\")\n",
    "valid_image_path_list = glob(f\"./datasets/{task}/{data_set_name}/valid/*/*\")\n",
    "test_image_path_list = glob(f\"./datasets/{task}/{data_set_name}/test/*/*\")\n",
    "label_list = os.listdir(f\"./datasets/{task}/{data_set_name}/train\")\n",
    "\n",
    "label_to_index_dict = {label:index for index, label in enumerate(label_list)}\n",
    "index_to_label_dict = {index:label for index, label in enumerate(label_list)}\n",
    "\n",
    "train_data_loader = ClassifyDataloader(image_path_list=train_image_path_list,\n",
    "                                       label_to_index_dict=label_to_index_dict,\n",
    "                                       batch_size=batch_size,\n",
    "                                       on_memory=on_memory,\n",
    "                                       argumentation_proba=argumentation_proba,\n",
    "                                       preprocess_input=preprocess_input,\n",
    "                                       target_size=target_size,\n",
    "                                       interpolation=interpolation,\n",
    "                                       shuffle=True,\n",
    "                                       class_mode=class_mode,\n",
    "                                       dtype=dtype\n",
    ")\n",
    "valid_data_loader = ClassifyDataloader(image_path_list=valid_image_path_list,\n",
    "                                       label_to_index_dict=label_to_index_dict,\n",
    "                                       batch_size=batch_size,\n",
    "                                       on_memory=on_memory,\n",
    "                                       argumentation_proba=0,\n",
    "                                       preprocess_input=preprocess_input,\n",
    "                                       target_size=target_size,\n",
    "                                       interpolation=interpolation,                                       \n",
    "                                       shuffle=False,\n",
    "                                       class_mode=class_mode,\n",
    "                                       dtype=dtype\n",
    ")\n",
    "test_data_loader = ClassifyDataloader(image_path_list=test_image_path_list,\n",
    "                                       label_to_index_dict=label_to_index_dict,\n",
    "                                       batch_size=1,\n",
    "                                       on_memory=False,\n",
    "                                       argumentation_proba=0,\n",
    "                                       preprocess_input=preprocess_input,\n",
    "                                       target_size=target_size,\n",
    "                                       interpolation=interpolation,                                       \n",
    "                                       shuffle=False,\n",
    "                                       class_mode=class_mode,\n",
    "                                       dtype=dtype\n",
    ")"
   ]
  },
  {
   "cell_type": "code",
   "execution_count": 3,
   "metadata": {},
   "outputs": [],
   "source": [
    "from tensorflow.keras.applications import InceptionV3\n",
    "from tensorflow.keras.losses import CategoricalCrossentropy, BinaryCrossentropy\n",
    "from tensorflow.keras.layers import GlobalAveragePooling2D, Dense, Dropout\n",
    "from tensorflow.keras.models import Model\n",
    "\n",
    "import numpy as np\n",
    "np.random.seed(1337)  # for reproducibility\n",
    "\n",
    "DROPOUT_RATIO = 0.5\n",
    "\n",
    "grad_cam = False\n",
    "transfer_learning = False\n",
    "transfer_train_mode = \"include_deep_layer\"\n",
    "layer_name_frozen_to = \"mixed4\"\n",
    "\n",
    "#  binary_sigmoid, categorical_sigmoid, categorical_softmax\n",
    "activation = \"binary_sigmoid\"\n",
    "\n",
    "# create the base pre-trained model~\n",
    "base_model = InceptionV3(\n",
    "    include_top=False,\n",
    "    weights=\"imagenet\",\n",
    "    input_tensor=None,\n",
    "    input_shape=(None,None,3),\n",
    "    classes=None,\n",
    "    pooling=None,\n",
    "    classifier_activation=None\n",
    ")\n",
    "\n",
    "if transfer_learning:\n",
    "    if train_mode == \"dense_only\":\n",
    "        base_model.trainable = False\n",
    "    elif train_mode == \"include_deep_layer\":\n",
    "        for layer in base_model.layers: \n",
    "            layer.trainable = False\n",
    "            if layer.name == layer_name_frozen_to:\n",
    "                break\n",
    "\n",
    "# add a global spatial average pooling layer\n",
    "x = base_model.output\n",
    "# (Batch_Size,?)\n",
    "x = GlobalAveragePooling2D()(x)\n",
    "x = Dropout(DROPOUT_RATIO)(x)\n",
    "# let's add a fully-connected layer\n",
    "# (Batch_Size,1)\n",
    "x = Dense(1024, activation='relu')(x)\n",
    "# (Batch_Size,1024)\n",
    "x = Dropout(DROPOUT_RATIO)(x)\n",
    "\n",
    "if grad_cam:\n",
    "    x *= 1e-1\n",
    "    keras_backend.set_floatx('float64')\n",
    "    dense_dtype = \"float64\"\n",
    "else:\n",
    "    dense_dtype = \"float32\"\n",
    "    \n",
    "if activation == \"binary_sigmoid\":\n",
    "    predictions = Dense(1, activation='sigmoid', dtype=dense_dtype)(x)\n",
    "    loss_function = BinaryCrossentropy(label_smoothing=0.01)\n",
    "elif activation == \"categorical_sigmoid\":\n",
    "    predictions = Dense(len(label_list), activation='sigmoid', dtype=dense_dtype)(x)\n",
    "    loss_function = CategoricalCrossentropy(label_smoothing=0.01)\n",
    "elif activation == \"categorical_softmax\":\n",
    "    predictions = Dense(len(label_list), activation='softmax', dtype=dense_dtype)(x)\n",
    "    loss_function = CategoricalCrossentropy(label_smoothing=0.01)\n",
    "\n",
    "# this is the model we will train\n",
    "model = Model(base_model.input, predictions)"
   ]
  },
  {
   "cell_type": "code",
   "execution_count": 4,
   "metadata": {},
   "outputs": [],
   "source": [
    "from tensorflow.keras.callbacks import Callback, ModelCheckpoint\n",
    "from tensorflow.keras.callbacks import ReduceLROnPlateau, LearningRateScheduler\n",
    "from tensorflow.keras.preprocessing import image\n",
    "from matplotlib import pyplot as plt\n",
    "\n",
    "class ClassificationMonitor(Callback):\n",
    "    \"\"\"A callback to generate and save images after each epoch\"\"\"\n",
    "\n",
    "    def __init__(self, data_loader, save_image_path, index_to_label_dict, num_img=4):\n",
    "        self.data_loader = data_loader\n",
    "        self.num_img = num_img\n",
    "        self.save_image_path = save_image_path\n",
    "        os.makedirs(save_image_path, exist_ok=True)\n",
    "        \n",
    "    def on_epoch_end(self, epoch, logs=None):\n",
    "        \n",
    "        len_data_loader = len(self.data_loader)\n",
    "        random_index = range(len_data_loader)\n",
    "        random_index = np.random.permutation(random_index)[:self.num_img]\n",
    "        \n",
    "        _, ax = plt.subplots(self.num_img // 2, 2, figsize=(12, 12))\n",
    "        for current_index, image_index in enumerate(random_index):\n",
    "            image_array, label = self.data_loader.data_getter[image_index].values()\n",
    "            iamge_array_name = self.data_loader.data_getter.image_path_dict[image_index]\n",
    "            \n",
    "            image_array = np.expand_dims(image_array, axis=0)\n",
    "            label = np.expand_dims(label, axis=0)\n",
    "            \n",
    "            prediction = self.model(image_array).numpy()[0]\n",
    "            prediction = np.round(prediction, dtype=\"int32\")\n",
    "            \n",
    "            image_array = (image_array[0] * 127.5 + 127.5).astype(np.uint8)\n",
    "            target_image_array = (target_image_array[0] * 127.5 + 127.5).astype(np.uint8)\n",
    "            \n",
    "            ax[current_index, 0].imshow(image_array)\n",
    "            ax[current_index, 1].imshow(prediction)\n",
    "            ax[current_index, 0].set_title(\"Input image_x\")\n",
    "            ax[current_index, 1].set_title(\"Translated image_y\")\n",
    "\n",
    "            ax[current_index, 2].imshow(target_image_array)\n",
    "            ax[current_index, 3].imshow(reverse_prediction)\n",
    "            ax[current_index, 2].set_title(\"Input image_y\")\n",
    "            ax[current_index, 3].set_title(\"Translated image_x\")\n",
    "\n",
    "            prediction = image.array_to_img(prediction)\n",
    "            reverse_prediction = image.array_to_img(reverse_prediction)\n",
    "        plt.savefig(f\"{self.save_image_path}/generated_image_{epoch+1}\")\n",
    "        plt.show()\n",
    "        plt.close()"
   ]
  },
  {
   "cell_type": "code",
   "execution_count": 5,
   "metadata": {},
   "outputs": [],
   "source": [
    "from datetime import date\n",
    "\n",
    "from tensorflow.keras.callbacks import ModelCheckpoint\n",
    "from tensorflow.keras.callbacks import ReduceLROnPlateau\n",
    "from tensorflow.keras.callbacks import CSVLogger\n",
    "from tensorflow.keras.callbacks import LambdaCallback\n",
    "from tensorflow.keras.optimizers import Nadam\n",
    "\n",
    "today = date.today()\n",
    "\n",
    "# YY/MM/dd\n",
    "today_str = today.strftime(\"%Y-%m-%d\")\n",
    "today_weight_path = f\"./result_daily/{task}/{data_set_name}/{today_str}/{gpu_number}/target_size_{target_size}/weights/\" \n",
    "today_image_path = f\"./result_daily/{task}/{data_set_name}/{today_str}/{gpu_number}/target_size_{target_size}/images/\"\n",
    "today_logs_path = f\"./result_daily/{task}/{data_set_name}/{today_str}/{gpu_number}/target_size_{target_size}/\"\n",
    "os.makedirs(today_weight_path, exist_ok=True)\n",
    "os.makedirs(today_logs_path, exist_ok=True)\n",
    "optimizer = Nadam(1e-4, clipnorm=1)\n",
    "\n",
    "save_c = ModelCheckpoint(\n",
    "    today_weight_path+\"/weights_{val_loss:.4f}_{loss:.4f}_{epoch:02d}.hdf5\",\n",
    "    monitor='val_loss',\n",
    "    verbose=0,\n",
    "    save_best_only=False,\n",
    "    save_weights_only=True,\n",
    "    mode='min')\n",
    "\n",
    "\n",
    "reduceLROnPlat = ReduceLROnPlateau(\n",
    "    monitor=\"val_loss\",\n",
    "    factor=0.1,\n",
    "    patience=20,\n",
    "    verbose=1,\n",
    "    mode=\"auto\",\n",
    "    min_delta=0.0001,\n",
    "    cooldown=5,\n",
    "    min_lr=1e-7)\n",
    "\n",
    "csv_logger = CSVLogger(f'{today_logs_path}/log.csv', append=False, separator=',')\n",
    "\n",
    "model.compile(optimizer=optimizer, loss=loss_function, metrics=['accuracy'])"
   ]
  },
  {
   "cell_type": "code",
   "execution_count": null,
   "metadata": {
    "scrolled": true
   },
   "outputs": [
    {
     "name": "stdout",
     "output_type": "stream",
     "text": [
      "Epoch 1/200\n",
      "269/269 [==============================] - 286s 983ms/step - loss: 0.3695 - accuracy: 0.8303 - val_loss: 0.3826 - val_accuracy: 0.8788\n",
      "Epoch 2/200\n",
      "269/269 [==============================] - 263s 977ms/step - loss: 0.1876 - accuracy: 0.9385 - val_loss: 0.3666 - val_accuracy: 0.8850\n",
      "Epoch 3/200\n",
      "269/269 [==============================] - 265s 982ms/step - loss: 0.1337 - accuracy: 0.9629 - val_loss: 0.4340 - val_accuracy: 0.8756\n",
      "Epoch 4/200\n",
      "269/269 [==============================] - 264s 979ms/step - loss: 0.1074 - accuracy: 0.9708 - val_loss: 0.4151 - val_accuracy: 0.8850\n",
      "Epoch 5/200\n",
      "269/269 [==============================] - 265s 982ms/step - loss: 0.0944 - accuracy: 0.9777 - val_loss: 0.3407 - val_accuracy: 0.8869\n",
      "Epoch 6/200\n",
      "269/269 [==============================] - 265s 981ms/step - loss: 0.0878 - accuracy: 0.9794 - val_loss: 0.3826 - val_accuracy: 0.8744\n",
      "Epoch 7/200\n",
      "269/269 [==============================] - 265s 983ms/step - loss: 0.0775 - accuracy: 0.9837 - val_loss: 0.4436 - val_accuracy: 0.8737\n",
      "Epoch 8/200\n",
      "269/269 [==============================] - 265s 983ms/step - loss: 0.0704 - accuracy: 0.9861 - val_loss: 0.5262 - val_accuracy: 0.8519\n",
      "Epoch 9/200\n",
      "269/269 [==============================] - 265s 985ms/step - loss: 0.0606 - accuracy: 0.9902 - val_loss: 0.3921 - val_accuracy: 0.8938\n",
      "Epoch 10/200\n",
      "269/269 [==============================] - 265s 983ms/step - loss: 0.0646 - accuracy: 0.9880 - val_loss: 0.4993 - val_accuracy: 0.8612\n",
      "Epoch 11/200\n",
      "269/269 [==============================] - 267s 991ms/step - loss: 0.0646 - accuracy: 0.9888 - val_loss: 0.3376 - val_accuracy: 0.8988\n",
      "Epoch 12/200\n",
      "269/269 [==============================] - 265s 982ms/step - loss: 0.0594 - accuracy: 0.9914 - val_loss: 0.6570 - val_accuracy: 0.8112\n",
      "Epoch 13/200\n",
      "269/269 [==============================] - 265s 982ms/step - loss: 0.0594 - accuracy: 0.9897 - val_loss: 0.5633 - val_accuracy: 0.8706\n",
      "Epoch 14/200\n",
      " 99/269 [==========>...................] - ETA: 2:38 - loss: 0.0624 - accuracy: 0.9890"
     ]
    }
   ],
   "source": [
    "start_epoch = 0\n",
    "epochs = 200\n",
    "\n",
    "model.fit(\n",
    "    train_data_loader,\n",
    "    validation_data=valid_data_loader,\n",
    "    epochs=epochs,\n",
    "    callbacks=[reduceLROnPlat, save_c, csv_logger],\n",
    "    initial_epoch=start_epoch\n",
    ")"
   ]
  },
  {
   "cell_type": "markdown",
   "metadata": {},
   "source": [
    "# Learning Curve"
   ]
  },
  {
   "cell_type": "code",
   "execution_count": 6,
   "metadata": {
    "scrolled": true
   },
   "outputs": [
    {
     "name": "stdout",
     "output_type": "stream",
     "text": [
      "['epoch', 'dice_score', 'loss', 'lr', 'val_dice_score', 'val_loss']\n",
      "val_loss_min (epoch, loss, accuracy): (16, 0.0045, 0.9590)\n",
      "val_dice_score_max (epoch, loss, accuracy): (16, 0.0045, 0.9590)\n",
      "loss_score_diff_min (epoch, loss, accuracy): (16, 0.0045, 0.9590)\n"
     ]
    },
    {
     "data": {
      "image/png": "[encoded data removed]",
      "text/plain": [
       "<Figure size 1296x432 with 2 Axes>"
      ]
     },
     "metadata": {
      "needs_background": "light"
     },
     "output_type": "display_data"
    }
   ],
   "source": [
    "import csv\n",
    "import shutil\n",
    "import numpy as np\n",
    "from glob import glob\n",
    "from matplotlib import pyplot as plt\n",
    "\n",
    "result_path = f\"./result_daily/{task}/{data_set_name}/{today_str}/gpu_{gpu_number}/target_size_None/iter_{mask_iter}/\"\n",
    "result_weights = glob(f'{result_path}/weights/*')\n",
    "\n",
    "with open(f'{result_path}/log.csv') as csv_file:\n",
    "    reader = csv.DictReader(csv_file)\n",
    "    dict_from_csv = {field_name:[] for field_name in reader.fieldnames}\n",
    "    print(reader.fieldnames)\n",
    "    for row in reader:\n",
    "        for filedname in reader.fieldnames:\n",
    "            dict_from_csv[filedname].append(float(row[filedname])) \n",
    "\n",
    "loss_min_epoch = np.argmin(dict_from_csv['val_loss']) + 1\n",
    "loss_min_loss = np.min(dict_from_csv['val_loss'])\n",
    "loss_min_accuracy = dict_from_csv['val_dice_score'][loss_min_epoch - 1]\n",
    "\n",
    "score_max_epoch = np.argmax(dict_from_csv['val_dice_score']) + 1\n",
    "score_max_loss = dict_from_csv['val_loss'][score_max_epoch - 1]\n",
    "score_max_accuracy = np.max(dict_from_csv['val_dice_score'])\n",
    "\n",
    "val_score = dict_from_csv['val_dice_score']\n",
    "score_diff = np.maximum(np.array(dict_from_csv['dice_score'] - np.array(dict_from_csv['val_dice_score'])), 0)\n",
    "\n",
    "loss_score_diff_min_epoch = np.argmax(val_score - score_diff) + 1\n",
    "loss_score_diff_min_loss = dict_from_csv['val_loss'][loss_score_diff_min_epoch - 1]\n",
    "loss_score_diff_min_accuracy = dict_from_csv['val_dice_score'][loss_score_diff_min_epoch - 1]\n",
    "\n",
    "print(f\"val_loss_min (epoch, loss, accuracy): ({loss_min_epoch}, {loss_min_loss:.4f}, {loss_min_accuracy:.4f})\")\n",
    "print(f\"val_dice_score_max (epoch, loss, accuracy): ({score_max_epoch}, {score_max_loss:.4f}, {score_max_accuracy:.4f})\")\n",
    "print(f\"loss_score_diff_min (epoch, loss, accuracy): ({loss_score_diff_min_epoch}, {loss_score_diff_min_loss:.4f}, {loss_score_diff_min_accuracy:.4f})\")\n",
    "\n",
    "_, ax = plt.subplots(1, 2, figsize=(18, 6))\n",
    "\n",
    "ax[0].plot(dict_from_csv[\"loss\"])\n",
    "ax[0].plot(dict_from_csv[\"val_loss\"])\n",
    "ax[0].plot(loss_min_epoch - 1, loss_min_loss, marker=\"|\", color=\"black\", markersize=30)\n",
    "ax[0].plot(score_max_epoch - 1, dict_from_csv['val_loss'][score_max_epoch - 1], marker=\"|\", color=\"red\", markersize=30)\n",
    "ax[0].plot(loss_score_diff_min_epoch - 1, dict_from_csv['val_loss'][loss_score_diff_min_epoch - 1], marker=\"|\", color=\"green\", markersize=30)\n",
    "ax[0].legend([\"loss\", \"val_loss\", \"val_loss_min\", \"val_score_max\", \"loss_score_diff_min\"])\n",
    "\n",
    "ax[1].plot(dict_from_csv[\"dice_score\"])\n",
    "ax[1].plot(dict_from_csv[\"val_dice_score\"])\n",
    "ax[1].plot(loss_min_epoch - 1, dict_from_csv['val_dice_score'][loss_min_epoch - 1], marker=\"|\", color=\"black\", markersize=50)\n",
    "ax[1].plot(score_max_epoch - 1, score_max_accuracy, marker=\"|\", color=\"red\", markersize=30)\n",
    "ax[1].plot(loss_score_diff_min_epoch - 1, dict_from_csv['val_dice_score'][loss_score_diff_min_epoch - 1], marker=\"|\", color=\"green\", markersize=30)\n",
    "ax[1].legend([\"dice_score\", \"val_dice_score\", \"val_loss_min\", \"val_score_max\", \"loss_score_diff_min\"])\n",
    "\n",
    "plt.savefig(f\"{result_path}/learning curve.png\", dpi=300)\n",
    "plt.show()\n",
    "plt.close()\n"
   ]
  },
  {
   "cell_type": "code",
   "execution_count": 7,
   "metadata": {},
   "outputs": [
    {
     "name": "stdout",
     "output_type": "stream",
     "text": [
      "./result_daily/segmentation/ihc_auto_curation_level_1/2021-08-03/gpu_0/target_size_None/iter_6//weights/weights_0.0045_0.0052_16.hdf5\n",
      "1247/1247 [==============================] - 133s 96ms/step - loss: 0.0048 - dice_score: 0.9517\n"
     ]
    },
    {
     "data": {
      "text/plain": [
       "[0.004849335644394159, 0.9516533017158508]"
      ]
     },
     "execution_count": 7,
     "metadata": {},
     "output_type": "execute_result"
    }
   ],
   "source": [
    "best_loss_path = glob(f\"{result_path}/weights/weights_{loss_min_loss:.4f}_*.hdf5\")[0]\n",
    "shutil.copy(best_loss_path, f\"{result_path}/epoch_{loss_min_epoch}_loss_{loss_min_loss:.4f}_dice_{loss_min_accuracy:.4f}.hdf5\")\n",
    "print(best_loss_path)\n",
    "\n",
    "model.load_weights(best_loss_path)\n",
    "model.evaluate(test_data_loader)"
   ]
  },
  {
   "cell_type": "code",
   "execution_count": 8,
   "metadata": {
    "scrolled": true
   },
   "outputs": [
    {
     "name": "stdout",
     "output_type": "stream",
     "text": [
      "./result_daily/segmentation/ihc_auto_curation_level_1/2021-08-03/gpu_0/target_size_None/iter_6//weights/weights_0.0045_0.0052_16.hdf5\n",
      "1247/1247 [==============================] - 117s 94ms/step - loss: 0.0048 - dice_score: 0.9517\n"
     ]
    },
    {
     "data": {
      "text/plain": [
       "[0.004849335644394159, 0.9516533017158508]"
      ]
     },
     "execution_count": 8,
     "metadata": {},
     "output_type": "execute_result"
    }
   ],
   "source": [
    "best_score_path = glob(f\"{result_path}/weights/*_{score_max_epoch:02d}.hdf5\")[0]\n",
    "shutil.copy(best_score_path, f\"{result_path}/epoch_{score_max_epoch}_loss_{score_max_loss:.4f}_dice_{score_max_accuracy:.4f}.hdf5\")\n",
    "print(best_score_path)\n",
    "\n",
    "model.load_weights(best_score_path)\n",
    "model.evaluate(test_data_loader)"
   ]
  },
  {
   "cell_type": "code",
   "execution_count": 9,
   "metadata": {},
   "outputs": [
    {
     "name": "stdout",
     "output_type": "stream",
     "text": [
      "./result_daily/segmentation/ihc_auto_curation_level_1/2021-08-03/gpu_0/target_size_None/iter_6//weights/weights_0.0045_0.0052_16.hdf5\n",
      "1247/1247 [==============================] - 115s 92ms/step - loss: 0.0048 - dice_score: 0.9517\n"
     ]
    },
    {
     "data": {
      "text/plain": [
       "[0.004849335644394159, 0.9516533017158508]"
      ]
     },
     "execution_count": 9,
     "metadata": {},
     "output_type": "execute_result"
    }
   ],
   "source": [
    "best_diff_path = glob(f\"{result_path}/weights/*_{loss_score_diff_min_epoch:02d}.hdf5\")[0]\n",
    "shutil.copy(best_diff_path, f\"{result_path}/epoch_{loss_score_diff_min_epoch}_loss_{loss_score_diff_min_loss:.4f}_dice_{loss_score_diff_min_accuracy:.4f}.hdf5\")\n",
    "print(best_diff_path)\n",
    "\n",
    "model.load_weights(best_diff_path)\n",
    "model.evaluate(test_data_loader)"
   ]
  },
  {
   "cell_type": "markdown",
   "metadata": {},
   "source": [
    "# Inference"
   ]
  },
  {
   "cell_type": "code",
   "execution_count": null,
   "metadata": {},
   "outputs": [],
   "source": [
    "best_diff_path = glob(f\"{result_path}/weights/*_{loss_score_diff_min_epoch:02d}.hdf5\")[0]\n",
    "model.load_weights(best_diff_path)\n",
    "\n",
    "thresh_hold = 0.8\n",
    "\n",
    "negative_group_1 = np.where(model_predicted < thresh_hold)[0]\n",
    "negative_group_2 = np.where(model_predicted != 0)[0]\n",
    "negative_confirm = np.where(model_predicted == 0)[0]\n",
    "negative_not_confirm = np.intersect1d(negative_group_1, negative_group_2)\n",
    "\n",
    "positive_group_1 = np.where(model_predicted > thresh_hold)[0]\n",
    "positive_group_2 = np.where(model_predicted != 1)[0]\n",
    "postive_confirm = np.where(model_predicted == 1)[0]\n",
    "postive_not_confirm = np.intersect1d(positive_group_1, positive_group_2)\n",
    "\n",
    "ground_truth_negative = np.where(ground_truth == 0)[0]\n",
    "ground_truth_positive = np.where(ground_truth == 1)[0]\n",
    "\n",
    "true_negative = np.intersect1d(negative_group_1, ground_truth_negative)\n",
    "true_positive = np.intersect1d(positive_group_1, ground_truth_positive)\n",
    "false_negative = np.intersect1d(negative_group_1, ground_truth_positive)\n",
    "false_positive = np.intersect1d(positive_group_1, ground_truth_negative)\n",
    "\n",
    "print(len(negative_confirm))\n",
    "print(len(negative_not_confirm))\n",
    "print(len(postive_confirm))\n",
    "print(len(postive_not_confirm))\n",
    "\n",
    "print(len(negative_confirm))\n",
    "print(len(negative_not_confirm))\n",
    "print(len(postive_confirm))\n",
    "print(len(postive_not_confirm))\n",
    "\n",
    "print(false_negative)\n",
    "print(false_positive)"
   ]
  },
  {
   "cell_type": "code",
   "execution_count": null,
   "metadata": {},
   "outputs": [],
   "source": [
    "import matplotlib.pyplot as plt  \n",
    "from sklearn.datasets import make_classification\n",
    "from sklearn.metrics import plot_confusion_matrix\n",
    "from sklearn.model_selection import train_test_split\n",
    "from sklearn.svm import SVC\n",
    "\n",
    "test_labels = ['ebv_neg','ebv_pos']\n",
    "preds = np.argmax(model_predicted,axis=-1)\n",
    "\n",
    "plot_confusion_matrix(clf, X_test, y_test)  \n",
    "plt.show()  "
   ]
  }
 ],
 "metadata": {
  "kernelspec": {
   "display_name": "Python 3",
   "language": "python",
   "name": "python3"
  },
  "language_info": {
   "codemirror_mode": {
    "name": "ipython",
    "version": 3
   },
   "file_extension": ".py",
   "mimetype": "text/x-python",
   "name": "python",
   "nbconvert_exporter": "python",
   "pygments_lexer": "ipython3",
   "version": "3.6.9"
  }
 },
 "nbformat": 4,
 "nbformat_minor": 4
}
