{
 "cells": [
  {
   "cell_type": "code",
   "execution_count": 1,
   "metadata": {},
   "outputs": [
    {
     "name": "stdout",
     "output_type": "stream",
     "text": [
      "[PhysicalDevice(name='/physical_device:GPU:0', device_type='GPU')]\n"
     ]
    }
   ],
   "source": [
    "import os\n",
    "os.environ['CUDA_VISIBLE_DEVICES'] = '3'\n",
    "\n",
    "import tensorflow as tf\n",
    "from tensorflow.keras import backend as keras_backend\n",
    "import numpy as np\n",
    "\n",
    "gpu_on = True\n",
    "\n",
    "if gpu_on :\n",
    "    gpu_devices = tf.config.experimental.list_physical_devices(\"GPU\")\n",
    "    for device in gpu_devices:\n",
    "        tf.config.experimental.set_memory_growth(device, True)\n",
    "else:\n",
    "    os.environ['CUDA_VISIBLE_DEVICES'] = '-1'\n",
    "    gpu_devices = tf.config.experimental.list_physical_devices(\"CPU\")\n",
    "\n",
    "# from tensorflow.keras.mixed_precision import experimental as mixed_precision\n",
    "# policy = mixed_precision.Policy('mixed_float16')\n",
    "# mixed_precision.set_policy(policy)\n",
    "\n",
    "print(gpu_devices)"
   ]
  },
  {
   "cell_type": "code",
   "execution_count": 2,
   "metadata": {
    "scrolled": true
   },
   "outputs": [
    {
     "name": "stderr",
     "output_type": "stream",
     "text": [
      " [0/1609] |                                                 | (ETA:  --:--:--) \r"
     ]
    },
    {
     "name": "stdout",
     "output_type": "stream",
     "text": [
      "Total data num 8608 with 2 classes\n"
     ]
    },
    {
     "name": "stderr",
     "output_type": "stream",
     "text": [
      " [1609/1609] |###############################################| (ETA:  0:00:00) \r"
     ]
    },
    {
     "name": "stdout",
     "output_type": "stream",
     "text": [
      "Total data num 1609 with 2 classes\n",
      "Total data num 1469 with 2 classes\n"
     ]
    }
   ],
   "source": [
    "from src.data_loader.classification import ClassifyDataloader\n",
    "from tensorflow.keras.applications.inception_v3 import preprocess_input\n",
    "from glob import glob\n",
    "\n",
    "task = \"classification\"\n",
    "data_set_name = \"detect_lvi\"\n",
    "batch_size = 32\n",
    "on_memory = True\n",
    "argumentation_proba = 0.8\n",
    "target_size = (512,512)\n",
    "interpolation = \"bilinear\"\n",
    "class_mode = \"binary\"\n",
    "# class_mode = \"categorical\"\n",
    "dtype=\"float32\"\n",
    "\n",
    "\n",
    "train_image_path_list = glob(f\"./datasets/{task}/{data_set_name}/train/*/*\")\n",
    "valid_image_path_list = glob(f\"./datasets/{task}/{data_set_name}/valid/*/*\")\n",
    "test_image_path_list = glob(f\"./datasets/{task}/{data_set_name}/test/*/*\")\n",
    "label_list = os.listdir(f\"./datasets/{task}/{data_set_name}/train\")\n",
    "\n",
    "label_to_index_dict = {label:index for index, label in enumerate(label_list)}\n",
    "index_to_label_dict = {index:label for index, label in enumerate(label_list)}\n",
    "\n",
    "train_data_loader = ClassifyDataloader(image_path_list=train_image_path_list,\n",
    "                                       label_to_index_dict=label_to_index_dict,\n",
    "                                       batch_size=batch_size,\n",
    "                                       on_memory=on_memory,\n",
    "                                       argumentation_proba=argumentation_proba,\n",
    "                                       preprocess_input=preprocess_input,\n",
    "                                       target_size=target_size,\n",
    "                                       interpolation=interpolation,\n",
    "                                       shuffle=True,\n",
    "                                       class_mode=class_mode,\n",
    "                                       dtype=dtype\n",
    ")\n",
    "valid_data_loader = ClassifyDataloader(image_path_list=valid_image_path_list,\n",
    "                                       label_to_index_dict=label_to_index_dict,\n",
    "                                       batch_size=batch_size,\n",
    "                                       on_memory=on_memory,\n",
    "                                       argumentation_proba=0,\n",
    "                                       preprocess_input=preprocess_input,\n",
    "                                       target_size=target_size,\n",
    "                                       interpolation=interpolation,                                       \n",
    "                                       shuffle=False,\n",
    "                                       class_mode=class_mode,\n",
    "                                       dtype=dtype\n",
    ")\n",
    "test_data_loader = ClassifyDataloader(image_path_list=test_image_path_list,\n",
    "                                       label_to_index_dict=label_to_index_dict,\n",
    "                                       batch_size=batch_size,\n",
    "                                       on_memory=False,\n",
    "                                       argumentation_proba=0,\n",
    "                                       preprocess_input=preprocess_input,\n",
    "                                       target_size=target_size,\n",
    "                                       interpolation=interpolation,                                       \n",
    "                                       shuffle=False,\n",
    "                                       class_mode=class_mode,\n",
    "                                       dtype=dtype\n",
    ")"
   ]
  },
  {
   "cell_type": "code",
   "execution_count": 4,
   "metadata": {},
   "outputs": [],
   "source": [
    "from tensorflow.keras.applications import InceptionV3\n",
    "from tensorflow.keras.losses import CategoricalCrossentropy, BinaryCrossentropy\n",
    "from tensorflow.keras.layers import GlobalAveragePooling2D, Dense, Dropout\n",
    "from tensorflow.keras.models import Model\n",
    "\n",
    "import numpy as np\n",
    "np.random.seed(1337)  # for reproducibility\n",
    "\n",
    "DROPOUT_RATIO = 0.5\n",
    "\n",
    "grad_cam = False\n",
    "transfer_learning = False\n",
    "epoch_release_frozen = 10\n",
    "transfer_train_mode = \"include_deep_layer\"\n",
    "layer_name_frozen_to = \"mixed4\"\n",
    "\n",
    "#  binary_sigmoid, categorical_sigmoid, categorical_softmax\n",
    "activation = \"binary_sigmoid\"\n",
    "\n",
    "# create the base pre-trained model~\n",
    "base_model = InceptionV3(\n",
    "    include_top=False,\n",
    "    weights=\"imagenet\",\n",
    "    input_tensor=None,\n",
    "    input_shape=(None,None,3),\n",
    "    classes=None,\n",
    "    pooling=None,\n",
    "    classifier_activation=None\n",
    ")\n",
    "\n",
    "if transfer_learning:\n",
    "    if train_mode == \"dense_only\":\n",
    "        base_model.trainable = False\n",
    "    elif train_mode == \"include_deep_layer\":\n",
    "        for layer in base_model.layers: \n",
    "            layer.trainable = False\n",
    "            if layer.name == layer_name_frozen_to:\n",
    "                break\n",
    "\n",
    "# add a global spatial average pooling layer\n",
    "x = base_model.output\n",
    "# (Batch_Size,?)\n",
    "x = GlobalAveragePooling2D()(x)\n",
    "x = Dropout(DROPOUT_RATIO)(x)\n",
    "# let's add a fully-connected layer\n",
    "# (Batch_Size,1)\n",
    "x = Dense(1024, activation='relu')(x)\n",
    "# (Batch_Size,1024)\n",
    "x = Dropout(DROPOUT_RATIO)(x)\n",
    "\n",
    "if grad_cam:\n",
    "    x *= 1e-1\n",
    "    keras_backend.set_floatx('float64')\n",
    "    dense_dtype = \"float64\"\n",
    "else:\n",
    "    dense_dtype = \"float32\"\n",
    "    \n",
    "if activation == \"binary_sigmoid\":\n",
    "    predictions = Dense(1, activation='sigmoid', dtype=dense_dtype)(x)\n",
    "    loss_function = BinaryCrossentropy(label_smoothing=0.01)\n",
    "elif activation == \"categorical_sigmoid\":\n",
    "    predictions = Dense(2, activation='sigmoid', dtype=dense_dtype)(x)\n",
    "    loss_function = CategoricalCrossentropy(label_smoothing=0.01)\n",
    "elif activation == \"categorical_softmax\":\n",
    "    predictions = Dense(2, activation='softmax', dtype=dense_dtype)(x)\n",
    "    loss_function = CategoricalCrossentropy(label_smoothing=0.01)\n",
    "\n",
    "# this is the model we will train\n",
    "model = Model(base_model.input, predictions)"
   ]
  },
  {
   "cell_type": "code",
   "execution_count": 5,
   "metadata": {},
   "outputs": [],
   "source": [
    "from datetime import date\n",
    "\n",
    "from tensorflow.keras.callbacks import ModelCheckpoint\n",
    "from tensorflow.keras.callbacks import ReduceLROnPlateau\n",
    "from tensorflow.keras.callbacks import CSVLogger\n",
    "from tensorflow.keras.callbacks import LambdaCallback\n",
    "from tensorflow.keras.optimizers import Nadam\n",
    "\n",
    "today = date.today()\n",
    "\n",
    "# YY/MM/dd\n",
    "today_str = today.strftime(\"%Y-%m-%d\")\n",
    "today_weight_path = f\"./weights/{task}/{data_set_name}/{today_str}/target_size_{target_size}/\" \n",
    "today_logs_path = f\"./logs/{task}/{data_set_name}/{today_str}/target_size_{target_size}/\"\n",
    "os.makedirs(today_weight_path, exist_ok=True)\n",
    "os.makedirs(today_logs_path, exist_ok=True)\n",
    "optimizer = Nadam(1e-3, clipnorm=1)\n",
    "\n",
    "save_c = ModelCheckpoint(\n",
    "    today_weight_path+\"/weights_{val_loss:.4f}_{loss:.4f}_{epoch:02d}.hdf5\",\n",
    "    monitor='val_loss',\n",
    "    verbose=0,\n",
    "    save_best_only=False,\n",
    "    save_weights_only=True,\n",
    "    mode='min')\n",
    "\n",
    "\n",
    "reduceLROnPlat = ReduceLROnPlateau(\n",
    "    monitor=\"val_loss\",\n",
    "    factor=0.1,\n",
    "    patience=20,\n",
    "    verbose=1,\n",
    "    mode=\"auto\",\n",
    "    min_delta=0.0001,\n",
    "    cooldown=5,\n",
    "    min_lr=1e-7)\n",
    "csv_logger = CSVLogger(f'{today_logs_path}/log.csv', append=False, separator=',')\n",
    "\n",
    "\n",
    "def make_model_trainable(epoch, model, target_epoch):\n",
    "    if epoch > target_epoch:\n",
    "        for layer in model.layers:\n",
    "            layer.trainable = True\n",
    "            \n",
    "make_trainable_callback = LambdaCallback(\n",
    "    on_epoch_begin=lambda epoch,logs: make_model_trainable(epoch, model, target_epoch=epoch_release_frozen)\n",
    ")\n",
    "\n",
    "model.compile(optimizer=optimizer, loss=loss_function, metrics=['accuracy'])"
   ]
  },
  {
   "cell_type": "code",
   "execution_count": null,
   "metadata": {
    "scrolled": true
   },
   "outputs": [
    {
     "name": "stdout",
     "output_type": "stream",
     "text": [
      "Epoch 1/200\n",
      "269/269 [==============================] - 288s 982ms/step - loss: 0.7025 - accuracy: 0.5817 - val_loss: 36.5312 - val_accuracy: 0.5725\n",
      "Epoch 2/200\n",
      "269/269 [==============================] - 263s 978ms/step - loss: 0.6619 - accuracy: 0.6288 - val_loss: 504.7136 - val_accuracy: 0.5719\n",
      "Epoch 3/200\n",
      "269/269 [==============================] - 263s 976ms/step - loss: 0.6069 - accuracy: 0.6717 - val_loss: 0.6009 - val_accuracy: 0.7063\n",
      "Epoch 4/200\n",
      "269/269 [==============================] - 263s 977ms/step - loss: 0.5665 - accuracy: 0.7078 - val_loss: 0.5622 - val_accuracy: 0.7200\n",
      "Epoch 5/200\n",
      "269/269 [==============================] - 263s 977ms/step - loss: 0.5242 - accuracy: 0.7476 - val_loss: 0.8384 - val_accuracy: 0.7419\n",
      "Epoch 6/200\n",
      "269/269 [==============================] - 263s 977ms/step - loss: 0.4760 - accuracy: 0.7775 - val_loss: 0.6261 - val_accuracy: 0.7194\n",
      "Epoch 7/200\n",
      "269/269 [==============================] - 263s 976ms/step - loss: 0.4260 - accuracy: 0.8088 - val_loss: 0.6486 - val_accuracy: 0.7638\n",
      "Epoch 8/200\n",
      "269/269 [==============================] - 263s 977ms/step - loss: 0.4008 - accuracy: 0.8242 - val_loss: 0.5260 - val_accuracy: 0.8281\n",
      "Epoch 9/200\n",
      "269/269 [==============================] - 264s 978ms/step - loss: 0.3799 - accuracy: 0.8285 - val_loss: 0.6494 - val_accuracy: 0.7287\n",
      "Epoch 10/200\n",
      "269/269 [==============================] - 263s 977ms/step - loss: 0.3658 - accuracy: 0.8399 - val_loss: 0.8555 - val_accuracy: 0.6888\n",
      "Epoch 11/200\n",
      "269/269 [==============================] - 264s 978ms/step - loss: 0.3328 - accuracy: 0.8510 - val_loss: 0.3466 - val_accuracy: 0.8606\n",
      "Epoch 12/200\n",
      "269/269 [==============================] - 263s 977ms/step - loss: 0.3162 - accuracy: 0.8615 - val_loss: 0.4086 - val_accuracy: 0.8394\n",
      "Epoch 13/200\n",
      "269/269 [==============================] - 264s 978ms/step - loss: 0.2978 - accuracy: 0.8723 - val_loss: 0.2845 - val_accuracy: 0.9025\n",
      "Epoch 14/200\n",
      "269/269 [==============================] - 263s 978ms/step - loss: 0.2857 - accuracy: 0.8724 - val_loss: 0.5494 - val_accuracy: 0.7987\n",
      "Epoch 15/200\n",
      "269/269 [==============================] - 264s 978ms/step - loss: 0.2671 - accuracy: 0.8828 - val_loss: 0.4397 - val_accuracy: 0.8231\n",
      "Epoch 16/200\n",
      "269/269 [==============================] - 263s 977ms/step - loss: 0.2576 - accuracy: 0.8899 - val_loss: 0.8835 - val_accuracy: 0.7987\n",
      "Epoch 17/200\n",
      "269/269 [==============================] - 263s 977ms/step - loss: 0.2479 - accuracy: 0.8916 - val_loss: 0.4934 - val_accuracy: 0.7994\n",
      "Epoch 18/200\n",
      "269/269 [==============================] - 263s 977ms/step - loss: 0.2474 - accuracy: 0.8881 - val_loss: 0.2606 - val_accuracy: 0.9119\n",
      "Epoch 19/200\n",
      "269/269 [==============================] - 263s 976ms/step - loss: 0.2429 - accuracy: 0.8892 - val_loss: 0.6145 - val_accuracy: 0.7837\n",
      "Epoch 20/200\n",
      "269/269 [==============================] - 263s 976ms/step - loss: 0.2347 - accuracy: 0.9007 - val_loss: 0.6889 - val_accuracy: 0.7906\n",
      "Epoch 21/200\n",
      "269/269 [==============================] - 263s 976ms/step - loss: 0.2244 - accuracy: 0.8984 - val_loss: 0.7201 - val_accuracy: 0.7875\n",
      "Epoch 22/200\n",
      "269/269 [==============================] - 263s 977ms/step - loss: 0.2173 - accuracy: 0.9087 - val_loss: 0.4268 - val_accuracy: 0.8431\n",
      "Epoch 23/200\n",
      "269/269 [==============================] - 264s 978ms/step - loss: 0.2097 - accuracy: 0.9112 - val_loss: 0.3829 - val_accuracy: 0.8788\n",
      "Epoch 24/200\n",
      "269/269 [==============================] - 264s 979ms/step - loss: 0.2098 - accuracy: 0.9103 - val_loss: 0.2745 - val_accuracy: 0.9194\n",
      "Epoch 25/200\n",
      "269/269 [==============================] - 264s 978ms/step - loss: 0.2157 - accuracy: 0.9036 - val_loss: 0.3551 - val_accuracy: 0.8931\n",
      "Epoch 26/200\n",
      "269/269 [==============================] - 263s 978ms/step - loss: 0.2108 - accuracy: 0.9093 - val_loss: 0.5835 - val_accuracy: 0.8219\n",
      "Epoch 27/200\n",
      "269/269 [==============================] - 264s 979ms/step - loss: 0.2038 - accuracy: 0.9114 - val_loss: 0.3510 - val_accuracy: 0.8800\n",
      "Epoch 28/200\n",
      "269/269 [==============================] - 264s 978ms/step - loss: 0.1973 - accuracy: 0.9123 - val_loss: 0.4893 - val_accuracy: 0.8562\n",
      "Epoch 29/200\n",
      "269/269 [==============================] - 264s 978ms/step - loss: 0.1909 - accuracy: 0.9155 - val_loss: 0.7248 - val_accuracy: 0.7763\n",
      "Epoch 30/200\n",
      "269/269 [==============================] - 263s 977ms/step - loss: 0.1954 - accuracy: 0.9093 - val_loss: 0.4976 - val_accuracy: 0.8369\n",
      "Epoch 31/200\n",
      "269/269 [==============================] - 263s 978ms/step - loss: 0.1917 - accuracy: 0.9111 - val_loss: 0.6895 - val_accuracy: 0.8244\n",
      "Epoch 32/200\n",
      "269/269 [==============================] - 263s 978ms/step - loss: 0.1884 - accuracy: 0.9183 - val_loss: 0.3264 - val_accuracy: 0.9069\n",
      "Epoch 33/200\n",
      "269/269 [==============================] - 264s 978ms/step - loss: 0.1784 - accuracy: 0.9216 - val_loss: 0.4278 - val_accuracy: 0.8756\n",
      "Epoch 34/200\n",
      "269/269 [==============================] - 264s 980ms/step - loss: 0.1800 - accuracy: 0.9184 - val_loss: 1.3895 - val_accuracy: 0.8081\n",
      "Epoch 35/200\n",
      "269/269 [==============================] - 264s 978ms/step - loss: 0.1813 - accuracy: 0.9195 - val_loss: 0.4777 - val_accuracy: 0.8656\n",
      "Epoch 36/200\n",
      "269/269 [==============================] - 263s 978ms/step - loss: 0.1768 - accuracy: 0.9246 - val_loss: 0.4580 - val_accuracy: 0.8769\n",
      "Epoch 37/200\n",
      "269/269 [==============================] - 263s 978ms/step - loss: 0.1741 - accuracy: 0.9234 - val_loss: 0.4503 - val_accuracy: 0.8725\n",
      "Epoch 38/200\n",
      "269/269 [==============================] - 263s 977ms/step - loss: 0.1708 - accuracy: 0.9219 - val_loss: 0.7522 - val_accuracy: 0.8000\n",
      "\n",
      "Epoch 00038: ReduceLROnPlateau reducing learning rate to 0.00010000000474974513.\n",
      "Epoch 39/200\n",
      "269/269 [==============================] - 263s 978ms/step - loss: 0.1592 - accuracy: 0.9283 - val_loss: 0.4737 - val_accuracy: 0.8731\n",
      "Epoch 40/200\n",
      "269/269 [==============================] - 263s 977ms/step - loss: 0.1373 - accuracy: 0.9370 - val_loss: 0.4936 - val_accuracy: 0.8794\n",
      "Epoch 41/200\n",
      "269/269 [==============================] - 263s 978ms/step - loss: 0.1364 - accuracy: 0.9373 - val_loss: 0.4988 - val_accuracy: 0.8831\n",
      "Epoch 42/200\n",
      "269/269 [==============================] - 263s 978ms/step - loss: 0.1396 - accuracy: 0.9319 - val_loss: 0.5047 - val_accuracy: 0.8813\n",
      "Epoch 43/200\n",
      "269/269 [==============================] - ETA: 0s - loss: 0.1328 - accuracy: 0.9375"
     ]
    }
   ],
   "source": [
    "start_epoch = 0\n",
    "epochs = 200\n",
    "\n",
    "model.fit(\n",
    "    train_data_loader,\n",
    "    validation_data=valid_data_loader,\n",
    "    epochs=epochs,\n",
    "    callbacks=[reduceLROnPlat, save_c, csv_logger, make_trainable_callback],\n",
    "    initial_epoch=start_epoch\n",
    ")"
   ]
  },
  {
   "cell_type": "code",
   "execution_count": 6,
   "metadata": {},
   "outputs": [
    {
     "name": "stdout",
     "output_type": "stream",
     "text": [
      "1469/1469 [==============================] - 70s 47ms/step - loss: 0.1413 - accuracy: 0.9626\n"
     ]
    },
    {
     "data": {
      "text/plain": [
       "[0.1412760615348816, 0.9625595808029175]"
      ]
     },
     "execution_count": 6,
     "metadata": {},
     "output_type": "execute_result"
    }
   ],
   "source": [
    "target_data_loader = test_data_loader\n",
    "\n",
    "target_data_loader.batch_size = 1\n",
    "# model.load_weights('./weights/classification/detect_lvi/2021/06/25/'+\"weights_26_0.0724.hdf5\")\n",
    "model_predicted = model.predict(target_data_loader)\n",
    "ground_truth = np.array([label for img_array, label in target_data_loader])\n",
    "\n",
    "model.evaluate(target_data_loader)"
   ]
  },
  {
   "cell_type": "code",
   "execution_count": 7,
   "metadata": {},
   "outputs": [],
   "source": [
    "negative_group_1 = np.where(model_predicted < 0.5)[0]\n",
    "negative_group_2 = np.where(model_predicted != 0)[0]\n",
    "negative_confirm = np.where(model_predicted == 0)[0]\n",
    "negative_not_confirm = np.intersect1d(negative_group_1, negative_group_2)\n",
    "\n",
    "positive_group_1 = np.where(model_predicted > 0.5)[0]\n",
    "positive_group_2 = np.where(model_predicted != 1)[0]\n",
    "postive_confirm = np.where(model_predicted == 1)[0]\n",
    "postive_not_confirm = np.intersect1d(positive_group_1, positive_group_2)\n",
    "\n",
    "ground_truth_negative = np.where(ground_truth == 0)[0]\n",
    "ground_truth_positive = np.where(ground_truth == 1)[0]\n",
    "\n",
    "true_negative = np.intersect1d(negative_group_1, ground_truth_negative)\n",
    "true_positive = np.intersect1d(positive_group_1, ground_truth_positive)\n",
    "false_negative = np.intersect1d(negative_group_1, ground_truth_positive)\n",
    "false_positive = np.intersect1d(positive_group_1, ground_truth_negative)\n"
   ]
  },
  {
   "cell_type": "code",
   "execution_count": 8,
   "metadata": {},
   "outputs": [
    {
     "name": "stdout",
     "output_type": "stream",
     "text": [
      "0\n",
      "813\n",
      "0\n",
      "656\n"
     ]
    }
   ],
   "source": [
    "print(len(negative_confirm))\n",
    "print(len(negative_not_confirm))\n",
    "print(len(postive_confirm))\n",
    "print(len(postive_not_confirm))"
   ]
  },
  {
   "cell_type": "code",
   "execution_count": 9,
   "metadata": {},
   "outputs": [
    {
     "name": "stdout",
     "output_type": "stream",
     "text": [
      "0\n",
      "813\n",
      "0\n",
      "656\n"
     ]
    }
   ],
   "source": [
    "print(len(negative_confirm))\n",
    "print(len(negative_not_confirm))\n",
    "print(len(postive_confirm))\n",
    "print(len(postive_not_confirm))"
   ]
  },
  {
   "cell_type": "code",
   "execution_count": 11,
   "metadata": {},
   "outputs": [
    {
     "name": "stdout",
     "output_type": "stream",
     "text": [
      "[ 812  813  823  824  831 1049 1054 1055 1056 1057 1058 1059 1062 1063\n",
      " 1065 1067 1068 1070 1072 1073 1074 1075 1076 1078 1079 1080 1082 1083\n",
      " 1084 1085 1086 1232 1234 1235 1239 1240 1241 1252 1263 1274 1285 1389\n",
      " 1394 1395 1400 1451 1456 1461 1463]\n",
      "[  51  446  471  489  629 1468]\n"
     ]
    }
   ],
   "source": [
    "print(false_negative)\n",
    "print(false_positive)"
   ]
  },
  {
   "cell_type": "code",
   "execution_count": 13,
   "metadata": {},
   "outputs": [
    {
     "data": {
      "text/plain": [
       "'./datasets/classification/detect_lvi/test/LVI_positive/211_LVI_positive_9.png'"
      ]
     },
     "execution_count": 13,
     "metadata": {},
     "output_type": "execute_result"
    }
   ],
   "source": [
    "test_data_loader.data_getter.image_path_dict[1468]"
   ]
  },
  {
   "cell_type": "code",
   "execution_count": 12,
   "metadata": {
    "scrolled": true
   },
   "outputs": [
    {
     "data": {
      "text/plain": [
       "0"
      ]
     },
     "execution_count": 12,
     "metadata": {},
     "output_type": "execute_result"
    }
   ],
   "source": [
    "test_data_loader.data_getter.class_dict[1468]"
   ]
  },
  {
   "cell_type": "code",
   "execution_count": null,
   "metadata": {},
   "outputs": [],
   "source": []
  }
 ],
 "metadata": {
  "kernelspec": {
   "display_name": "Python 3",
   "language": "python",
   "name": "python3"
  },
  "language_info": {
   "codemirror_mode": {
    "name": "ipython",
    "version": 3
   },
   "file_extension": ".py",
   "mimetype": "text/x-python",
   "name": "python",
   "nbconvert_exporter": "python",
   "pygments_lexer": "ipython3",
   "version": "3.6.9"
  }
 },
 "nbformat": 4,
 "nbformat_minor": 4
}
