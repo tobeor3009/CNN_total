{
 "cells": [
  {
   "cell_type": "code",
   "execution_count": 1,
   "metadata": {},
   "outputs": [
    {
     "name": "stdout",
     "output_type": "stream",
     "text": [
      "[PhysicalDevice(name='/physical_device:GPU:0', device_type='GPU')]\n"
     ]
    }
   ],
   "source": [
    "import os\n",
    "os.environ['CUDA_VISIBLE_DEVICES'] = '3'\n",
    "\n",
    "import tensorflow as tf\n",
    "from tensorflow.keras import backend as keras_backend\n",
    "import numpy as np\n",
    "\n",
    "gpu_on = True\n",
    "\n",
    "if gpu_on :\n",
    "    gpu_devices = tf.config.experimental.list_physical_devices(\"GPU\")\n",
    "    for device in gpu_devices:\n",
    "        tf.config.experimental.set_memory_growth(device, True)\n",
    "else:\n",
    "    os.environ['CUDA_VISIBLE_DEVICES'] = '-1'\n",
    "    gpu_devices = tf.config.experimental.list_physical_devices(\"CPU\")\n",
    "\n",
    "# from tensorflow.keras.mixed_precision import experimental as mixed_precision\n",
    "# policy = mixed_precision.Policy('mixed_float16')\n",
    "# mixed_precision.set_policy(policy)\n",
    "\n",
    "print(gpu_devices)"
   ]
  },
  {
   "cell_type": "code",
   "execution_count": 2,
   "metadata": {
    "scrolled": true
   },
   "outputs": [
    {
     "name": "stderr",
     "output_type": "stream",
     "text": [
      " [8608/8608] |##############################################| (Time:  0:11:30) \n",
      " [02/1609] |                                                | (ETA:   0:02:00) "
     ]
    },
    {
     "name": "stdout",
     "output_type": "stream",
     "text": [
      "Total data num 8608 with 2 classes\n"
     ]
    },
    {
     "name": "stderr",
     "output_type": "stream",
     "text": [
      " [1609/1609] |##############################################| (Time:  0:02:05) \n"
     ]
    },
    {
     "name": "stdout",
     "output_type": "stream",
     "text": [
      "Total data num 1609 with 2 classes\n",
      "Total data num 1469 with 2 classes\n"
     ]
    }
   ],
   "source": [
    "from src.data_loader.classification import ClassifyDataloader\n",
    "from tensorflow.keras.applications.inception_v3 import preprocess_input\n",
    "from glob import glob\n",
    "\n",
    "task = \"classification\"\n",
    "data_set_name = \"detect_lvi\"\n",
    "batch_size = 32\n",
    "on_memory = True\n",
    "argumentation_proba = 0.8\n",
    "target_size = (512, 512)\n",
    "interpolation = \"bilinear\"\n",
    "class_mode = \"binary\"\n",
    "# class_mode = \"categorical\"\n",
    "dtype=\"float32\"\n",
    "\n",
    "\n",
    "train_image_path_list = glob(f\"./datasets/{task}/{data_set_name}/train/*/*\")\n",
    "valid_image_path_list = glob(f\"./datasets/{task}/{data_set_name}/valid/*/*\")\n",
    "test_image_path_list = glob(f\"./datasets/{task}/{data_set_name}/test/*/*\")\n",
    "label_list = os.listdir(f\"./datasets/{task}/{data_set_name}/train\")\n",
    "\n",
    "label_to_index_dict = {label:index for index, label in enumerate(label_list)}\n",
    "index_to_label_dict = {index:label for index, label in enumerate(label_list)}\n",
    "\n",
    "train_data_loader = ClassifyDataloader(image_path_list=train_image_path_list,\n",
    "                                       label_to_index_dict=label_to_index_dict,\n",
    "                                       batch_size=batch_size,\n",
    "                                       on_memory=on_memory,\n",
    "                                       argumentation_proba=argumentation_proba,\n",
    "                                       preprocess_input=preprocess_input,\n",
    "                                       target_size=target_size,\n",
    "                                       interpolation=interpolation,\n",
    "                                       shuffle=True,\n",
    "                                       class_mode=class_mode,\n",
    "                                       dtype=dtype\n",
    ")\n",
    "valid_data_loader = ClassifyDataloader(image_path_list=valid_image_path_list,\n",
    "                                       label_to_index_dict=label_to_index_dict,\n",
    "                                       batch_size=batch_size,\n",
    "                                       on_memory=on_memory,\n",
    "                                       argumentation_proba=0,\n",
    "                                       preprocess_input=preprocess_input,\n",
    "                                       target_size=target_size,\n",
    "                                       interpolation=interpolation,                                       \n",
    "                                       shuffle=False,\n",
    "                                       class_mode=class_mode,\n",
    "                                       dtype=dtype\n",
    ")\n",
    "test_data_loader = ClassifyDataloader(image_path_list=test_image_path_list,\n",
    "                                       label_to_index_dict=label_to_index_dict,\n",
    "                                       batch_size=1,\n",
    "                                       on_memory=False,\n",
    "                                       argumentation_proba=0,\n",
    "                                       preprocess_input=preprocess_input,\n",
    "                                       target_size=target_size,\n",
    "                                       interpolation=interpolation,                                       \n",
    "                                       shuffle=False,\n",
    "                                       class_mode=class_mode,\n",
    "                                       dtype=dtype\n",
    ")"
   ]
  },
  {
   "cell_type": "code",
   "execution_count": 3,
   "metadata": {},
   "outputs": [
    {
     "name": "stdout",
     "output_type": "stream",
     "text": [
      "Downloading data from https://storage.googleapis.com/tensorflow/keras-applications/inception_v3/inception_v3_weights_tf_dim_ordering_tf_kernels_notop.h5\n",
      "87916544/87910968 [==============================] - 3s 0us/step\n"
     ]
    }
   ],
   "source": [
    "from tensorflow.keras.applications import InceptionV3\n",
    "from tensorflow.keras.losses import CategoricalCrossentropy, BinaryCrossentropy\n",
    "from tensorflow.keras.layers import GlobalAveragePooling2D, Dense, Dropout\n",
    "from tensorflow.keras.models import Model\n",
    "\n",
    "import numpy as np\n",
    "np.random.seed(1337)  # for reproducibility\n",
    "\n",
    "DROPOUT_RATIO = 0.5\n",
    "\n",
    "grad_cam = False\n",
    "transfer_learning = False\n",
    "epoch_release_frozen = 10\n",
    "transfer_train_mode = \"include_deep_layer\"\n",
    "layer_name_frozen_to = \"mixed4\"\n",
    "\n",
    "#  binary_sigmoid, categorical_sigmoid, categorical_softmax\n",
    "activation = \"binary_sigmoid\"\n",
    "\n",
    "# create the base pre-trained model~\n",
    "base_model = InceptionV3(\n",
    "    include_top=False,\n",
    "    weights=\"imagenet\",\n",
    "    input_tensor=None,\n",
    "    input_shape=(None,None,3),\n",
    "    classes=None,\n",
    "    pooling=None,\n",
    "    classifier_activation=None\n",
    ")\n",
    "\n",
    "if transfer_learning:\n",
    "    if train_mode == \"dense_only\":\n",
    "        base_model.trainable = False\n",
    "    elif train_mode == \"include_deep_layer\":\n",
    "        for layer in base_model.layers: \n",
    "            layer.trainable = False\n",
    "            if layer.name == layer_name_frozen_to:\n",
    "                break\n",
    "\n",
    "# add a global spatial average pooling layer\n",
    "x = base_model.output\n",
    "# (Batch_Size,?)\n",
    "x = GlobalAveragePooling2D()(x)\n",
    "x = Dropout(DROPOUT_RATIO)(x)\n",
    "# let's add a fully-connected layer\n",
    "# (Batch_Size,1)\n",
    "x = Dense(1024, activation='relu')(x)\n",
    "# (Batch_Size,1024)\n",
    "x = Dropout(DROPOUT_RATIO)(x)\n",
    "\n",
    "if grad_cam:\n",
    "    x *= 1e-1\n",
    "    keras_backend.set_floatx('float64')\n",
    "    dense_dtype = \"float64\"\n",
    "else:\n",
    "    dense_dtype = \"float32\"\n",
    "    \n",
    "if activation == \"binary_sigmoid\":\n",
    "    predictions = Dense(1, activation='sigmoid', dtype=dense_dtype)(x)\n",
    "    loss_function = BinaryCrossentropy(label_smoothing=0.01)\n",
    "elif activation == \"categorical_sigmoid\":\n",
    "    predictions = Dense(2, activation='sigmoid', dtype=dense_dtype)(x)\n",
    "    loss_function = CategoricalCrossentropy(label_smoothing=0.01)\n",
    "elif activation == \"categorical_softmax\":\n",
    "    predictions = Dense(2, activation='softmax', dtype=dense_dtype)(x)\n",
    "    loss_function = CategoricalCrossentropy(label_smoothing=0.01)\n",
    "\n",
    "# this is the model we will train\n",
    "model = Model(base_model.input, predictions)"
   ]
  },
  {
   "cell_type": "code",
   "execution_count": 4,
   "metadata": {},
   "outputs": [],
   "source": [
    "from tensorflow.python.keras.callbacks import ReduceLROnPlateau\n",
    "from tensorflow.python.platform import tf_logging as logging\n",
    "\n",
    "class ReduceLROnPlateauBestWeight(ReduceLROnPlateau):\n",
    "    def __init__(self, *args, today_weight_path, **kwargs):\n",
    "        super(ReduceLROnPlateauBestWeight, self).__init__(*args, **kwargs)\n",
    "        self.today_weight_path = today_weight_path\n",
    "\n",
    "    def on_epoch_end(self, epoch, logs=None):\n",
    "        current = logs.get(self.monitor)\n",
    "        if current is None:\n",
    "            logging.warning('Reduce LR on plateau conditioned on metric `%s` '\n",
    "                            'which is not available. Available metrics are: %s',\n",
    "                             self.monitor, ','.join(list(logs.keys())))\n",
    "        if not self.monitor_op(current, self.best): # not new best\n",
    "            if not self.in_cooldown(): # and we're not in cooldown\n",
    "                if self.wait+1 >= self.patience: # going to reduce lr\n",
    "                    # load best model so far\n",
    "                    weights = glob(f\"{today_weight_path}/*.hdf5\")\n",
    "                    weights.sort()\n",
    "                    best_path = weights[0]\n",
    "                    print(f\"load weights: {best_path}\")\n",
    "                    self.model.load_weights(self.best_path)\n",
    "\n",
    "        super().on_epoch_end(epoch, logs) # actually reduce LR"
   ]
  },
  {
   "cell_type": "code",
   "execution_count": 5,
   "metadata": {},
   "outputs": [],
   "source": [
    "from datetime import date\n",
    "\n",
    "from tensorflow.keras.callbacks import ModelCheckpoint\n",
    "from tensorflow.keras.callbacks import ReduceLROnPlateau\n",
    "from tensorflow.keras.callbacks import CSVLogger\n",
    "from tensorflow.keras.callbacks import LambdaCallback\n",
    "from tensorflow.keras.optimizers import Nadam\n",
    "\n",
    "today = date.today()\n",
    "\n",
    "# YY/MM/dd\n",
    "today_str = today.strftime(\"%Y-%m-%d\")\n",
    "today_weight_path = f\"./weights/{task}/{data_set_name}/{today_str}/target_size_{target_size}/\" \n",
    "today_logs_path = f\"./logs/{task}/{data_set_name}/{today_str}/target_size_{target_size}/\"\n",
    "os.makedirs(today_weight_path, exist_ok=True)\n",
    "os.makedirs(today_logs_path, exist_ok=True)\n",
    "optimizer = Nadam(1e-3, clipnorm=1)\n",
    "\n",
    "save_c = ModelCheckpoint(\n",
    "    today_weight_path+\"/weights_{val_loss:.4f}_{loss:.4f}_{epoch:02d}.hdf5\",\n",
    "    monitor='val_loss',\n",
    "    verbose=0,\n",
    "    save_best_only=False,\n",
    "    save_weights_only=True,\n",
    "    mode='min')\n",
    "\n",
    "\n",
    "reduceLROnPlat = ReduceLROnPlateau(\n",
    "    monitor=\"val_loss\",\n",
    "    factor=0.1,\n",
    "    patience=20,\n",
    "    verbose=1,\n",
    "    mode=\"auto\",\n",
    "    min_delta=0.0001,\n",
    "    cooldown=5,\n",
    "    min_lr=1e-7)\n",
    "reduceLROnPlat = ReduceLROnPlateauBestWeight(\n",
    "    today_weight_path=today_weight_path,\n",
    "    monitor=\"val_loss\",\n",
    "    factor=0.1,\n",
    "    patience=20,\n",
    "    verbose=1,\n",
    "    mode=\"auto\",\n",
    "    min_delta=0.0001,\n",
    "    cooldown=5,\n",
    "    min_lr=1e-7)\n",
    "\n",
    "csv_logger = CSVLogger(f'{today_logs_path}/log.csv', append=False, separator=',')\n",
    "\n",
    "\n",
    "def make_model_trainable(epoch, model, target_epoch):\n",
    "    if epoch > target_epoch:\n",
    "        for layer in model.layers:\n",
    "            layer.trainable = True\n",
    "            \n",
    "make_trainable_callback = LambdaCallback(\n",
    "    on_epoch_begin=lambda epoch,logs: make_model_trainable(epoch, model, target_epoch=epoch_release_frozen)\n",
    ")\n",
    "\n",
    "model.compile(optimizer=optimizer, loss=loss_function, metrics=['accuracy'])"
   ]
  },
  {
   "cell_type": "code",
   "execution_count": null,
   "metadata": {
    "scrolled": true
   },
   "outputs": [
    {
     "name": "stdout",
     "output_type": "stream",
     "text": [
      "Epoch 1/200\n",
      "269/269 [==============================] - 317s 1000ms/step - loss: 0.6683 - accuracy: 0.6296 - val_loss: 38.4697 - val_accuracy: 0.4787\n",
      "Epoch 2/200\n",
      "269/269 [==============================] - 277s 1s/step - loss: 0.5615 - accuracy: 0.7263 - val_loss: 1.7072 - val_accuracy: 0.7525\n",
      "Epoch 3/200\n",
      "269/269 [==============================] - 266s 988ms/step - loss: 0.4441 - accuracy: 0.7928 - val_loss: 0.4099 - val_accuracy: 0.8331\n",
      "Epoch 4/200\n",
      "269/269 [==============================] - 264s 981ms/step - loss: 0.3754 - accuracy: 0.8313 - val_loss: 0.5391 - val_accuracy: 0.7775\n",
      "Epoch 5/200\n",
      "269/269 [==============================] - 264s 980ms/step - loss: 0.3271 - accuracy: 0.8558 - val_loss: 0.3364 - val_accuracy: 0.8531\n",
      "Epoch 6/200\n",
      "269/269 [==============================] - 264s 981ms/step - loss: 0.2864 - accuracy: 0.8742 - val_loss: 0.3576 - val_accuracy: 0.8481\n",
      "Epoch 7/200\n",
      "269/269 [==============================] - 268s 995ms/step - loss: 0.2891 - accuracy: 0.8691 - val_loss: 0.6870 - val_accuracy: 0.7094\n",
      "Epoch 8/200\n",
      "269/269 [==============================] - 264s 981ms/step - loss: 0.2593 - accuracy: 0.8859 - val_loss: 0.4489 - val_accuracy: 0.8269\n",
      "Epoch 9/200\n",
      "269/269 [==============================] - 264s 978ms/step - loss: 0.2495 - accuracy: 0.8906 - val_loss: 0.4035 - val_accuracy: 0.8506\n",
      "Epoch 10/200\n",
      "269/269 [==============================] - 263s 976ms/step - loss: 0.2370 - accuracy: 0.8971 - val_loss: 0.2603 - val_accuracy: 0.9106\n",
      "Epoch 11/200\n",
      "269/269 [==============================] - 263s 975ms/step - loss: 0.2251 - accuracy: 0.8986 - val_loss: 0.5106 - val_accuracy: 0.8250\n",
      "Epoch 12/200\n",
      "269/269 [==============================] - 263s 976ms/step - loss: 0.2153 - accuracy: 0.9050 - val_loss: 0.2434 - val_accuracy: 0.9250\n",
      "Epoch 13/200\n",
      "269/269 [==============================] - 264s 979ms/step - loss: 0.2024 - accuracy: 0.9132 - val_loss: 0.8429 - val_accuracy: 0.7625\n",
      "Epoch 14/200\n",
      "269/269 [==============================] - 264s 980ms/step - loss: 0.2021 - accuracy: 0.9095 - val_loss: 0.4877 - val_accuracy: 0.8163\n",
      "Epoch 15/200\n",
      "269/269 [==============================] - 266s 986ms/step - loss: 0.1953 - accuracy: 0.9152 - val_loss: 0.5219 - val_accuracy: 0.8525\n",
      "Epoch 16/200\n",
      "269/269 [==============================] - 264s 980ms/step - loss: 0.1934 - accuracy: 0.9188 - val_loss: 0.2914 - val_accuracy: 0.9187\n",
      "Epoch 17/200\n",
      "269/269 [==============================] - 264s 979ms/step - loss: 0.1847 - accuracy: 0.9155 - val_loss: 0.7302 - val_accuracy: 0.7950\n",
      "Epoch 18/200\n",
      "269/269 [==============================] - 264s 979ms/step - loss: 0.1915 - accuracy: 0.9145 - val_loss: 0.9400 - val_accuracy: 0.7831\n",
      "Epoch 19/200\n",
      "269/269 [==============================] - 263s 978ms/step - loss: 0.1856 - accuracy: 0.9124 - val_loss: 0.3400 - val_accuracy: 0.9000\n",
      "Epoch 20/200\n",
      "269/269 [==============================] - 264s 979ms/step - loss: 0.1801 - accuracy: 0.9203 - val_loss: 0.3890 - val_accuracy: 0.8775\n",
      "Epoch 21/200\n",
      "269/269 [==============================] - 263s 977ms/step - loss: 0.1846 - accuracy: 0.9189 - val_loss: 0.5201 - val_accuracy: 0.8531\n",
      "Epoch 22/200\n",
      "269/269 [==============================] - 264s 979ms/step - loss: 0.1684 - accuracy: 0.9237 - val_loss: 0.3850 - val_accuracy: 0.8750\n",
      "Epoch 23/200\n",
      "269/269 [==============================] - 264s 980ms/step - loss: 0.1670 - accuracy: 0.9247 - val_loss: 0.4628 - val_accuracy: 0.8825\n",
      "Epoch 24/200\n",
      "269/269 [==============================] - 263s 977ms/step - loss: 0.1669 - accuracy: 0.9269 - val_loss: 0.8761 - val_accuracy: 0.7713\n",
      "Epoch 25/200\n",
      "269/269 [==============================] - 263s 976ms/step - loss: 0.1619 - accuracy: 0.9258 - val_loss: 0.3104 - val_accuracy: 0.8938\n",
      "Epoch 26/200\n",
      "269/269 [==============================] - 264s 979ms/step - loss: 0.1576 - accuracy: 0.9294 - val_loss: 0.5196 - val_accuracy: 0.8356\n",
      "Epoch 27/200\n",
      "269/269 [==============================] - 264s 981ms/step - loss: 0.1592 - accuracy: 0.9291 - val_loss: 0.7882 - val_accuracy: 0.7837\n",
      "Epoch 28/200\n",
      "269/269 [==============================] - 263s 978ms/step - loss: 0.1561 - accuracy: 0.9294 - val_loss: 0.3758 - val_accuracy: 0.8988\n",
      "Epoch 29/200\n",
      "269/269 [==============================] - 263s 978ms/step - loss: 0.1530 - accuracy: 0.9291 - val_loss: 0.6108 - val_accuracy: 0.8556\n",
      "Epoch 30/200\n",
      "269/269 [==============================] - 263s 976ms/step - loss: 0.1570 - accuracy: 0.9274 - val_loss: 0.3232 - val_accuracy: 0.8975\n",
      "Epoch 31/200\n",
      "269/269 [==============================] - 264s 979ms/step - loss: 0.1561 - accuracy: 0.9262 - val_loss: 0.3798 - val_accuracy: 0.8831\n",
      "Epoch 32/200\n",
      "269/269 [==============================] - 263s 977ms/step - loss: 0.1481 - accuracy: 0.9318 - val_loss: 0.3234 - val_accuracy: 0.9112\n",
      "\n",
      "Epoch 00032: ReduceLROnPlateau reducing learning rate to 0.00010000000474974513.\n",
      "Epoch 33/200\n",
      "269/269 [==============================] - 264s 980ms/step - loss: 0.1324 - accuracy: 0.9408 - val_loss: 0.3691 - val_accuracy: 0.8900\n",
      "Epoch 34/200\n",
      "269/269 [==============================] - 264s 981ms/step - loss: 0.1306 - accuracy: 0.9399 - val_loss: 0.3990 - val_accuracy: 0.8825\n",
      "Epoch 35/200\n",
      "269/269 [==============================] - 264s 979ms/step - loss: 0.1246 - accuracy: 0.9445 - val_loss: 0.3440 - val_accuracy: 0.8988\n",
      "Epoch 36/200\n",
      "269/269 [==============================] - 263s 977ms/step - loss: 0.1247 - accuracy: 0.9468 - val_loss: 0.3680 - val_accuracy: 0.8906\n",
      "Epoch 37/200\n",
      "269/269 [==============================] - 263s 977ms/step - loss: 0.1187 - accuracy: 0.9496 - val_loss: 0.4535 - val_accuracy: 0.8781\n",
      "Epoch 38/200\n",
      "269/269 [==============================] - 263s 977ms/step - loss: 0.1177 - accuracy: 0.9496 - val_loss: 0.3846 - val_accuracy: 0.8919\n",
      "Epoch 39/200\n",
      "269/269 [==============================] - 263s 975ms/step - loss: 0.1251 - accuracy: 0.9427 - val_loss: 0.4342 - val_accuracy: 0.8725\n",
      "Epoch 40/200\n",
      "234/269 [=========================>....] - ETA: 32s - loss: 0.1223 - accuracy: 0.9434"
     ]
    }
   ],
   "source": [
    "start_epoch = 0\n",
    "epochs = 200\n",
    "\n",
    "model.fit(\n",
    "    train_data_loader,\n",
    "    validation_data=valid_data_loader,\n",
    "    epochs=epochs,\n",
    "    callbacks=[reduceLROnPlat, save_c, csv_logger, make_trainable_callback],\n",
    "    initial_epoch=start_epoch\n",
    ")"
   ]
  },
  {
   "cell_type": "code",
   "execution_count": null,
   "metadata": {},
   "outputs": [],
   "source": [
    "target_data_loader = test_data_loader\n",
    "\n",
    "target_data_loader.batch_size = 1\n",
    "# model.load_weights('./weights/classification/detect_lvi/2021/06/25/'+\"weights_26_0.0724.hdf5\")\n",
    "model_predicted = model.predict(target_data_loader)\n",
    "ground_truth = np.array([label for img_array, label in target_data_loader])\n",
    "\n",
    "model.evaluate(target_data_loader)"
   ]
  },
  {
   "cell_type": "code",
   "execution_count": 7,
   "metadata": {},
   "outputs": [],
   "source": [
    "negative_group_1 = np.where(model_predicted < 0.5)[0]\n",
    "negative_group_2 = np.where(model_predicted != 0)[0]\n",
    "negative_confirm = np.where(model_predicted == 0)[0]\n",
    "negative_not_confirm = np.intersect1d(negative_group_1, negative_group_2)\n",
    "\n",
    "positive_group_1 = np.where(model_predicted > 0.5)[0]\n",
    "positive_group_2 = np.where(model_predicted != 1)[0]\n",
    "postive_confirm = np.where(model_predicted == 1)[0]\n",
    "postive_not_confirm = np.intersect1d(positive_group_1, positive_group_2)\n",
    "\n",
    "ground_truth_negative = np.where(ground_truth == 0)[0]\n",
    "ground_truth_positive = np.where(ground_truth == 1)[0]\n",
    "\n",
    "true_negative = np.intersect1d(negative_group_1, ground_truth_negative)\n",
    "true_positive = np.intersect1d(positive_group_1, ground_truth_positive)\n",
    "false_negative = np.intersect1d(negative_group_1, ground_truth_positive)\n",
    "false_positive = np.intersect1d(positive_group_1, ground_truth_negative)\n"
   ]
  },
  {
   "cell_type": "code",
   "execution_count": 8,
   "metadata": {},
   "outputs": [
    {
     "name": "stdout",
     "output_type": "stream",
     "text": [
      "0\n",
      "813\n",
      "0\n",
      "656\n"
     ]
    }
   ],
   "source": [
    "print(len(negative_confirm))\n",
    "print(len(negative_not_confirm))\n",
    "print(len(postive_confirm))\n",
    "print(len(postive_not_confirm))"
   ]
  },
  {
   "cell_type": "code",
   "execution_count": 9,
   "metadata": {},
   "outputs": [
    {
     "name": "stdout",
     "output_type": "stream",
     "text": [
      "0\n",
      "813\n",
      "0\n",
      "656\n"
     ]
    }
   ],
   "source": [
    "print(len(negative_confirm))\n",
    "print(len(negative_not_confirm))\n",
    "print(len(postive_confirm))\n",
    "print(len(postive_not_confirm))"
   ]
  },
  {
   "cell_type": "code",
   "execution_count": 11,
   "metadata": {},
   "outputs": [
    {
     "name": "stdout",
     "output_type": "stream",
     "text": [
      "[ 812  813  823  824  831 1049 1054 1055 1056 1057 1058 1059 1062 1063\n",
      " 1065 1067 1068 1070 1072 1073 1074 1075 1076 1078 1079 1080 1082 1083\n",
      " 1084 1085 1086 1232 1234 1235 1239 1240 1241 1252 1263 1274 1285 1389\n",
      " 1394 1395 1400 1451 1456 1461 1463]\n",
      "[  51  446  471  489  629 1468]\n"
     ]
    }
   ],
   "source": [
    "print(false_negative)\n",
    "print(false_positive)"
   ]
  },
  {
   "cell_type": "code",
   "execution_count": 13,
   "metadata": {},
   "outputs": [
    {
     "data": {
      "text/plain": [
       "'./datasets/classification/detect_lvi/test/LVI_positive/211_LVI_positive_9.png'"
      ]
     },
     "execution_count": 13,
     "metadata": {},
     "output_type": "execute_result"
    }
   ],
   "source": [
    "test_data_loader.data_getter.image_path_dict[1468]"
   ]
  },
  {
   "cell_type": "code",
   "execution_count": 12,
   "metadata": {
    "scrolled": true
   },
   "outputs": [
    {
     "data": {
      "text/plain": [
       "0"
      ]
     },
     "execution_count": 12,
     "metadata": {},
     "output_type": "execute_result"
    }
   ],
   "source": [
    "test_data_loader.data_getter.class_dict[1468]"
   ]
  },
  {
   "cell_type": "code",
   "execution_count": null,
   "metadata": {},
   "outputs": [],
   "source": []
  }
 ],
 "metadata": {
  "kernelspec": {
   "display_name": "Python 3",
   "language": "python",
   "name": "python3"
  },
  "language_info": {
   "codemirror_mode": {
    "name": "ipython",
    "version": 3
   },
   "file_extension": ".py",
   "mimetype": "text/x-python",
   "name": "python",
   "nbconvert_exporter": "python",
   "pygments_lexer": "ipython3",
   "version": "3.6.9"
  }
 },
 "nbformat": 4,
 "nbformat_minor": 4
}
