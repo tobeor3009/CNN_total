{
 "cells": [
  {
   "cell_type": "markdown",
   "metadata": {},
   "source": [
    "# import module"
   ]
  },
  {
   "cell_type": "code",
   "execution_count": 1,
   "metadata": {},
   "outputs": [
    {
     "name": "stdout",
     "output_type": "stream",
     "text": [
      "Segmentation Models: using `keras` framework.\n"
     ]
    }
   ],
   "source": [
    "import os\n",
    "from glob import glob\n",
    "\n",
    "import tensorflow as tf\n",
    "import numpy as np\n",
    "from tensorflow.keras import backend as keras_backend\n",
    "import segmentation_models as sm\n",
    "\n",
    "from src.data_loader.segmentation import SegDataloader\n",
    "\n",
    "sm.set_framework ('tf.keras')"
   ]
  },
  {
   "cell_type": "code",
   "execution_count": 2,
   "metadata": {},
   "outputs": [
    {
     "name": "stdout",
     "output_type": "stream",
     "text": [
      "[PhysicalDevice(name='/physical_device:CPU:0', device_type='CPU')]\n"
     ]
    }
   ],
   "source": [
    "gpu_on = False\n",
    "\n",
    "if gpu_on :\n",
    "    gpu_devices = tf.config.experimental.list_physical_devices(\"GPU\")\n",
    "    for device in gpu_devices:\n",
    "        tf.config.experimental.set_memory_growth(device, True)\n",
    "else:\n",
    "    os.environ['CUDA_VISIBLE_DEVICES'] = '-1'\n",
    "    gpu_devices = tf.config.experimental.list_physical_devices(\"CPU\")\n",
    "\n",
    "print(gpu_devices)"
   ]
  },
  {
   "cell_type": "code",
   "execution_count": 3,
   "metadata": {},
   "outputs": [
    {
     "name": "stderr",
     "output_type": "stream",
     "text": [
      " [20/20] |##################################################| (Time:  0:00:00) \n",
      " [04/20] |##########                                        | (ETA:   0:00:00) "
     ]
    },
    {
     "name": "stdout",
     "output_type": "stream",
     "text": [
      "Total data num 20\n"
     ]
    },
    {
     "name": "stderr",
     "output_type": "stream",
     "text": [
      " [20/20] |##################################################| (Time:  0:00:00) \n"
     ]
    },
    {
     "name": "stdout",
     "output_type": "stream",
     "text": [
      "Total data num 20\n",
      "Total data num 1469\n"
     ]
    }
   ],
   "source": [
    "from src.data_loader.segmentation import SegDataloader\n",
    "from glob import glob\n",
    "\n",
    "BACKBONE=\"inceptionv3\"\n",
    "\n",
    "task = \"segmentation\"\n",
    "data_set_name = \"detect_lvi\"\n",
    "batch_size = 16\n",
    "on_memory = True\n",
    "argumentation_proba = 0.8\n",
    "preprocess_input = sm.get_preprocessing(BACKBONE)\n",
    "target_size = None\n",
    "interpolation = \"bilinear\"\n",
    "dtype = \"float32\"\n",
    "\n",
    "\n",
    "train_image_path_list = glob(f\"./datasets/{task}/{data_set_name}/image/train/*/*\")[:20]\n",
    "train_mask_path_list = glob(f\"./datasets/{task}/{data_set_name}/mask/train/*/*\")[:20]\n",
    "\n",
    "valid_image_path_list = glob(f\"./datasets/{task}/{data_set_name}/image/valid/*/*\")[:20]\n",
    "valid_mask_path_list = glob(f\"./datasets/{task}/{data_set_name}/mask/valid/*/*\")[:20]\n",
    "\n",
    "test_image_path_list = glob(f\"./datasets/{task}/{data_set_name}/image/test/*/*\")\n",
    "test_mask_path_list = glob(f\"./datasets/{task}/{data_set_name}/mask/test/*/*\")\n",
    "\n",
    "train_data_loader = SegDataloader(image_path_list=train_image_path_list,\n",
    "                                  mask_path_list=train_mask_path_list,\n",
    "                                  batch_size=batch_size,\n",
    "                                  on_memory=on_memory,\n",
    "                                  argumentation_proba=0.8,\n",
    "                                  preprocess_input=preprocess_input,\n",
    "                                  target_size=target_size,\n",
    "                                  interpolation=interpolation,\n",
    "                                  shuffle=True,\n",
    "                                  dtype=dtype\n",
    "                                  )\n",
    "valid_data_loader = SegDataloader(image_path_list=valid_image_path_list,\n",
    "                                  mask_path_list=valid_mask_path_list,\n",
    "                                  batch_size=batch_size,\n",
    "                                  on_memory=on_memory,\n",
    "                                  argumentation_proba=0,\n",
    "                                  preprocess_input=preprocess_input,\n",
    "                                  target_size=target_size,\n",
    "                                  interpolation=interpolation,\n",
    "                                  shuffle=False,\n",
    "                                  dtype=dtype\n",
    "                                  )\n",
    "test_data_loader = SegDataloader(image_path_list=test_image_path_list,\n",
    "                                 mask_path_list=test_mask_path_list,\n",
    "                                 batch_size=batch_size,\n",
    "                                 on_memory=False,\n",
    "                                 argumentation_proba=0,\n",
    "                                 preprocess_input=preprocess_input,\n",
    "                                 target_size=target_size,\n",
    "                                 interpolation=interpolation,\n",
    "                                 shuffle=False,\n",
    "                                 dtype=dtype\n",
    "                                 )"
   ]
  },
  {
   "cell_type": "code",
   "execution_count": 4,
   "metadata": {},
   "outputs": [],
   "source": [
    "np.random.seed(1337)  # for reproducibility\n",
    "\n",
    "# create the base pre-trained model~\n",
    "model = sm.Unet(backbone_name=BACKBONE, input_shape=(\n",
    "            None, None, 3), classes=1, activation='sigmoid')"
   ]
  },
  {
   "cell_type": "code",
   "execution_count": null,
   "metadata": {},
   "outputs": [],
   "source": [
    "from datetime import date\n",
    "\n",
    "from tensorflow.keras.callbacks import ModelCheckpoint\n",
    "from tensorflow.keras.callbacks import ReduceLROnPlateau\n",
    "from tensorflow.keras.callbacks import CSVLogger\n",
    "from tensorflow.keras.callbacks import LambdaCallback\n",
    "from tensorflow.keras.optimizers import Nadam\n",
    "\n",
    "from src.util.custom_loss import WeightedRegionLoss, TverskyLoss, dice_score, dice_loss\n",
    "\n",
    "today = date.today()\n",
    "\n",
    "# YY/MM/dd\n",
    "today_str = today.strftime(\"%Y-%m-%d\")\n",
    "today_weight_path = f\"./weights/{task}/{data_set_name}/{today_str}/target_size_{target_size}/\" \n",
    "today_logs_path = f\"./logs/{task}/{data_set_name}/{today_str}/target_size_{target_size}/\"\n",
    "os.makedirs(today_weight_path, exist_ok=True)\n",
    "os.makedirs(today_logs_path, exist_ok=True)\n",
    "optimizer = Nadam(1e-3, clipnorm=1)\n",
    "\n",
    "save_c = ModelCheckpoint(\n",
    "    today_weight_path+\"/weights_{val_loss:.4f}_{loss:.4f}_{epoch:02d}.hdf5\",\n",
    "    monitor='val_loss',\n",
    "    verbose=0,\n",
    "    save_best_only=False,\n",
    "    save_weights_only=True,\n",
    "    mode='min')\n",
    "\n",
    "\n",
    "reduceLROnPlat = ReduceLROnPlateau(\n",
    "    monitor=\"val_loss\",\n",
    "    factor=0.1,\n",
    "    patience=20,\n",
    "    verbose=1,\n",
    "    mode=\"auto\",\n",
    "    min_delta=0.0001,\n",
    "    cooldown=5,\n",
    "    min_lr=1e-7)\n",
    "csv_logger = CSVLogger(f'{today_logs_path}/log.csv', append=False, separator=',')\n",
    "\n",
    "\n",
    "def make_model_trainable(epoch, model, target_epoch):\n",
    "    if epoch > target_epoch:\n",
    "        for layer in model.layers:\n",
    "            layer.trainable = True\n",
    "            \n",
    "make_trainable_callback = LambdaCallback(\n",
    "    on_epoch_begin=lambda epoch,logs: make_model_trainable(epoch, model, target_epoch=epoch_release_frozen)\n",
    ")\n",
    "\n",
    "model.compile(optimizer=optimizer, loss=WeightedRegionLoss(), metrics=[dice_score])"
   ]
  },
  {
   "cell_type": "code",
   "execution_count": null,
   "metadata": {},
   "outputs": [],
   "source": [
    "start_epoch = 0\n",
    "epochs = 200\n",
    "\n",
    "model.fit(\n",
    "    train_data_loader,\n",
    "    validation_data=valid_data_loader,\n",
    "    epochs=epochs,\n",
    "    callbacks=[reduceLROnPlat, save_c, csv_logger, make_trainable_callback],\n",
    "    initial_epoch=start_epoch\n",
    ")"
   ]
  },
  {
   "cell_type": "markdown",
   "metadata": {},
   "source": [
    "# Unused Code"
   ]
  },
  {
   "cell_type": "code",
   "execution_count": 25,
   "metadata": {
    "scrolled": true
   },
   "outputs": [
    {
     "name": "stdout",
     "output_type": "stream",
     "text": [
      "['epoch', 'dice_score', 'loss', 'lr', 'val_dice_score', 'val_loss']\n"
     ]
    }
   ],
   "source": [
    "import csv\n",
    "\n",
    "with open('./U_net/vessel_level_1_512_random_org/log.csv') as csv_file:\n",
    "    reader = csv.DictReader(csv_file)\n",
    "    dict_from_csv = {field_name:[] for field_name in reader.fieldnames}\n",
    "    print(reader.fieldnames)\n",
    "    for row in reader:\n",
    "        for filedname in reader.fieldnames:\n",
    "            dict_from_csv[filedname].append(float(row[filedname])) "
   ]
  },
  {
   "cell_type": "code",
   "execution_count": 30,
   "metadata": {},
   "outputs": [
    {
     "data": {
      "image/png": "[encoded data removed]",
      "text/plain": [
       "<Figure size 432x288 with 1 Axes>"
      ]
     },
     "metadata": {
      "needs_background": "light"
     },
     "output_type": "display_data"
    }
   ],
   "source": [
    "from matplotlib import pyplot as plt\n",
    "\n",
    "plt.plot(dict_from_csv[\"loss\"])\n",
    "plt.show()"
   ]
  },
  {
   "cell_type": "code",
   "execution_count": 32,
   "metadata": {},
   "outputs": [
    {
     "data": {
      "image/png": "[encoded data removed]",
      "text/plain": [
       "<Figure size 432x288 with 1 Axes>"
      ]
     },
     "metadata": {
      "needs_background": "light"
     },
     "output_type": "display_data"
    }
   ],
   "source": [
    "from matplotlib import pyplot as plt\n",
    "\n",
    "plt.plot(dict_from_csv[\"dice_score\"])\n",
    "plt.plot(dict_from_csv[\"val_dice_score\"])\n",
    "plt.show()"
   ]
  },
  {
   "cell_type": "code",
   "execution_count": 29,
   "metadata": {},
   "outputs": [
    {
     "data": {
      "image/png": "[encoded data removed]",
      "text/plain": [
       "<Figure size 432x288 with 1 Axes>"
      ]
     },
     "metadata": {
      "needs_background": "light"
     },
     "output_type": "display_data"
    }
   ],
   "source": [
    "from matplotlib import pyplot as plt\n",
    "\n",
    "plt.plot(dict_from_csv[\"val_loss\"])\n",
    "plt.show()"
   ]
  },
  {
   "cell_type": "code",
   "execution_count": 29,
   "metadata": {},
   "outputs": [
    {
     "name": "stdout",
     "output_type": "stream",
     "text": [
      "(35269, 22108, 3)\n"
     ]
    }
   ],
   "source": [
    "import cv2\n",
    "from matplotlib import pyplot as plt\n",
    "temp_array = cv2.imread(\"CD3CD20CD79_0301_IHC-labels.png\", cv2.IMREAD_UNCHANGED)\n",
    "print(temp_array.shape)"
   ]
  },
  {
   "cell_type": "code",
   "execution_count": 30,
   "metadata": {},
   "outputs": [
    {
     "data": {
      "text/plain": [
       "<matplotlib.image.AxesImage at 0x7f9bd7c56ac8>"
      ]
     },
     "execution_count": 30,
     "metadata": {},
     "output_type": "execute_result"
    },
    {
     "data": {
      "image/png": "[encoded data removed]",
      "text/plain": [
       "<Figure size 432x288 with 1 Axes>"
      ]
     },
     "metadata": {
      "needs_background": "light"
     },
     "output_type": "display_data"
    }
   ],
   "source": [
    "plt.imshow(temp_array[:,:,1])"
   ]
  },
  {
   "cell_type": "code",
   "execution_count": 31,
   "metadata": {},
   "outputs": [
    {
     "data": {
      "text/plain": [
       "(array([255], dtype=uint8), array([2339181156]))"
      ]
     },
     "execution_count": 31,
     "metadata": {},
     "output_type": "execute_result"
    }
   ],
   "source": [
    "np.unique(temp_array, return_counts=True)"
   ]
  },
  {
   "cell_type": "code",
   "execution_count": null,
   "metadata": {},
   "outputs": [],
   "source": []
  }
 ],
 "metadata": {
  "kernelspec": {
   "display_name": "Python 3",
   "language": "python",
   "name": "python3"
  },
  "language_info": {
   "codemirror_mode": {
    "name": "ipython",
    "version": 3
   },
   "file_extension": ".py",
   "mimetype": "text/x-python",
   "name": "python",
   "nbconvert_exporter": "python",
   "pygments_lexer": "ipython3",
   "version": "3.6.9"
  }
 },
 "nbformat": 4,
 "nbformat_minor": 4
}
