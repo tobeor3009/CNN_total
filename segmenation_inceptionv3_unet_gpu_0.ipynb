{
 "cells": [
  {
   "cell_type": "markdown",
   "metadata": {},
   "source": [
    "# import module"
   ]
  },
  {
   "cell_type": "code",
   "execution_count": 1,
   "metadata": {},
   "outputs": [
    {
     "name": "stdout",
     "output_type": "stream",
     "text": [
      "Segmentation Models: using `keras` framework.\n"
     ]
    }
   ],
   "source": [
    "import os\n",
    "gpu_number = \"0\"\n",
    "os.environ['CUDA_VISIBLE_DEVICES'] = gpu_number\n",
    "from glob import glob\n",
    "\n",
    "import tensorflow as tf\n",
    "import numpy as np\n",
    "from tensorflow.keras import backend as keras_backend\n",
    "import segmentation_models as sm\n",
    "\n",
    "from src.data_loader.segmentation import SegDataloader\n",
    "\n",
    "sm.set_framework ('tf.keras')"
   ]
  },
  {
   "cell_type": "code",
   "execution_count": 2,
   "metadata": {},
   "outputs": [
    {
     "name": "stdout",
     "output_type": "stream",
     "text": [
      "[PhysicalDevice(name='/physical_device:GPU:0', device_type='GPU')]\n"
     ]
    }
   ],
   "source": [
    "gpu_on = True\n",
    "\n",
    "if gpu_on :\n",
    "    gpu_devices = tf.config.experimental.list_physical_devices(\"GPU\")\n",
    "    for device in gpu_devices:\n",
    "        tf.config.experimental.set_memory_growth(device, True)\n",
    "else:\n",
    "    os.environ['CUDA_VISIBLE_DEVICES'] = '-1'\n",
    "    gpu_devices = tf.config.experimental.list_physical_devices(\"CPU\")\n",
    "\n",
    "print(gpu_devices)"
   ]
  },
  {
   "cell_type": "code",
   "execution_count": 3,
   "metadata": {},
   "outputs": [
    {
     "name": "stderr",
     "output_type": "stream",
     "text": [
      " [4600/4600] |##############################################| (Time:  0:01:47) \n",
      " [05/415] |                                                 | (ETA:   0:00:10) "
     ]
    },
    {
     "name": "stdout",
     "output_type": "stream",
     "text": [
      "Total data num 4600\n"
     ]
    },
    {
     "name": "stderr",
     "output_type": "stream",
     "text": [
      " [415/415] |################################################| (Time:  0:00:10) \n"
     ]
    },
    {
     "name": "stdout",
     "output_type": "stream",
     "text": [
      "Total data num 415\n",
      "Total data num 1111\n"
     ]
    }
   ],
   "source": [
    "from src.data_loader.segmentation import SegDataloader\n",
    "from glob import glob\n",
    "\n",
    "BACKBONE=\"inceptionv3\"\n",
    "\n",
    "task = \"segmentation\"\n",
    "data_set_name = \"glomerulus_0.65_1024_remove_peel_split_man\"\n",
    "batch_size = 8\n",
    "on_memory = True\n",
    "argumentation_proba = 0.8\n",
    "preprocess_input = sm.get_preprocessing(BACKBONE)\n",
    "target_size = (512,512)\n",
    "interpolation = \"bilinear\"\n",
    "dtype = \"float32\"\n",
    "\n",
    "\n",
    "train_image_path_list = glob(f\"./datasets/{task}/{data_set_name}/train/image/*\")\n",
    "train_mask_path_list = glob(f\"./datasets/{task}/{data_set_name}/train/mask/*\")\n",
    "\n",
    "valid_image_path_list = glob(f\"./datasets/{task}/{data_set_name}/valid/image/*\")\n",
    "valid_mask_path_list = glob(f\"./datasets/{task}/{data_set_name}/valid/mask/*\")\n",
    "\n",
    "test_image_path_list = glob(f\"./datasets/{task}/{data_set_name}/test/image/*\")\n",
    "test_mask_path_list = glob(f\"./datasets/{task}/{data_set_name}/test/mask/*\")\n",
    "\n",
    "train_data_loader = SegDataloader(image_path_list=train_image_path_list,\n",
    "                                  mask_path_list=train_mask_path_list,\n",
    "                                  batch_size=batch_size,\n",
    "                                  on_memory=on_memory,\n",
    "                                  argumentation_proba=argumentation_proba,\n",
    "                                  preprocess_input=preprocess_input,\n",
    "                                  target_size=target_size,\n",
    "                                  interpolation=interpolation,\n",
    "                                  shuffle=True,\n",
    "                                  dtype=dtype\n",
    "                                  )\n",
    "valid_data_loader = SegDataloader(image_path_list=valid_image_path_list,\n",
    "                                  mask_path_list=valid_mask_path_list,\n",
    "                                  batch_size=batch_size,\n",
    "                                  on_memory=on_memory,\n",
    "                                  argumentation_proba=0,\n",
    "                                  preprocess_input=preprocess_input,\n",
    "                                  target_size=target_size,\n",
    "                                  interpolation=interpolation,\n",
    "                                  shuffle=True,\n",
    "                                  dtype=dtype\n",
    "                                  )\n",
    "test_data_loader = SegDataloader(image_path_list=test_image_path_list,\n",
    "                                 mask_path_list=test_mask_path_list,\n",
    "                                 batch_size=1,\n",
    "                                 on_memory=False,\n",
    "                                 argumentation_proba=0,\n",
    "                                 preprocess_input=preprocess_input,\n",
    "                                 target_size=target_size,\n",
    "                                 interpolation=interpolation,\n",
    "                                 shuffle=False,\n",
    "                                 dtype=dtype\n",
    "                                 )"
   ]
  },
  {
   "cell_type": "code",
   "execution_count": 4,
   "metadata": {},
   "outputs": [],
   "source": [
    "# create the base pre-trained model~\n",
    "model = sm.Unet(backbone_name=BACKBONE, input_shape=(\n",
    "            None, None, 3), classes=1, activation='sigmoid')"
   ]
  },
  {
   "cell_type": "code",
   "execution_count": 5,
   "metadata": {},
   "outputs": [],
   "source": [
    "from datetime import date\n",
    "\n",
    "from tensorflow.keras.callbacks import ModelCheckpoint\n",
    "from tensorflow.keras.callbacks import ReduceLROnPlateau, LearningRateScheduler\n",
    "from tensorflow.keras.callbacks import CSVLogger\n",
    "from tensorflow.keras.callbacks import LambdaCallback\n",
    "from tensorflow.keras.optimizers import Nadam\n",
    "\n",
    "from src.util.custom_loss import PropotionalDiceLoss, TverskyLoss, dice_score, dice_loss, boundary_loss\n",
    "from segmentation_models.losses import DiceLoss, BinaryFocalLoss\n",
    "\n",
    "today = date.today()\n",
    "\n",
    "# YY/MM/dd\n",
    "today_str = today.strftime(\"%Y-%m-%d\")\n",
    "today_weight_path = f\"./result_daily/{task}/{data_set_name}/{today_str}/{gpu_number}/target_size_{target_size}/weights/\" \n",
    "today_logs_path = f\"./result_daily/{task}/{data_set_name}/{today_str}/{gpu_number}/target_size_{target_size}/\"\n",
    "os.makedirs(today_weight_path, exist_ok=True)\n",
    "os.makedirs(today_logs_path, exist_ok=True)\n",
    "optimizer = Nadam(1e-4, clipnorm=1)\n",
    "\n",
    "save_c = ModelCheckpoint(\n",
    "    today_weight_path+\"/weights_{val_loss:.4f}_{loss:.4f}_{epoch:02d}.hdf5\",\n",
    "    monitor='val_loss',\n",
    "    verbose=0,\n",
    "    save_best_only=False,\n",
    "    save_weights_only=True,\n",
    "    mode='min')\n",
    "\n",
    "\n",
    "reduceLROnPlat = ReduceLROnPlateau(\n",
    "    monitor=\"val_loss\",\n",
    "    factor=0.1,\n",
    "    patience=20,\n",
    "    verbose=1,\n",
    "    mode=\"auto\",\n",
    "    min_delta=0.0001,\n",
    "    cooldown=5,\n",
    "    min_lr=1e-7)\n",
    "csv_logger = CSVLogger(f'{today_logs_path}/log.csv', append=False, separator=',')\n",
    "\n",
    "\n",
    "def make_model_trainable(epoch, model, target_epoch):\n",
    "    if epoch > target_epoch:\n",
    "        for layer in model.layers:\n",
    "            layer.trainable = True\n",
    "            \n",
    "make_trainable_callback = LambdaCallback(\n",
    "    on_epoch_begin=lambda epoch,logs: make_model_trainable(epoch, model, target_epoch=epoch_release_frozen)\n",
    ")\n",
    "\n",
    "model.compile(optimizer=optimizer, loss=PropotionalDiceLoss(include_focal=True, include_boundary=True), metrics=[dice_score])"
   ]
  },
  {
   "cell_type": "code",
   "execution_count": 6,
   "metadata": {},
   "outputs": [
    {
     "name": "stdout",
     "output_type": "stream",
     "text": [
      "Epoch 1/200\n",
      "575/575 [==============================] - 305s 479ms/step - loss: 0.2154 - dice_score: 0.4570 - val_loss: 0.0889 - val_dice_score: 0.6695\n",
      "Epoch 2/200\n",
      "575/575 [==============================] - 270s 469ms/step - loss: 0.0835 - dice_score: 0.7087 - val_loss: 0.0642 - val_dice_score: 0.7987\n",
      "Epoch 3/200\n",
      "575/575 [==============================] - 270s 469ms/step - loss: 0.0571 - dice_score: 0.7832 - val_loss: 0.1002 - val_dice_score: 0.8782\n",
      "Epoch 4/200\n",
      "575/575 [==============================] - 270s 469ms/step - loss: 0.0539 - dice_score: 0.7690 - val_loss: 0.0453 - val_dice_score: 0.8288\n",
      "Epoch 5/200\n",
      "575/575 [==============================] - 274s 476ms/step - loss: 0.0381 - dice_score: 0.8205 - val_loss: 0.0432 - val_dice_score: 0.8926\n",
      "Epoch 6/200\n",
      "575/575 [==============================] - 270s 469ms/step - loss: 0.0437 - dice_score: 0.8121 - val_loss: 0.0464 - val_dice_score: 0.8990\n",
      "Epoch 7/200\n",
      "575/575 [==============================] - 273s 475ms/step - loss: 0.0344 - dice_score: 0.8629 - val_loss: 0.0459 - val_dice_score: 0.7531\n",
      "Epoch 8/200\n",
      "575/575 [==============================] - 271s 470ms/step - loss: 0.0421 - dice_score: 0.8034 - val_loss: 0.0322 - val_dice_score: 0.8454\n",
      "Epoch 9/200\n",
      "575/575 [==============================] - 271s 471ms/step - loss: 0.0385 - dice_score: 0.7946 - val_loss: 0.0406 - val_dice_score: 0.6981\n",
      "Epoch 10/200\n",
      "575/575 [==============================] - 271s 471ms/step - loss: 0.0339 - dice_score: 0.8624 - val_loss: 0.0619 - val_dice_score: 0.9148\n",
      "Epoch 11/200\n",
      "575/575 [==============================] - 271s 471ms/step - loss: 0.0291 - dice_score: 0.8921 - val_loss: 0.0371 - val_dice_score: 0.9054\n",
      "Epoch 12/200\n",
      "575/575 [==============================] - 271s 470ms/step - loss: 0.0344 - dice_score: 0.8291 - val_loss: 0.0564 - val_dice_score: 0.9008\n",
      "Epoch 13/200\n",
      "575/575 [==============================] - 271s 470ms/step - loss: 0.0373 - dice_score: 0.8375 - val_loss: 0.0434 - val_dice_score: 0.8601\n",
      "Epoch 14/200\n",
      "575/575 [==============================] - 271s 471ms/step - loss: 0.0354 - dice_score: 0.8581 - val_loss: 0.0684 - val_dice_score: 0.9308\n",
      "Epoch 15/200\n",
      "575/575 [==============================] - 271s 471ms/step - loss: 0.0301 - dice_score: 0.8612 - val_loss: 0.0266 - val_dice_score: 0.8936\n",
      "Epoch 16/200\n",
      "575/575 [==============================] - 272s 473ms/step - loss: 0.0274 - dice_score: 0.9034 - val_loss: 0.0427 - val_dice_score: 0.9371\n",
      "Epoch 17/200\n",
      "575/575 [==============================] - 272s 473ms/step - loss: 0.0324 - dice_score: 0.8641 - val_loss: 0.0320 - val_dice_score: 0.8672\n",
      "Epoch 18/200\n",
      "575/575 [==============================] - 272s 473ms/step - loss: 0.0252 - dice_score: 0.9031 - val_loss: 0.0271 - val_dice_score: 0.9206\n",
      "Epoch 19/200\n",
      "575/575 [==============================] - 273s 474ms/step - loss: 0.0306 - dice_score: 0.8820 - val_loss: 0.0579 - val_dice_score: 0.8862\n",
      "Epoch 20/200\n",
      "575/575 [==============================] - 272s 473ms/step - loss: 0.0329 - dice_score: 0.8780 - val_loss: 0.0648 - val_dice_score: 0.9107\n",
      "Epoch 21/200\n",
      "575/575 [==============================] - 271s 472ms/step - loss: 0.0272 - dice_score: 0.8741 - val_loss: 0.0372 - val_dice_score: 0.9122\n",
      "Epoch 22/200\n",
      "575/575 [==============================] - 272s 472ms/step - loss: 0.0324 - dice_score: 0.8604 - val_loss: 0.0351 - val_dice_score: 0.9034\n",
      "Epoch 23/200\n",
      "575/575 [==============================] - 272s 472ms/step - loss: 0.0302 - dice_score: 0.8791 - val_loss: 0.0552 - val_dice_score: 0.8978\n",
      "Epoch 24/200\n",
      "575/575 [==============================] - 272s 473ms/step - loss: 0.0289 - dice_score: 0.8603 - val_loss: 0.0445 - val_dice_score: 0.8779\n",
      "Epoch 25/200\n",
      "575/575 [==============================] - 271s 472ms/step - loss: 0.0275 - dice_score: 0.8819 - val_loss: 0.0464 - val_dice_score: 0.8883\n",
      "Epoch 26/200\n",
      "575/575 [==============================] - 272s 472ms/step - loss: 0.0276 - dice_score: 0.8896 - val_loss: 0.0322 - val_dice_score: 0.8601\n",
      "Epoch 27/200\n",
      "575/575 [==============================] - 272s 473ms/step - loss: 0.0282 - dice_score: 0.8892 - val_loss: 0.0701 - val_dice_score: 0.9239\n",
      "Epoch 28/200\n",
      "575/575 [==============================] - 271s 471ms/step - loss: 0.0278 - dice_score: 0.8800 - val_loss: 0.0717 - val_dice_score: 0.9145\n",
      "Epoch 29/200\n",
      "575/575 [==============================] - 271s 471ms/step - loss: 0.0242 - dice_score: 0.9139 - val_loss: 0.0610 - val_dice_score: 0.9489\n",
      "Epoch 30/200\n",
      "575/575 [==============================] - 271s 471ms/step - loss: 0.0327 - dice_score: 0.8525 - val_loss: 0.0462 - val_dice_score: 0.8758\n",
      "Epoch 31/200\n",
      "575/575 [==============================] - 271s 471ms/step - loss: 0.0284 - dice_score: 0.8791 - val_loss: 0.0362 - val_dice_score: 0.9055\n",
      "Epoch 32/200\n",
      "575/575 [==============================] - 271s 472ms/step - loss: 0.0224 - dice_score: 0.9224 - val_loss: 0.0370 - val_dice_score: 0.9324\n",
      "Epoch 33/200\n",
      "575/575 [==============================] - 273s 475ms/step - loss: 0.0241 - dice_score: 0.8998 - val_loss: 0.0579 - val_dice_score: 0.9227\n",
      "Epoch 34/200\n",
      "575/575 [==============================] - 271s 471ms/step - loss: 0.0260 - dice_score: 0.8981 - val_loss: 0.0415 - val_dice_score: 0.9224\n",
      "Epoch 35/200\n",
      "575/575 [==============================] - 271s 471ms/step - loss: 0.0220 - dice_score: 0.9116 - val_loss: 0.0564 - val_dice_score: 0.8930\n",
      "\n",
      "Epoch 00035: ReduceLROnPlateau reducing learning rate to 9.999999747378752e-06.\n",
      "Epoch 36/200\n",
      "575/575 [==============================] - 271s 471ms/step - loss: 0.0221 - dice_score: 0.9057 - val_loss: 0.0425 - val_dice_score: 0.9112\n",
      "Epoch 37/200\n",
      "575/575 [==============================] - 271s 471ms/step - loss: 0.0180 - dice_score: 0.9358 - val_loss: 0.0427 - val_dice_score: 0.9213\n",
      "Epoch 38/200\n",
      "575/575 [==============================] - 270s 470ms/step - loss: 0.0179 - dice_score: 0.9457 - val_loss: 0.0423 - val_dice_score: 0.9271\n",
      "Epoch 39/200\n",
      "575/575 [==============================] - 271s 472ms/step - loss: 0.0175 - dice_score: 0.9443 - val_loss: 0.0386 - val_dice_score: 0.9228\n",
      "Epoch 40/200\n",
      "575/575 [==============================] - 271s 471ms/step - loss: 0.0169 - dice_score: 0.9489 - val_loss: 0.0423 - val_dice_score: 0.9375\n",
      "Epoch 41/200\n",
      "575/575 [==============================] - 272s 473ms/step - loss: 0.0177 - dice_score: 0.9450 - val_loss: 0.0391 - val_dice_score: 0.9276\n",
      "Epoch 42/200\n",
      "575/575 [==============================] - 271s 471ms/step - loss: 0.0168 - dice_score: 0.9481 - val_loss: 0.0415 - val_dice_score: 0.9330\n",
      "Epoch 43/200\n",
      "575/575 [==============================] - 271s 471ms/step - loss: 0.0173 - dice_score: 0.9432 - val_loss: 0.0377 - val_dice_score: 0.9307\n",
      "Epoch 44/200\n",
      "575/575 [==============================] - 272s 472ms/step - loss: 0.0159 - dice_score: 0.9480 - val_loss: 0.0435 - val_dice_score: 0.9280\n",
      "Epoch 45/200\n",
      "575/575 [==============================] - 271s 471ms/step - loss: 0.0173 - dice_score: 0.9462 - val_loss: 0.0378 - val_dice_score: 0.9380\n",
      "Epoch 46/200\n",
      "575/575 [==============================] - 271s 472ms/step - loss: 0.0167 - dice_score: 0.9496 - val_loss: 0.0379 - val_dice_score: 0.9415\n",
      "Epoch 47/200\n",
      " 17/575 [..............................] - ETA: 4:19 - loss: 0.0154 - dice_score: 0.9581"
     ]
    },
    {
     "ename": "KeyboardInterrupt",
     "evalue": "",
     "output_type": "error",
     "traceback": [
      "\u001b[1;31m---------------------------------------------------------------------------\u001b[0m",
      "\u001b[1;31mKeyboardInterrupt\u001b[0m                         Traceback (most recent call last)",
      "\u001b[1;32m<ipython-input-6-9f480d0db0cd>\u001b[0m in \u001b[0;36m<module>\u001b[1;34m\u001b[0m\n\u001b[0;32m      2\u001b[0m \u001b[0mepochs\u001b[0m \u001b[1;33m=\u001b[0m \u001b[1;36m200\u001b[0m\u001b[1;33m\u001b[0m\u001b[1;33m\u001b[0m\u001b[0m\n\u001b[0;32m      3\u001b[0m \u001b[1;33m\u001b[0m\u001b[0m\n\u001b[1;32m----> 4\u001b[1;33m model.fit(\n\u001b[0m\u001b[0;32m      5\u001b[0m     \u001b[0mtrain_data_loader\u001b[0m\u001b[1;33m,\u001b[0m\u001b[1;33m\u001b[0m\u001b[1;33m\u001b[0m\u001b[0m\n\u001b[0;32m      6\u001b[0m     \u001b[0mvalidation_data\u001b[0m\u001b[1;33m=\u001b[0m\u001b[0mvalid_data_loader\u001b[0m\u001b[1;33m,\u001b[0m\u001b[1;33m\u001b[0m\u001b[1;33m\u001b[0m\u001b[0m\n",
      "\u001b[1;32m~\\anaconda3\\lib\\site-packages\\tensorflow\\python\\keras\\engine\\training.py\u001b[0m in \u001b[0;36mfit\u001b[1;34m(self, x, y, batch_size, epochs, verbose, callbacks, validation_split, validation_data, shuffle, class_weight, sample_weight, initial_epoch, steps_per_epoch, validation_steps, validation_batch_size, validation_freq, max_queue_size, workers, use_multiprocessing)\u001b[0m\n\u001b[0;32m   1181\u001b[0m                 _r=1):\n\u001b[0;32m   1182\u001b[0m               \u001b[0mcallbacks\u001b[0m\u001b[1;33m.\u001b[0m\u001b[0mon_train_batch_begin\u001b[0m\u001b[1;33m(\u001b[0m\u001b[0mstep\u001b[0m\u001b[1;33m)\u001b[0m\u001b[1;33m\u001b[0m\u001b[1;33m\u001b[0m\u001b[0m\n\u001b[1;32m-> 1183\u001b[1;33m               \u001b[0mtmp_logs\u001b[0m \u001b[1;33m=\u001b[0m \u001b[0mself\u001b[0m\u001b[1;33m.\u001b[0m\u001b[0mtrain_function\u001b[0m\u001b[1;33m(\u001b[0m\u001b[0miterator\u001b[0m\u001b[1;33m)\u001b[0m\u001b[1;33m\u001b[0m\u001b[1;33m\u001b[0m\u001b[0m\n\u001b[0m\u001b[0;32m   1184\u001b[0m               \u001b[1;32mif\u001b[0m \u001b[0mdata_handler\u001b[0m\u001b[1;33m.\u001b[0m\u001b[0mshould_sync\u001b[0m\u001b[1;33m:\u001b[0m\u001b[1;33m\u001b[0m\u001b[1;33m\u001b[0m\u001b[0m\n\u001b[0;32m   1185\u001b[0m                 \u001b[0mcontext\u001b[0m\u001b[1;33m.\u001b[0m\u001b[0masync_wait\u001b[0m\u001b[1;33m(\u001b[0m\u001b[1;33m)\u001b[0m\u001b[1;33m\u001b[0m\u001b[1;33m\u001b[0m\u001b[0m\n",
      "\u001b[1;32m~\\anaconda3\\lib\\site-packages\\tensorflow\\python\\eager\\def_function.py\u001b[0m in \u001b[0;36m__call__\u001b[1;34m(self, *args, **kwds)\u001b[0m\n\u001b[0;32m    887\u001b[0m \u001b[1;33m\u001b[0m\u001b[0m\n\u001b[0;32m    888\u001b[0m       \u001b[1;32mwith\u001b[0m \u001b[0mOptionalXlaContext\u001b[0m\u001b[1;33m(\u001b[0m\u001b[0mself\u001b[0m\u001b[1;33m.\u001b[0m\u001b[0m_jit_compile\u001b[0m\u001b[1;33m)\u001b[0m\u001b[1;33m:\u001b[0m\u001b[1;33m\u001b[0m\u001b[1;33m\u001b[0m\u001b[0m\n\u001b[1;32m--> 889\u001b[1;33m         \u001b[0mresult\u001b[0m \u001b[1;33m=\u001b[0m \u001b[0mself\u001b[0m\u001b[1;33m.\u001b[0m\u001b[0m_call\u001b[0m\u001b[1;33m(\u001b[0m\u001b[1;33m*\u001b[0m\u001b[0margs\u001b[0m\u001b[1;33m,\u001b[0m \u001b[1;33m**\u001b[0m\u001b[0mkwds\u001b[0m\u001b[1;33m)\u001b[0m\u001b[1;33m\u001b[0m\u001b[1;33m\u001b[0m\u001b[0m\n\u001b[0m\u001b[0;32m    890\u001b[0m \u001b[1;33m\u001b[0m\u001b[0m\n\u001b[0;32m    891\u001b[0m       \u001b[0mnew_tracing_count\u001b[0m \u001b[1;33m=\u001b[0m \u001b[0mself\u001b[0m\u001b[1;33m.\u001b[0m\u001b[0mexperimental_get_tracing_count\u001b[0m\u001b[1;33m(\u001b[0m\u001b[1;33m)\u001b[0m\u001b[1;33m\u001b[0m\u001b[1;33m\u001b[0m\u001b[0m\n",
      "\u001b[1;32m~\\anaconda3\\lib\\site-packages\\tensorflow\\python\\eager\\def_function.py\u001b[0m in \u001b[0;36m_call\u001b[1;34m(self, *args, **kwds)\u001b[0m\n\u001b[0;32m    915\u001b[0m       \u001b[1;31m# In this case we have created variables on the first call, so we run the\u001b[0m\u001b[1;33m\u001b[0m\u001b[1;33m\u001b[0m\u001b[1;33m\u001b[0m\u001b[0m\n\u001b[0;32m    916\u001b[0m       \u001b[1;31m# defunned version which is guaranteed to never create variables.\u001b[0m\u001b[1;33m\u001b[0m\u001b[1;33m\u001b[0m\u001b[1;33m\u001b[0m\u001b[0m\n\u001b[1;32m--> 917\u001b[1;33m       \u001b[1;32mreturn\u001b[0m \u001b[0mself\u001b[0m\u001b[1;33m.\u001b[0m\u001b[0m_stateless_fn\u001b[0m\u001b[1;33m(\u001b[0m\u001b[1;33m*\u001b[0m\u001b[0margs\u001b[0m\u001b[1;33m,\u001b[0m \u001b[1;33m**\u001b[0m\u001b[0mkwds\u001b[0m\u001b[1;33m)\u001b[0m  \u001b[1;31m# pylint: disable=not-callable\u001b[0m\u001b[1;33m\u001b[0m\u001b[1;33m\u001b[0m\u001b[0m\n\u001b[0m\u001b[0;32m    918\u001b[0m     \u001b[1;32melif\u001b[0m \u001b[0mself\u001b[0m\u001b[1;33m.\u001b[0m\u001b[0m_stateful_fn\u001b[0m \u001b[1;32mis\u001b[0m \u001b[1;32mnot\u001b[0m \u001b[1;32mNone\u001b[0m\u001b[1;33m:\u001b[0m\u001b[1;33m\u001b[0m\u001b[1;33m\u001b[0m\u001b[0m\n\u001b[0;32m    919\u001b[0m       \u001b[1;31m# Release the lock early so that multiple threads can perform the call\u001b[0m\u001b[1;33m\u001b[0m\u001b[1;33m\u001b[0m\u001b[1;33m\u001b[0m\u001b[0m\n",
      "\u001b[1;32m~\\anaconda3\\lib\\site-packages\\tensorflow\\python\\eager\\function.py\u001b[0m in \u001b[0;36m__call__\u001b[1;34m(self, *args, **kwargs)\u001b[0m\n\u001b[0;32m   3021\u001b[0m       (graph_function,\n\u001b[0;32m   3022\u001b[0m        filtered_flat_args) = self._maybe_define_function(args, kwargs)\n\u001b[1;32m-> 3023\u001b[1;33m     return graph_function._call_flat(\n\u001b[0m\u001b[0;32m   3024\u001b[0m         filtered_flat_args, captured_inputs=graph_function.captured_inputs)  # pylint: disable=protected-access\n\u001b[0;32m   3025\u001b[0m \u001b[1;33m\u001b[0m\u001b[0m\n",
      "\u001b[1;32m~\\anaconda3\\lib\\site-packages\\tensorflow\\python\\eager\\function.py\u001b[0m in \u001b[0;36m_call_flat\u001b[1;34m(self, args, captured_inputs, cancellation_manager)\u001b[0m\n\u001b[0;32m   1958\u001b[0m         and executing_eagerly):\n\u001b[0;32m   1959\u001b[0m       \u001b[1;31m# No tape is watching; skip to running the function.\u001b[0m\u001b[1;33m\u001b[0m\u001b[1;33m\u001b[0m\u001b[1;33m\u001b[0m\u001b[0m\n\u001b[1;32m-> 1960\u001b[1;33m       return self._build_call_outputs(self._inference_function.call(\n\u001b[0m\u001b[0;32m   1961\u001b[0m           ctx, args, cancellation_manager=cancellation_manager))\n\u001b[0;32m   1962\u001b[0m     forward_backward = self._select_forward_and_backward_functions(\n",
      "\u001b[1;32m~\\anaconda3\\lib\\site-packages\\tensorflow\\python\\eager\\function.py\u001b[0m in \u001b[0;36mcall\u001b[1;34m(self, ctx, args, cancellation_manager)\u001b[0m\n\u001b[0;32m    589\u001b[0m       \u001b[1;32mwith\u001b[0m \u001b[0m_InterpolateFunctionError\u001b[0m\u001b[1;33m(\u001b[0m\u001b[0mself\u001b[0m\u001b[1;33m)\u001b[0m\u001b[1;33m:\u001b[0m\u001b[1;33m\u001b[0m\u001b[1;33m\u001b[0m\u001b[0m\n\u001b[0;32m    590\u001b[0m         \u001b[1;32mif\u001b[0m \u001b[0mcancellation_manager\u001b[0m \u001b[1;32mis\u001b[0m \u001b[1;32mNone\u001b[0m\u001b[1;33m:\u001b[0m\u001b[1;33m\u001b[0m\u001b[1;33m\u001b[0m\u001b[0m\n\u001b[1;32m--> 591\u001b[1;33m           outputs = execute.execute(\n\u001b[0m\u001b[0;32m    592\u001b[0m               \u001b[0mstr\u001b[0m\u001b[1;33m(\u001b[0m\u001b[0mself\u001b[0m\u001b[1;33m.\u001b[0m\u001b[0msignature\u001b[0m\u001b[1;33m.\u001b[0m\u001b[0mname\u001b[0m\u001b[1;33m)\u001b[0m\u001b[1;33m,\u001b[0m\u001b[1;33m\u001b[0m\u001b[1;33m\u001b[0m\u001b[0m\n\u001b[0;32m    593\u001b[0m               \u001b[0mnum_outputs\u001b[0m\u001b[1;33m=\u001b[0m\u001b[0mself\u001b[0m\u001b[1;33m.\u001b[0m\u001b[0m_num_outputs\u001b[0m\u001b[1;33m,\u001b[0m\u001b[1;33m\u001b[0m\u001b[1;33m\u001b[0m\u001b[0m\n",
      "\u001b[1;32m~\\anaconda3\\lib\\site-packages\\tensorflow\\python\\eager\\execute.py\u001b[0m in \u001b[0;36mquick_execute\u001b[1;34m(op_name, num_outputs, inputs, attrs, ctx, name)\u001b[0m\n\u001b[0;32m     57\u001b[0m   \u001b[1;32mtry\u001b[0m\u001b[1;33m:\u001b[0m\u001b[1;33m\u001b[0m\u001b[1;33m\u001b[0m\u001b[0m\n\u001b[0;32m     58\u001b[0m     \u001b[0mctx\u001b[0m\u001b[1;33m.\u001b[0m\u001b[0mensure_initialized\u001b[0m\u001b[1;33m(\u001b[0m\u001b[1;33m)\u001b[0m\u001b[1;33m\u001b[0m\u001b[1;33m\u001b[0m\u001b[0m\n\u001b[1;32m---> 59\u001b[1;33m     tensors = pywrap_tfe.TFE_Py_Execute(ctx._handle, device_name, op_name,\n\u001b[0m\u001b[0;32m     60\u001b[0m                                         inputs, attrs, num_outputs)\n\u001b[0;32m     61\u001b[0m   \u001b[1;32mexcept\u001b[0m \u001b[0mcore\u001b[0m\u001b[1;33m.\u001b[0m\u001b[0m_NotOkStatusException\u001b[0m \u001b[1;32mas\u001b[0m \u001b[0me\u001b[0m\u001b[1;33m:\u001b[0m\u001b[1;33m\u001b[0m\u001b[1;33m\u001b[0m\u001b[0m\n",
      "\u001b[1;31mKeyboardInterrupt\u001b[0m: "
     ]
    }
   ],
   "source": [
    "start_epoch = 0\n",
    "epochs = 200\n",
    "\n",
    "model.fit(\n",
    "    train_data_loader,\n",
    "    validation_data=valid_data_loader,\n",
    "    epochs=epochs,\n",
    "    callbacks=[reduceLROnPlat, save_c, csv_logger, make_trainable_callback],\n",
    "    initial_epoch=start_epoch\n",
    ")"
   ]
  },
  {
   "cell_type": "code",
   "execution_count": 6,
   "metadata": {},
   "outputs": [
    {
     "name": "stdout",
     "output_type": "stream",
     "text": [
      "1111/1111 [==============================] - 51s 39ms/step - loss: 0.0346 - dice_score: 0.9452\n"
     ]
    },
    {
     "data": {
      "text/plain": [
       "[0.034591421484947205, 0.9451596736907959]"
      ]
     },
     "execution_count": 6,
     "metadata": {},
     "output_type": "execute_result"
    }
   ],
   "source": [
    "model.load_weights(\"./results/segmentation/glomerulus_0.65_1024_remove_peel_split_man/(512,512)/proportional_dice_focal_boundary_loss/blur/weights_0.0386_0.0131_64.hdf5\")\n",
    "model.evaluate(test_data_loader)"
   ]
  },
  {
   "cell_type": "code",
   "execution_count": 30,
   "metadata": {},
   "outputs": [],
   "source": [
    "temp = K.sum(test_image, axis=[1,2,3])\n",
    "temp = K.expand_dims(temp, axis=-1)"
   ]
  },
  {
   "cell_type": "code",
   "execution_count": 6,
   "metadata": {},
   "outputs": [],
   "source": [
    "test_image, test_mask = train_data_loader[0]\n",
    "\n",
    "test_image = tf.constant(test_image)\n",
    "predicted_mask = model.predict(test_image)"
   ]
  },
  {
   "cell_type": "code",
   "execution_count": 7,
   "metadata": {},
   "outputs": [],
   "source": [
    "import tensorflow_addons as tfa\n",
    "from tensorflow_addons.image import euclidean_dist_transform\n",
    "from tensorflow.keras import backend as K"
   ]
  },
  {
   "cell_type": "code",
   "execution_count": 69,
   "metadata": {},
   "outputs": [],
   "source": [
    "def calc_dist_map(y_true, epsilon=1e-7):\n",
    "\n",
    "    reverse_y_true = 1 - y_true\n",
    "\n",
    "    y_true_uint8 = K.cast(y_true, dtype=\"uint8\")\n",
    "    reverse_y_true_uint8 = K.cast(reverse_y_true, dtype=\"uint8\")\n",
    "\n",
    "    dist_map = euclidean_dist_transform(y_true_uint8)\n",
    "    reverse_dist_map = euclidean_dist_transform(reverse_y_true_uint8)\n",
    "\n",
    "    total_dist_map = reverse_dist_map * y_true - \\\n",
    "        (dist_map - 1) * reverse_y_true\n",
    "    \n",
    "    total_dist_map = K.abs(total_dist_map)\n",
    "    \n",
    "#     dist_map_max = K.max(total_dist_map, axis=[1,2,3]) + epsilon\n",
    "#     dist_map_max = K.expand_dims(dist_map_max, axis=-1)\n",
    "#     dist_map_max = K.expand_dims(dist_map_max, axis=-1)\n",
    "#     dist_map_max = K.expand_dims(dist_map_max, axis=-1)\n",
    "    \n",
    "#     total_dist_map = total_dist_map / dist_map_max\n",
    "    \n",
    "    return total_dist_map\n",
    "\n",
    "\n",
    "def boundary_loss(y_true, y_pred):\n",
    "    y_true_dist_map = calc_dist_map(y_true)\n",
    "\n",
    "    multipled = y_pred * y_true_dist_map\n",
    "\n",
    "    return K.mean(multipled)\n"
   ]
  },
  {
   "cell_type": "code",
   "execution_count": 71,
   "metadata": {},
   "outputs": [
    {
     "data": {
      "text/plain": [
       "<tf.Tensor: shape=(), dtype=float32, numpy=0.094529435>"
      ]
     },
     "execution_count": 71,
     "metadata": {},
     "output_type": "execute_result"
    }
   ],
   "source": [
    "boundary_loss(temp_mask_tensor, temp_mask_predicted)"
   ]
  },
  {
   "cell_type": "code",
   "execution_count": 52,
   "metadata": {},
   "outputs": [],
   "source": [
    "model.load_weights(\"./results/segmentation/glomerulus_0.65_1024_remove_peel_split_man/(512,512)/proportional_dice_focal_loss/blur/weights_0.0079_0.0038_48.hdf5\")"
   ]
  },
  {
   "cell_type": "code",
   "execution_count": 6,
   "metadata": {},
   "outputs": [
    {
     "name": "stdout",
     "output_type": "stream",
     "text": [
      "ERROR! Session/line number was not unique in database. History logging moved to new session 434\n"
     ]
    }
   ],
   "source": [
    "temp_image, temp_mask = train_data_loader[0]\n",
    "temp_mask_tensor = tf.constant(temp_mask)\n",
    "temp_mask_predicted = model(temp_image)"
   ]
  },
  {
   "cell_type": "markdown",
   "metadata": {},
   "source": [
    "# Unused Code"
   ]
  },
  {
   "cell_type": "code",
   "execution_count": 8,
   "metadata": {
    "scrolled": true
   },
   "outputs": [
    {
     "name": "stdout",
     "output_type": "stream",
     "text": [
      "['epoch', 'dice_score', 'loss', 'lr', 'val_dice_score', 'val_loss']\n"
     ]
    }
   ],
   "source": [
    "import csv\n",
    "\n",
    "with open('./results/segmentation/glomerulus_0.65_1024_remove_peel_split_man/(512,512)/proportional_dice_focal_loss/blur/log.csv') as csv_file:\n",
    "    reader = csv.DictReader(csv_file)\n",
    "    dict_from_csv = {field_name:[] for field_name in reader.fieldnames}\n",
    "    print(reader.fieldnames)\n",
    "    for row in reader:\n",
    "        for filedname in reader.fieldnames:\n",
    "            dict_from_csv[filedname].append(float(row[filedname])) "
   ]
  },
  {
   "cell_type": "code",
   "execution_count": 20,
   "metadata": {},
   "outputs": [
    {
     "data": {
      "image/png": "[encoded data removed]",
      "text/plain": [
       "<Figure size 432x288 with 1 Axes>"
      ]
     },
     "metadata": {
      "needs_background": "light"
     },
     "output_type": "display_data"
    }
   ],
   "source": [
    "from matplotlib import pyplot as plt\n",
    "\n",
    "plt.plot(dict_from_csv[\"loss\"])\n",
    "plt.plot(dict_from_csv[\"val_loss\"])\n",
    "plt.show()"
   ]
  },
  {
   "cell_type": "code",
   "execution_count": 16,
   "metadata": {},
   "outputs": [
    {
     "data": {
      "image/png": "[encoded data removed]",
      "text/plain": [
       "<Figure size 432x288 with 1 Axes>"
      ]
     },
     "metadata": {
      "needs_background": "light"
     },
     "output_type": "display_data"
    }
   ],
   "source": [
    "from matplotlib import pyplot as plt\n",
    "\n",
    "plt.plot(dict_from_csv[\"dice_score\"])\n",
    "plt.plot(dict_from_csv[\"val_dice_score\"])\n",
    "plt.show()"
   ]
  },
  {
   "cell_type": "code",
   "execution_count": null,
   "metadata": {},
   "outputs": [],
   "source": []
  },
  {
   "cell_type": "code",
   "execution_count": null,
   "metadata": {},
   "outputs": [],
   "source": []
  }
 ],
 "metadata": {
  "kernelspec": {
   "display_name": "Python 3",
   "language": "python",
   "name": "python3"
  },
  "language_info": {
   "codemirror_mode": {
    "name": "ipython",
    "version": 3
   },
   "file_extension": ".py",
   "mimetype": "text/x-python",
   "name": "python",
   "nbconvert_exporter": "python",
   "pygments_lexer": "ipython3",
   "version": "3.8.8"
  }
 },
 "nbformat": 4,
 "nbformat_minor": 4
}
